{
 "cells": [
  {
   "cell_type": "code",
   "execution_count": 1,
   "metadata": {},
   "outputs": [],
   "source": [
    "import numpy as np\n",
    "import pandas as pd\n",
    "import math\n",
    "import hashlib\n",
    "import re\n",
    "\n",
    "import scipy.stats as stats\n",
    "import statsmodels.api as sm\n",
    "import statsmodels.formula.api as smf\n",
    "from patsy import dmatrices\n",
    "\n",
    "from sklearn.model_selection import train_test_split\n",
    "from sklearn import metrics\n",
    "from sklearn.linear_model import Lasso\n",
    "\n",
    "import matplotlib\n",
    "import matplotlib.pyplot as plt\n",
    "%matplotlib inline\n",
    "import seaborn as sns"
   ]
  },
  {
   "cell_type": "markdown",
   "metadata": {},
   "source": [
    "# Load Working Dataframe"
   ]
  },
  {
   "cell_type": "code",
   "execution_count": 2,
   "metadata": {},
   "outputs": [
    {
     "data": {
      "text/plain": [
       "(86140, 113)"
      ]
     },
     "execution_count": 2,
     "metadata": {},
     "output_type": "execute_result"
    }
   ],
   "source": [
    "# Load working dataframe\n",
    "df = pd.read_csv('Datasets/working_df.csv')\n",
    "\n",
    "df.shape"
   ]
  },
  {
   "cell_type": "code",
   "execution_count": 3,
   "metadata": {},
   "outputs": [
    {
     "data": {
      "text/plain": [
       "(76581, 113)"
      ]
     },
     "execution_count": 3,
     "metadata": {},
     "output_type": "execute_result"
    }
   ],
   "source": [
    "# Drop passwords leaked 100000 times or more\n",
    "df = df[df['Total'] < 10000]\n",
    "\n",
    "df.shape"
   ]
  },
  {
   "cell_type": "markdown",
   "metadata": {},
   "source": [
    "# EDA"
   ]
  },
  {
   "cell_type": "code",
   "execution_count": 4,
   "metadata": {},
   "outputs": [
    {
     "data": {
      "text/plain": [
       "count    76581.000000\n",
       "mean      2461.055040\n",
       "std       2054.224553\n",
       "min          0.000000\n",
       "25%        938.000000\n",
       "50%       1900.000000\n",
       "75%       3433.000000\n",
       "max       9999.000000\n",
       "Name: Total, dtype: float64"
      ]
     },
     "execution_count": 4,
     "metadata": {},
     "output_type": "execute_result"
    }
   ],
   "source": [
    "df['Total'].describe()"
   ]
  },
  {
   "cell_type": "code",
   "execution_count": 5,
   "metadata": {},
   "outputs": [
    {
     "data": {
      "text/plain": [
       "Index(['Length', 'Length_Pp', 'Only_Let', 'Only_Dig', 'Only_Spc',\n",
       "       'Let_And_Dig', 'Let_And_Spc', 'Dig_And_Spc', 'Date', 'Year', 'Rep_2',\n",
       "       'Rep_3', 'Rep_4', 'Rep_5', 'Rep_6', 'Rep_7', 'Rep_8', 'Rep_9', 'Rep_10',\n",
       "       'Asc_Dig_2', 'Asc_Dig_3', 'Asc_Dig_4', 'Asc_Dig_5', 'Asc_Dig_6',\n",
       "       'Asc_Dig_7', 'Asc_Dig_8', 'Asc_Dig_9', 'Asc_Dig_10', 'Dsc_Dig_2',\n",
       "       'Dsc_Dig_3', 'Dsc_Dig_4', 'Dsc_Dig_5', 'Dsc_Dig_6', 'Dsc_Dig_7',\n",
       "       'Dsc_Dig_8', 'Dsc_Dig_9', 'Dsc_Dig_10', 'Asc_Let_2', 'Asc_Let_3',\n",
       "       'Asc_Let_4', 'Asc_Let_5', 'Asc_Let_6', 'Asc_Let_7', 'Asc_Let_8',\n",
       "       'Asc_Let_9', 'Asc_Let_10', 'Dsc_Let_2', 'Dsc_Let_3', 'Dsc_Let_4',\n",
       "       'Dsc_Let_5', 'Dsc_Let_6', 'Dsc_Let_7', 'Dsc_Let_8', 'Dsc_Let_9',\n",
       "       'Dsc_Let_10'],\n",
       "      dtype='object')"
      ]
     },
     "execution_count": 5,
     "metadata": {},
     "output_type": "execute_result"
    }
   ],
   "source": [
    "# Create list of features\n",
    "ignore = ['Password', 'SHA_1', 'Total', 'Length_Sq', 'Length_Cb',\n",
    "          'Only_Let_Div_Len', 'Only_Dig_Div_Len', 'Only_Spc_Div_Len',\n",
    "          'Let_And_Dig_Div_Len', 'Let_And_Spc_Div_Len', 'Dig_And_Spc_Div_Len',\n",
    "          'Date_Div_Len', 'Year_Div_Len', 'Rep_2_Div_Len', 'Rep_3_Div_Len',\n",
    "          'Rep_4_Div_Len', 'Rep_5_Div_Len', 'Rep_6_Div_Len', 'Rep_7_Div_Len',\n",
    "          'Rep_8_Div_Len', 'Rep_9_Div_Len', 'Rep_10_Div_Len', 'Asc_Dig_2_Div_Len',\n",
    "          'Asc_Dig_3_Div_Len', 'Asc_Dig_4_Div_Len', 'Asc_Dig_5_Div_Len', 'Asc_Dig_6_Div_Len',\n",
    "          'Asc_Dig_7_Div_Len', 'Asc_Dig_8_Div_Len', 'Asc_Dig_9_Div_Len', 'Asc_Dig_10_Div_Len',\n",
    "          'Dsc_Dig_2_Div_Len', 'Dsc_Dig_3_Div_Len', 'Dsc_Dig_4_Div_Len', 'Dsc_Dig_5_Div_Len',\n",
    "          'Dsc_Dig_6_Div_Len', 'Dsc_Dig_7_Div_Len', 'Dsc_Dig_8_Div_Len', 'Dsc_Dig_9_Div_Len',\n",
    "          'Dsc_Dig_10_Div_Len', 'Asc_Let_2_Div_Len', 'Asc_Let_3_Div_Len', 'Asc_Let_4_Div_Len',\n",
    "          'Asc_Let_5_Div_Len', 'Asc_Let_6_Div_Len', 'Asc_Let_7_Div_Len', 'Asc_Let_8_Div_Len',\n",
    "          'Asc_Let_9_Div_Len', 'Asc_Let_10_Div_Len', 'Dsc_Let_2_Div_Len', 'Dsc_Let_3_Div_Len',\n",
    "          'Dsc_Let_4_Div_Len', 'Dsc_Let_5_Div_Len', 'Dsc_Let_6_Div_Len', 'Dsc_Let_7_Div_Len',\n",
    "          'Dsc_Let_8_Div_Len', 'Dsc_Let_9_Div_Len', 'Dsc_Let_10_Div_Len']\n",
    "features = df.drop(columns=ignore, axis=1).keys()\n",
    "features"
   ]
  },
  {
   "cell_type": "code",
   "execution_count": 6,
   "metadata": {},
   "outputs": [],
   "source": [
    "# # Create list of features\n",
    "# ignore = ['Password', 'SHA_1', 'Total']\n",
    "# features = df.drop(columns=ignore, axis=1).keys()\n",
    "# features"
   ]
  },
  {
   "cell_type": "code",
   "execution_count": 7,
   "metadata": {
    "scrolled": true
   },
   "outputs": [],
   "source": [
    "# # Function to create feature pplots\n",
    "# def pplot_features(df, features):\n",
    "#     pp_rows = [features[i:i+4] for i in range(0, len(features), 4)]\n",
    "#     for row in pp_rows:\n",
    "#         pp = sns.pairplot(data=df, y_vars=['Total'], x_vars=row, kind='reg', height=3)\n",
    "#     return None\n",
    "\n",
    "# # Create feature pplots for training df\n",
    "# pplot_features(df, features)"
   ]
  },
  {
   "cell_type": "code",
   "execution_count": 8,
   "metadata": {},
   "outputs": [
    {
     "name": "stderr",
     "output_type": "stream",
     "text": [
      "/Users/eric/opt/anaconda3/lib/python3.7/site-packages/ipykernel_launcher.py:2: UserWarning: Boolean Series key will be reindexed to match DataFrame index.\n",
      "  \n",
      "/Users/eric/opt/anaconda3/lib/python3.7/site-packages/ipykernel_launcher.py:3: UserWarning: Boolean Series key will be reindexed to match DataFrame index.\n",
      "  This is separate from the ipykernel package so we can avoid doing imports until\n"
     ]
    }
   ],
   "source": [
    "# Filters for password length and composition\n",
    "let_dig_spc = (df[df['Only_Let']==0][df['Only_Dig']==0][df['Only_Spc']==0][df['Let_And_Dig']==0]\n",
    "               [df['Let_And_Spc']==0][df['Dig_And_Spc']==0])\n",
    "\n",
    "filt_letdig = df['Let_And_Dig'] == 1\n",
    "filt_letspc = df['Let_And_Spc'] == 1\n",
    "filt_6 = df['Length'] == 6\n",
    "filt_7 = df['Length'] == 7\n",
    "filt_8 = df['Length'] == 8\n",
    "filt_9 = df['Length'] == 9\n",
    "filt_10 = df['Length'] == 10\n",
    "filt_11 = df['Length'] == 11\n",
    "filt_12 = df['Length'] == 12"
   ]
  },
  {
   "cell_type": "code",
   "execution_count": 9,
   "metadata": {},
   "outputs": [],
   "source": [
    "# # Letter and digit passwords by length\n",
    "# print(df[filt_letdig][filt_8]['Total'].mean(), df[filt_letdig][filt_9]['Total'].mean(),\n",
    "#       df[filt_letdig][filt_10]['Total'].mean(), df[filt_letdig][filt_11]['Total'].mean(),\n",
    "#       df[filt_letdig][filt_12]['Total'].mean())"
   ]
  },
  {
   "cell_type": "code",
   "execution_count": 10,
   "metadata": {},
   "outputs": [],
   "source": [
    "# # Letter and special character passwords by length\n",
    "# print(df[filt_letspc][filt_8]['Total'].mean(), df[filt_letspc][filt_9]['Total'].mean(),\n",
    "#       df[filt_letspc][filt_10]['Total'].mean(), df[filt_letspc][filt_11]['Total'].mean(),\n",
    "#       df[filt_letspc][filt_12]['Total'].mean())"
   ]
  },
  {
   "cell_type": "code",
   "execution_count": 11,
   "metadata": {},
   "outputs": [],
   "source": [
    "# # Letter, digit and special character passwords by length\n",
    "# print(let_dig_spc[filt_8]['Total'].mean(), let_dig_spc[filt_9]['Total'].mean(),\n",
    "#       let_dig_spc[filt_10]['Total'].mean(), let_dig_spc[filt_11]['Total'].mean(),\n",
    "#       let_dig_spc[filt_12]['Total'].mean())"
   ]
  },
  {
   "cell_type": "code",
   "execution_count": 12,
   "metadata": {},
   "outputs": [],
   "source": [
    "# # Filters for repeated characters\n",
    "# filt_r2 = df['Rep_2'] = 1\n",
    "# filt_r3 = df['Rep_3'] = 1\n",
    "# filt_r4 = df['Rep_4'] = 1\n",
    "# filt_r5 = df['Rep_5'] = 1\n",
    "# filt_r6 = df['Rep_6'] = 1\n",
    "# filt_r7 = df['Rep_7'] = 1\n",
    "# filt_r8 = df['Rep_8'] = 1"
   ]
  },
  {
   "cell_type": "markdown",
   "metadata": {},
   "source": [
    "# Test/Train Split"
   ]
  },
  {
   "cell_type": "code",
   "execution_count": 13,
   "metadata": {},
   "outputs": [],
   "source": [
    "# Fucntion to split data into test and train data\n",
    "def tt_split(df):\n",
    "    ignore = ['Password', 'SHA_1', 'Total']\n",
    "    Y = df['Total']\n",
    "    for col in ignore:\n",
    "        df = df.drop(columns=col, axis=1)\n",
    "    x_train, x_test, y_train, y_test = train_test_split(df, Y, random_state=22,test_size=0.2)\n",
    "    return x_train, x_test, y_train, y_test\n",
    "\n",
    "# Split training data into test and train data\n",
    "x_train, x_test, y_train, y_test = tt_split(df)"
   ]
  },
  {
   "cell_type": "markdown",
   "metadata": {},
   "source": [
    "# Simple Linear Regression"
   ]
  },
  {
   "cell_type": "code",
   "execution_count": 14,
   "metadata": {},
   "outputs": [
    {
     "name": "stderr",
     "output_type": "stream",
     "text": [
      "/Users/eric/opt/anaconda3/lib/python3.7/site-packages/numpy/core/fromnumeric.py:2495: FutureWarning: Method .ptp is deprecated and will be removed in a future version. Use numpy.ptp instead.\n",
      "  return ptp(axis=axis, out=out, **kwargs)\n",
      "/Users/eric/opt/anaconda3/lib/python3.7/site-packages/statsmodels/base/model.py:1294: RuntimeWarning: invalid value encountered in true_divide\n",
      "  return self.params / self.bse\n",
      "/Users/eric/opt/anaconda3/lib/python3.7/site-packages/scipy/stats/_distn_infrastructure.py:903: RuntimeWarning: invalid value encountered in greater\n",
      "  return (a < x) & (x < b)\n",
      "/Users/eric/opt/anaconda3/lib/python3.7/site-packages/scipy/stats/_distn_infrastructure.py:903: RuntimeWarning: invalid value encountered in less\n",
      "  return (a < x) & (x < b)\n",
      "/Users/eric/opt/anaconda3/lib/python3.7/site-packages/scipy/stats/_distn_infrastructure.py:1912: RuntimeWarning: invalid value encountered in less_equal\n",
      "  cond2 = cond0 & (x <= _a)\n"
     ]
    },
    {
     "data": {
      "text/html": [
       "<table class=\"simpletable\">\n",
       "<caption>OLS Regression Results</caption>\n",
       "<tr>\n",
       "  <th>Dep. Variable:</th>          <td>Total</td>      <th>  R-squared:         </th>  <td>   0.050</td>  \n",
       "</tr>\n",
       "<tr>\n",
       "  <th>Model:</th>                   <td>OLS</td>       <th>  Adj. R-squared:    </th>  <td>   0.048</td>  \n",
       "</tr>\n",
       "<tr>\n",
       "  <th>Method:</th>             <td>Least Squares</td>  <th>  F-statistic:       </th>  <td>   36.71</td>  \n",
       "</tr>\n",
       "<tr>\n",
       "  <th>Date:</th>             <td>Fri, 08 May 2020</td> <th>  Prob (F-statistic):</th>   <td>  0.00</td>   \n",
       "</tr>\n",
       "<tr>\n",
       "  <th>Time:</th>                 <td>12:36:31</td>     <th>  Log-Likelihood:    </th> <td>-5.5277e+05</td>\n",
       "</tr>\n",
       "<tr>\n",
       "  <th>No. Observations:</th>      <td> 61264</td>      <th>  AIC:               </th>  <td>1.106e+06</td> \n",
       "</tr>\n",
       "<tr>\n",
       "  <th>Df Residuals:</th>          <td> 61176</td>      <th>  BIC:               </th>  <td>1.107e+06</td> \n",
       "</tr>\n",
       "<tr>\n",
       "  <th>Df Model:</th>              <td>    87</td>      <th>                     </th>      <td> </td>     \n",
       "</tr>\n",
       "<tr>\n",
       "  <th>Covariance Type:</th>      <td>nonrobust</td>    <th>                     </th>      <td> </td>     \n",
       "</tr>\n",
       "</table>\n",
       "<table class=\"simpletable\">\n",
       "<tr>\n",
       "           <td></td>              <th>coef</th>     <th>std err</th>      <th>t</th>      <th>P>|t|</th>  <th>[0.025</th>    <th>0.975]</th>  \n",
       "</tr>\n",
       "<tr>\n",
       "  <th>const</th>               <td>-6473.0438</td> <td> 3855.196</td> <td>   -1.679</td> <td> 0.093</td> <td> -1.4e+04</td> <td> 1083.150</td>\n",
       "</tr>\n",
       "<tr>\n",
       "  <th>Length</th>              <td> 1134.7225</td> <td>  855.707</td> <td>    1.326</td> <td> 0.185</td> <td> -542.466</td> <td> 2811.911</td>\n",
       "</tr>\n",
       "<tr>\n",
       "  <th>Length_Sq</th>           <td>  -20.0238</td> <td>   60.304</td> <td>   -0.332</td> <td> 0.740</td> <td> -138.219</td> <td>   98.172</td>\n",
       "</tr>\n",
       "<tr>\n",
       "  <th>Length_Cb</th>           <td>   -0.7011</td> <td>    1.546</td> <td>   -0.454</td> <td> 0.650</td> <td>   -3.731</td> <td>    2.328</td>\n",
       "</tr>\n",
       "<tr>\n",
       "  <th>Length_Pp</th>           <td>   56.7361</td> <td>   42.785</td> <td>    1.326</td> <td> 0.185</td> <td>  -27.123</td> <td>  140.596</td>\n",
       "</tr>\n",
       "<tr>\n",
       "  <th>Only_Let</th>            <td>-3300.8556</td> <td> 1524.141</td> <td>   -2.166</td> <td> 0.030</td> <td>-6288.176</td> <td> -313.535</td>\n",
       "</tr>\n",
       "<tr>\n",
       "  <th>Only_Dig</th>            <td>-5925.5984</td> <td> 1529.505</td> <td>   -3.874</td> <td> 0.000</td> <td>-8923.433</td> <td>-2927.764</td>\n",
       "</tr>\n",
       "<tr>\n",
       "  <th>Only_Spc</th>            <td> 8710.0959</td> <td> 2.22e+04</td> <td>    0.392</td> <td> 0.695</td> <td>-3.49e+04</td> <td> 5.23e+04</td>\n",
       "</tr>\n",
       "<tr>\n",
       "  <th>Let_And_Dig</th>         <td>-3853.7225</td> <td> 1526.656</td> <td>   -2.524</td> <td> 0.012</td> <td>-6845.973</td> <td> -861.472</td>\n",
       "</tr>\n",
       "<tr>\n",
       "  <th>Let_And_Spc</th>         <td>-4205.4798</td> <td> 3183.787</td> <td>   -1.321</td> <td> 0.187</td> <td>-1.04e+04</td> <td> 2034.752</td>\n",
       "</tr>\n",
       "<tr>\n",
       "  <th>Dig_And_Spc</th>         <td>-1164.7212</td> <td> 4711.349</td> <td>   -0.247</td> <td> 0.805</td> <td>-1.04e+04</td> <td> 8069.536</td>\n",
       "</tr>\n",
       "<tr>\n",
       "  <th>Date</th>                <td>-1.169e-09</td> <td> 8.91e-10</td> <td>   -1.313</td> <td> 0.189</td> <td>-2.91e-09</td> <td> 5.76e-10</td>\n",
       "</tr>\n",
       "<tr>\n",
       "  <th>Year</th>                <td> -683.4197</td> <td>  862.044</td> <td>   -0.793</td> <td> 0.428</td> <td>-2373.029</td> <td> 1006.190</td>\n",
       "</tr>\n",
       "<tr>\n",
       "  <th>Rep_2</th>               <td>  539.1346</td> <td>  128.382</td> <td>    4.199</td> <td> 0.000</td> <td>  287.506</td> <td>  790.763</td>\n",
       "</tr>\n",
       "<tr>\n",
       "  <th>Rep_3</th>               <td>-1351.3438</td> <td>  326.668</td> <td>   -4.137</td> <td> 0.000</td> <td>-1991.615</td> <td> -711.073</td>\n",
       "</tr>\n",
       "<tr>\n",
       "  <th>Rep_4</th>               <td> 1682.4835</td> <td>  809.076</td> <td>    2.080</td> <td> 0.038</td> <td>   96.692</td> <td> 3268.275</td>\n",
       "</tr>\n",
       "<tr>\n",
       "  <th>Rep_5</th>               <td>-4013.1066</td> <td> 1259.057</td> <td>   -3.187</td> <td> 0.001</td> <td>-6480.862</td> <td>-1545.351</td>\n",
       "</tr>\n",
       "<tr>\n",
       "  <th>Rep_6</th>               <td> -1.55e+04</td> <td> 2440.888</td> <td>   -6.351</td> <td> 0.000</td> <td>-2.03e+04</td> <td>-1.07e+04</td>\n",
       "</tr>\n",
       "<tr>\n",
       "  <th>Rep_7</th>               <td>-9226.8468</td> <td> 5623.290</td> <td>   -1.641</td> <td> 0.101</td> <td>-2.02e+04</td> <td> 1794.816</td>\n",
       "</tr>\n",
       "<tr>\n",
       "  <th>Rep_8</th>               <td>-2.071e+04</td> <td> 1.03e+04</td> <td>   -2.019</td> <td> 0.043</td> <td>-4.08e+04</td> <td> -608.363</td>\n",
       "</tr>\n",
       "<tr>\n",
       "  <th>Rep_9</th>               <td>  174.3998</td> <td>  468.320</td> <td>    0.372</td> <td> 0.710</td> <td> -743.509</td> <td> 1092.309</td>\n",
       "</tr>\n",
       "<tr>\n",
       "  <th>Rep_10</th>              <td> 2679.0611</td> <td> 3114.904</td> <td>    0.860</td> <td> 0.390</td> <td>-3426.160</td> <td> 8784.282</td>\n",
       "</tr>\n",
       "<tr>\n",
       "  <th>Asc_Dig_2</th>           <td> -449.7850</td> <td>  168.283</td> <td>   -2.673</td> <td> 0.008</td> <td> -779.620</td> <td> -119.950</td>\n",
       "</tr>\n",
       "<tr>\n",
       "  <th>Asc_Dig_3</th>           <td> 1042.2164</td> <td>  387.435</td> <td>    2.690</td> <td> 0.007</td> <td>  282.843</td> <td> 1801.590</td>\n",
       "</tr>\n",
       "<tr>\n",
       "  <th>Asc_Dig_4</th>           <td>  530.8278</td> <td>  982.642</td> <td>    0.540</td> <td> 0.589</td> <td>-1395.154</td> <td> 2456.810</td>\n",
       "</tr>\n",
       "<tr>\n",
       "  <th>Asc_Dig_5</th>           <td>-3506.3226</td> <td> 1475.136</td> <td>   -2.377</td> <td> 0.017</td> <td>-6397.594</td> <td> -615.052</td>\n",
       "</tr>\n",
       "<tr>\n",
       "  <th>Asc_Dig_6</th>           <td>-1117.4879</td> <td> 2415.345</td> <td>   -0.463</td> <td> 0.644</td> <td>-5851.570</td> <td> 3616.594</td>\n",
       "</tr>\n",
       "<tr>\n",
       "  <th>Asc_Dig_7</th>           <td>-3589.5761</td> <td> 3723.051</td> <td>   -0.964</td> <td> 0.335</td> <td>-1.09e+04</td> <td> 3707.613</td>\n",
       "</tr>\n",
       "<tr>\n",
       "  <th>Asc_Dig_8</th>           <td> -888.7591</td> <td> 4416.700</td> <td>   -0.201</td> <td> 0.841</td> <td>-9545.504</td> <td> 7767.986</td>\n",
       "</tr>\n",
       "<tr>\n",
       "  <th>Asc_Dig_9</th>           <td> 1.119e+04</td> <td> 3908.545</td> <td>    2.863</td> <td> 0.004</td> <td> 3527.695</td> <td> 1.88e+04</td>\n",
       "</tr>\n",
       "<tr>\n",
       "  <th>Asc_Dig_10</th>          <td> 1.062e+04</td> <td> 5606.483</td> <td>    1.894</td> <td> 0.058</td> <td> -368.648</td> <td> 2.16e+04</td>\n",
       "</tr>\n",
       "<tr>\n",
       "  <th>Dsc_Dig_2</th>           <td> 1366.4462</td> <td>  171.636</td> <td>    7.961</td> <td> 0.000</td> <td> 1030.040</td> <td> 1702.852</td>\n",
       "</tr>\n",
       "<tr>\n",
       "  <th>Dsc_Dig_3</th>           <td> 1250.0683</td> <td>  389.982</td> <td>    3.205</td> <td> 0.001</td> <td>  485.703</td> <td> 2014.434</td>\n",
       "</tr>\n",
       "<tr>\n",
       "  <th>Dsc_Dig_4</th>           <td>-3949.9430</td> <td> 2314.360</td> <td>   -1.707</td> <td> 0.088</td> <td>-8486.095</td> <td>  586.209</td>\n",
       "</tr>\n",
       "<tr>\n",
       "  <th>Dsc_Dig_5</th>           <td> 1546.2689</td> <td> 3618.797</td> <td>    0.427</td> <td> 0.669</td> <td>-5546.584</td> <td> 8639.122</td>\n",
       "</tr>\n",
       "<tr>\n",
       "  <th>Dsc_Dig_6</th>           <td>-5178.2419</td> <td> 4900.211</td> <td>   -1.057</td> <td> 0.291</td> <td>-1.48e+04</td> <td> 4426.186</td>\n",
       "</tr>\n",
       "<tr>\n",
       "  <th>Dsc_Dig_7</th>           <td> 1.612e+04</td> <td> 6518.279</td> <td>    2.472</td> <td> 0.013</td> <td> 3339.740</td> <td> 2.89e+04</td>\n",
       "</tr>\n",
       "<tr>\n",
       "  <th>Dsc_Dig_8</th>           <td> -3.24e+04</td> <td> 1.38e+04</td> <td>   -2.356</td> <td> 0.018</td> <td>-5.94e+04</td> <td>-5443.260</td>\n",
       "</tr>\n",
       "<tr>\n",
       "  <th>Dsc_Dig_9</th>           <td> 2.975e+04</td> <td> 1.34e+04</td> <td>    2.229</td> <td> 0.026</td> <td> 3586.668</td> <td> 5.59e+04</td>\n",
       "</tr>\n",
       "<tr>\n",
       "  <th>Dsc_Dig_10</th>          <td> 3.768e-10</td> <td> 3.92e-10</td> <td>    0.962</td> <td> 0.336</td> <td>-3.91e-10</td> <td> 1.14e-09</td>\n",
       "</tr>\n",
       "<tr>\n",
       "  <th>Asc_Let_2</th>           <td>  246.1342</td> <td>  186.348</td> <td>    1.321</td> <td> 0.187</td> <td> -119.109</td> <td>  611.377</td>\n",
       "</tr>\n",
       "<tr>\n",
       "  <th>Asc_Let_3</th>           <td>  648.2944</td> <td>  784.085</td> <td>    0.827</td> <td> 0.408</td> <td> -888.514</td> <td> 2185.102</td>\n",
       "</tr>\n",
       "<tr>\n",
       "  <th>Asc_Let_4</th>           <td> 2.339e+04</td> <td> 1.14e+04</td> <td>    2.051</td> <td> 0.040</td> <td> 1037.070</td> <td> 4.57e+04</td>\n",
       "</tr>\n",
       "<tr>\n",
       "  <th>Asc_Let_5</th>           <td>-1.066e+04</td> <td> 6123.363</td> <td>   -1.741</td> <td> 0.082</td> <td>-2.27e+04</td> <td> 1341.785</td>\n",
       "</tr>\n",
       "<tr>\n",
       "  <th>Asc_Let_6</th>           <td>-5650.8380</td> <td> 7278.164</td> <td>   -0.776</td> <td> 0.438</td> <td>-1.99e+04</td> <td> 8614.383</td>\n",
       "</tr>\n",
       "<tr>\n",
       "  <th>Asc_Let_7</th>           <td>-5282.6445</td> <td> 8319.518</td> <td>   -0.635</td> <td> 0.525</td> <td>-2.16e+04</td> <td>  1.1e+04</td>\n",
       "</tr>\n",
       "<tr>\n",
       "  <th>Asc_Let_8</th>           <td>-5282.6445</td> <td> 8319.518</td> <td>   -0.635</td> <td> 0.525</td> <td>-2.16e+04</td> <td>  1.1e+04</td>\n",
       "</tr>\n",
       "<tr>\n",
       "  <th>Asc_Let_9</th>           <td>-5282.6445</td> <td> 8319.518</td> <td>   -0.635</td> <td> 0.525</td> <td>-2.16e+04</td> <td>  1.1e+04</td>\n",
       "</tr>\n",
       "<tr>\n",
       "  <th>Asc_Let_10</th>          <td>-5282.6445</td> <td> 8319.518</td> <td>   -0.635</td> <td> 0.525</td> <td>-2.16e+04</td> <td>  1.1e+04</td>\n",
       "</tr>\n",
       "<tr>\n",
       "  <th>Dsc_Let_2</th>           <td> -111.3688</td> <td>  192.894</td> <td>   -0.577</td> <td> 0.564</td> <td> -489.441</td> <td>  266.703</td>\n",
       "</tr>\n",
       "<tr>\n",
       "  <th>Dsc_Let_3</th>           <td>-2992.5642</td> <td>  875.281</td> <td>   -3.419</td> <td> 0.001</td> <td>-4708.118</td> <td>-1277.010</td>\n",
       "</tr>\n",
       "<tr>\n",
       "  <th>Dsc_Let_4</th>           <td> -278.6627</td> <td>  648.672</td> <td>   -0.430</td> <td> 0.667</td> <td>-1550.062</td> <td>  992.736</td>\n",
       "</tr>\n",
       "<tr>\n",
       "  <th>Dsc_Let_5</th>           <td> -278.6627</td> <td>  648.672</td> <td>   -0.430</td> <td> 0.667</td> <td>-1550.062</td> <td>  992.736</td>\n",
       "</tr>\n",
       "<tr>\n",
       "  <th>Dsc_Let_6</th>           <td> -278.6627</td> <td>  648.672</td> <td>   -0.430</td> <td> 0.667</td> <td>-1550.062</td> <td>  992.736</td>\n",
       "</tr>\n",
       "<tr>\n",
       "  <th>Dsc_Let_7</th>           <td> -603.7018</td> <td> 2774.044</td> <td>   -0.218</td> <td> 0.828</td> <td>-6040.836</td> <td> 4833.433</td>\n",
       "</tr>\n",
       "<tr>\n",
       "  <th>Dsc_Let_8</th>           <td>  -57.0941</td> <td> 2790.814</td> <td>   -0.020</td> <td> 0.984</td> <td>-5527.097</td> <td> 5412.908</td>\n",
       "</tr>\n",
       "<tr>\n",
       "  <th>Dsc_Let_9</th>           <td> -248.6472</td> <td> 2801.612</td> <td>   -0.089</td> <td> 0.929</td> <td>-5739.815</td> <td> 5242.521</td>\n",
       "</tr>\n",
       "<tr>\n",
       "  <th>Dsc_Let_10</th>          <td> 2.334e-10</td> <td> 9.96e-10</td> <td>    0.234</td> <td> 0.815</td> <td>-1.72e-09</td> <td> 2.19e-09</td>\n",
       "</tr>\n",
       "<tr>\n",
       "  <th>Only_Let_Div_Len</th>    <td> 3.803e+04</td> <td> 1.19e+04</td> <td>    3.185</td> <td> 0.001</td> <td> 1.46e+04</td> <td> 6.14e+04</td>\n",
       "</tr>\n",
       "<tr>\n",
       "  <th>Only_Dig_Div_Len</th>    <td> 5.326e+04</td> <td>  1.2e+04</td> <td>    4.454</td> <td> 0.000</td> <td> 2.98e+04</td> <td> 7.67e+04</td>\n",
       "</tr>\n",
       "<tr>\n",
       "  <th>Only_Spc_Div_Len</th>    <td>-4.835e+04</td> <td> 1.66e+05</td> <td>   -0.292</td> <td> 0.770</td> <td>-3.73e+05</td> <td> 2.76e+05</td>\n",
       "</tr>\n",
       "<tr>\n",
       "  <th>Let_And_Dig_Div_Len</th> <td> 4.598e+04</td> <td>  1.2e+04</td> <td>    3.846</td> <td> 0.000</td> <td> 2.26e+04</td> <td> 6.94e+04</td>\n",
       "</tr>\n",
       "<tr>\n",
       "  <th>Let_And_Spc_Div_Len</th> <td> 4.751e+04</td> <td> 2.25e+04</td> <td>    2.115</td> <td> 0.034</td> <td> 3475.885</td> <td> 9.15e+04</td>\n",
       "</tr>\n",
       "<tr>\n",
       "  <th>Dig_And_Spc_Div_Len</th> <td> 2.737e+04</td> <td> 3.42e+04</td> <td>    0.800</td> <td> 0.424</td> <td>-3.97e+04</td> <td> 9.44e+04</td>\n",
       "</tr>\n",
       "<tr>\n",
       "  <th>Date_Div_Len</th>        <td>-2.986e-11</td> <td> 9.69e-11</td> <td>   -0.308</td> <td> 0.758</td> <td> -2.2e-10</td> <td>  1.6e-10</td>\n",
       "</tr>\n",
       "<tr>\n",
       "  <th>Year_Div_Len</th>        <td>-4360.1610</td> <td> 6957.545</td> <td>   -0.627</td> <td> 0.531</td> <td> -1.8e+04</td> <td> 9276.646</td>\n",
       "</tr>\n",
       "<tr>\n",
       "  <th>Rep_2_Div_Len</th>       <td>-3682.5903</td> <td>  890.683</td> <td>   -4.135</td> <td> 0.000</td> <td>-5428.331</td> <td>-1936.850</td>\n",
       "</tr>\n",
       "<tr>\n",
       "  <th>Rep_3_Div_Len</th>       <td> 8275.1373</td> <td> 2398.212</td> <td>    3.451</td> <td> 0.001</td> <td> 3574.635</td> <td>  1.3e+04</td>\n",
       "</tr>\n",
       "<tr>\n",
       "  <th>Rep_4_Div_Len</th>       <td>-1.616e+04</td> <td> 5362.411</td> <td>   -3.013</td> <td> 0.003</td> <td>-2.67e+04</td> <td>-5649.197</td>\n",
       "</tr>\n",
       "<tr>\n",
       "  <th>Rep_5_Div_Len</th>       <td> 2.436e+04</td> <td> 8365.135</td> <td>    2.912</td> <td> 0.004</td> <td> 7964.895</td> <td> 4.08e+04</td>\n",
       "</tr>\n",
       "<tr>\n",
       "  <th>Rep_6_Div_Len</th>       <td> 1.104e+05</td> <td>  1.8e+04</td> <td>    6.138</td> <td> 0.000</td> <td> 7.51e+04</td> <td> 1.46e+05</td>\n",
       "</tr>\n",
       "<tr>\n",
       "  <th>Rep_7_Div_Len</th>       <td> 8.726e+04</td> <td> 4.18e+04</td> <td>    2.088</td> <td> 0.037</td> <td> 5338.311</td> <td> 1.69e+05</td>\n",
       "</tr>\n",
       "<tr>\n",
       "  <th>Rep_8_Div_Len</th>       <td> 1.986e+05</td> <td> 8.44e+04</td> <td>    2.351</td> <td> 0.019</td> <td> 3.31e+04</td> <td> 3.64e+05</td>\n",
       "</tr>\n",
       "<tr>\n",
       "  <th>Rep_9_Div_Len</th>       <td>   19.3778</td> <td>   52.036</td> <td>    0.372</td> <td> 0.710</td> <td>  -82.612</td> <td>  121.368</td>\n",
       "</tr>\n",
       "<tr>\n",
       "  <th>Rep_10_Div_Len</th>      <td>-7531.7588</td> <td> 3.35e+04</td> <td>   -0.225</td> <td> 0.822</td> <td>-7.32e+04</td> <td> 5.82e+04</td>\n",
       "</tr>\n",
       "<tr>\n",
       "  <th>Asc_Dig_2_Div_Len</th>   <td> 3315.2162</td> <td> 1164.741</td> <td>    2.846</td> <td> 0.004</td> <td> 1032.320</td> <td> 5598.113</td>\n",
       "</tr>\n",
       "<tr>\n",
       "  <th>Asc_Dig_3_Div_Len</th>   <td>-1943.9501</td> <td> 2733.232</td> <td>   -0.711</td> <td> 0.477</td> <td>-7301.093</td> <td> 3413.193</td>\n",
       "</tr>\n",
       "<tr>\n",
       "  <th>Asc_Dig_4_Div_Len</th>   <td>-1973.6460</td> <td> 7169.243</td> <td>   -0.275</td> <td> 0.783</td> <td> -1.6e+04</td> <td> 1.21e+04</td>\n",
       "</tr>\n",
       "<tr>\n",
       "  <th>Asc_Dig_5_Div_Len</th>   <td> 2.756e+04</td> <td> 1.11e+04</td> <td>    2.494</td> <td> 0.013</td> <td> 5898.560</td> <td> 4.92e+04</td>\n",
       "</tr>\n",
       "<tr>\n",
       "  <th>Asc_Dig_6_Div_Len</th>   <td> 1.654e+04</td> <td> 1.97e+04</td> <td>    0.839</td> <td> 0.402</td> <td>-2.21e+04</td> <td> 5.52e+04</td>\n",
       "</tr>\n",
       "<tr>\n",
       "  <th>Asc_Dig_7_Div_Len</th>   <td>  3.92e+04</td> <td> 3.15e+04</td> <td>    1.246</td> <td> 0.213</td> <td>-2.25e+04</td> <td> 1.01e+05</td>\n",
       "</tr>\n",
       "<tr>\n",
       "  <th>Asc_Dig_8_Div_Len</th>   <td> 1.577e+04</td> <td> 4.03e+04</td> <td>    0.391</td> <td> 0.696</td> <td>-6.33e+04</td> <td> 9.48e+04</td>\n",
       "</tr>\n",
       "<tr>\n",
       "  <th>Asc_Dig_9_Div_Len</th>   <td>-1.072e+05</td> <td> 4.04e+04</td> <td>   -2.655</td> <td> 0.008</td> <td>-1.86e+05</td> <td>-2.81e+04</td>\n",
       "</tr>\n",
       "<tr>\n",
       "  <th>Asc_Dig_10_Div_Len</th>  <td>-8.048e+04</td> <td> 7.14e+04</td> <td>   -1.128</td> <td> 0.259</td> <td> -2.2e+05</td> <td> 5.94e+04</td>\n",
       "</tr>\n",
       "<tr>\n",
       "  <th>Dsc_Dig_2_Div_Len</th>   <td>-7445.5311</td> <td> 1194.606</td> <td>   -6.233</td> <td> 0.000</td> <td>-9786.962</td> <td>-5104.100</td>\n",
       "</tr>\n",
       "<tr>\n",
       "  <th>Dsc_Dig_3_Div_Len</th>   <td>-5813.7219</td> <td> 2764.660</td> <td>   -2.103</td> <td> 0.035</td> <td>-1.12e+04</td> <td> -394.980</td>\n",
       "</tr>\n",
       "<tr>\n",
       "  <th>Dsc_Dig_4_Div_Len</th>   <td> 3.111e+04</td> <td> 1.84e+04</td> <td>    1.692</td> <td> 0.091</td> <td>-4937.688</td> <td> 6.72e+04</td>\n",
       "</tr>\n",
       "<tr>\n",
       "  <th>Dsc_Dig_5_Div_Len</th>   <td>-4600.4869</td> <td> 2.61e+04</td> <td>   -0.177</td> <td> 0.860</td> <td>-5.57e+04</td> <td> 4.65e+04</td>\n",
       "</tr>\n",
       "<tr>\n",
       "  <th>Dsc_Dig_6_Div_Len</th>   <td> 3.303e+04</td> <td> 3.55e+04</td> <td>    0.931</td> <td> 0.352</td> <td>-3.65e+04</td> <td> 1.03e+05</td>\n",
       "</tr>\n",
       "<tr>\n",
       "  <th>Dsc_Dig_7_Div_Len</th>   <td> -1.21e+05</td> <td> 5.18e+04</td> <td>   -2.336</td> <td> 0.020</td> <td>-2.23e+05</td> <td>-1.95e+04</td>\n",
       "</tr>\n",
       "<tr>\n",
       "  <th>Dsc_Dig_8_Div_Len</th>   <td> 2.718e+05</td> <td> 1.21e+05</td> <td>    2.247</td> <td> 0.025</td> <td> 3.47e+04</td> <td> 5.09e+05</td>\n",
       "</tr>\n",
       "<tr>\n",
       "  <th>Dsc_Dig_9_Div_Len</th>   <td>-2.667e+05</td> <td> 1.21e+05</td> <td>   -2.196</td> <td> 0.028</td> <td>-5.05e+05</td> <td>-2.87e+04</td>\n",
       "</tr>\n",
       "<tr>\n",
       "  <th>Dsc_Dig_10_Div_Len</th>  <td>         0</td> <td>        0</td> <td>      nan</td> <td>   nan</td> <td>        0</td> <td>        0</td>\n",
       "</tr>\n",
       "<tr>\n",
       "  <th>Asc_Let_2_Div_Len</th>   <td>-1782.4925</td> <td> 1319.901</td> <td>   -1.350</td> <td> 0.177</td> <td>-4369.503</td> <td>  804.518</td>\n",
       "</tr>\n",
       "<tr>\n",
       "  <th>Asc_Let_3_Div_Len</th>   <td>-5949.7981</td> <td> 5670.207</td> <td>   -1.049</td> <td> 0.294</td> <td>-1.71e+04</td> <td> 5163.823</td>\n",
       "</tr>\n",
       "<tr>\n",
       "  <th>Asc_Let_4_Div_Len</th>   <td>-1.639e+05</td> <td> 8.97e+04</td> <td>   -1.827</td> <td> 0.068</td> <td> -3.4e+05</td> <td>  1.2e+04</td>\n",
       "</tr>\n",
       "<tr>\n",
       "  <th>Asc_Let_5_Div_Len</th>   <td> 5.701e+04</td> <td>    5e+04</td> <td>    1.141</td> <td> 0.254</td> <td>-4.09e+04</td> <td> 1.55e+05</td>\n",
       "</tr>\n",
       "<tr>\n",
       "  <th>Asc_Let_6_Div_Len</th>   <td> 5.772e+04</td> <td> 4.98e+04</td> <td>    1.160</td> <td> 0.246</td> <td>-3.98e+04</td> <td> 1.55e+05</td>\n",
       "</tr>\n",
       "<tr>\n",
       "  <th>Asc_Let_7_Div_Len</th>   <td>  5.38e+04</td> <td> 9.43e+04</td> <td>    0.570</td> <td> 0.568</td> <td>-1.31e+05</td> <td> 2.39e+05</td>\n",
       "</tr>\n",
       "<tr>\n",
       "  <th>Asc_Let_8_Div_Len</th>   <td>  5.38e+04</td> <td> 9.43e+04</td> <td>    0.570</td> <td> 0.568</td> <td>-1.31e+05</td> <td> 2.39e+05</td>\n",
       "</tr>\n",
       "<tr>\n",
       "  <th>Asc_Let_9_Div_Len</th>   <td>  5.38e+04</td> <td> 9.43e+04</td> <td>    0.570</td> <td> 0.568</td> <td>-1.31e+05</td> <td> 2.39e+05</td>\n",
       "</tr>\n",
       "<tr>\n",
       "  <th>Asc_Let_10_Div_Len</th>  <td>  5.38e+04</td> <td> 9.43e+04</td> <td>    0.570</td> <td> 0.568</td> <td>-1.31e+05</td> <td> 2.39e+05</td>\n",
       "</tr>\n",
       "<tr>\n",
       "  <th>Dsc_Let_2_Div_Len</th>   <td>  790.8344</td> <td> 1355.150</td> <td>    0.584</td> <td> 0.560</td> <td>-1865.264</td> <td> 3446.933</td>\n",
       "</tr>\n",
       "<tr>\n",
       "  <th>Dsc_Let_3_Div_Len</th>   <td> 2.077e+04</td> <td> 6396.135</td> <td>    3.248</td> <td> 0.001</td> <td> 8236.245</td> <td> 3.33e+04</td>\n",
       "</tr>\n",
       "<tr>\n",
       "  <th>Dsc_Let_4_Div_Len</th>   <td>  -27.5970</td> <td>  157.824</td> <td>   -0.175</td> <td> 0.861</td> <td> -336.932</td> <td>  281.738</td>\n",
       "</tr>\n",
       "<tr>\n",
       "  <th>Dsc_Let_5_Div_Len</th>   <td>  -27.5970</td> <td>  157.824</td> <td>   -0.175</td> <td> 0.861</td> <td> -336.932</td> <td>  281.738</td>\n",
       "</tr>\n",
       "<tr>\n",
       "  <th>Dsc_Let_6_Div_Len</th>   <td>  -27.5970</td> <td>  157.824</td> <td>   -0.175</td> <td> 0.861</td> <td> -336.932</td> <td>  281.738</td>\n",
       "</tr>\n",
       "<tr>\n",
       "  <th>Dsc_Let_7_Div_Len</th>   <td>  -81.7701</td> <td>  422.777</td> <td>   -0.193</td> <td> 0.847</td> <td> -910.414</td> <td>  746.874</td>\n",
       "</tr>\n",
       "<tr>\n",
       "  <th>Dsc_Let_8_Div_Len</th>   <td>   -3.6833</td> <td>  369.766</td> <td>   -0.010</td> <td> 0.992</td> <td> -728.426</td> <td>  721.059</td>\n",
       "</tr>\n",
       "<tr>\n",
       "  <th>Dsc_Let_9_Div_Len</th>   <td>  -27.6275</td> <td>  311.290</td> <td>   -0.089</td> <td> 0.929</td> <td> -637.757</td> <td>  582.502</td>\n",
       "</tr>\n",
       "<tr>\n",
       "  <th>Dsc_Let_10_Div_Len</th>  <td>         0</td> <td>        0</td> <td>      nan</td> <td>   nan</td> <td>        0</td> <td>        0</td>\n",
       "</tr>\n",
       "</table>\n",
       "<table class=\"simpletable\">\n",
       "<tr>\n",
       "  <th>Omnibus:</th>       <td>11405.909</td> <th>  Durbin-Watson:     </th> <td>   2.002</td> \n",
       "</tr>\n",
       "<tr>\n",
       "  <th>Prob(Omnibus):</th>  <td> 0.000</td>   <th>  Jarque-Bera (JB):  </th> <td>20321.225</td>\n",
       "</tr>\n",
       "<tr>\n",
       "  <th>Skew:</th>           <td> 1.194</td>   <th>  Prob(JB):          </th> <td>    0.00</td> \n",
       "</tr>\n",
       "<tr>\n",
       "  <th>Kurtosis:</th>       <td> 4.502</td>   <th>  Cond. No.          </th> <td>1.16e+16</td> \n",
       "</tr>\n",
       "</table><br/><br/>Warnings:<br/>[1] Standard Errors assume that the covariance matrix of the errors is correctly specified.<br/>[2] The smallest eigenvalue is 9.73e-23. This might indicate that there are<br/>strong multicollinearity problems or that the design matrix is singular."
      ],
      "text/plain": [
       "<class 'statsmodels.iolib.summary.Summary'>\n",
       "\"\"\"\n",
       "                            OLS Regression Results                            \n",
       "==============================================================================\n",
       "Dep. Variable:                  Total   R-squared:                       0.050\n",
       "Model:                            OLS   Adj. R-squared:                  0.048\n",
       "Method:                 Least Squares   F-statistic:                     36.71\n",
       "Date:                Fri, 08 May 2020   Prob (F-statistic):               0.00\n",
       "Time:                        12:36:31   Log-Likelihood:            -5.5277e+05\n",
       "No. Observations:               61264   AIC:                         1.106e+06\n",
       "Df Residuals:                   61176   BIC:                         1.107e+06\n",
       "Df Model:                          87                                         \n",
       "Covariance Type:            nonrobust                                         \n",
       "=======================================================================================\n",
       "                          coef    std err          t      P>|t|      [0.025      0.975]\n",
       "---------------------------------------------------------------------------------------\n",
       "const               -6473.0438   3855.196     -1.679      0.093    -1.4e+04    1083.150\n",
       "Length               1134.7225    855.707      1.326      0.185    -542.466    2811.911\n",
       "Length_Sq             -20.0238     60.304     -0.332      0.740    -138.219      98.172\n",
       "Length_Cb              -0.7011      1.546     -0.454      0.650      -3.731       2.328\n",
       "Length_Pp              56.7361     42.785      1.326      0.185     -27.123     140.596\n",
       "Only_Let            -3300.8556   1524.141     -2.166      0.030   -6288.176    -313.535\n",
       "Only_Dig            -5925.5984   1529.505     -3.874      0.000   -8923.433   -2927.764\n",
       "Only_Spc             8710.0959   2.22e+04      0.392      0.695   -3.49e+04    5.23e+04\n",
       "Let_And_Dig         -3853.7225   1526.656     -2.524      0.012   -6845.973    -861.472\n",
       "Let_And_Spc         -4205.4798   3183.787     -1.321      0.187   -1.04e+04    2034.752\n",
       "Dig_And_Spc         -1164.7212   4711.349     -0.247      0.805   -1.04e+04    8069.536\n",
       "Date                -1.169e-09   8.91e-10     -1.313      0.189   -2.91e-09    5.76e-10\n",
       "Year                 -683.4197    862.044     -0.793      0.428   -2373.029    1006.190\n",
       "Rep_2                 539.1346    128.382      4.199      0.000     287.506     790.763\n",
       "Rep_3               -1351.3438    326.668     -4.137      0.000   -1991.615    -711.073\n",
       "Rep_4                1682.4835    809.076      2.080      0.038      96.692    3268.275\n",
       "Rep_5               -4013.1066   1259.057     -3.187      0.001   -6480.862   -1545.351\n",
       "Rep_6                -1.55e+04   2440.888     -6.351      0.000   -2.03e+04   -1.07e+04\n",
       "Rep_7               -9226.8468   5623.290     -1.641      0.101   -2.02e+04    1794.816\n",
       "Rep_8               -2.071e+04   1.03e+04     -2.019      0.043   -4.08e+04    -608.363\n",
       "Rep_9                 174.3998    468.320      0.372      0.710    -743.509    1092.309\n",
       "Rep_10               2679.0611   3114.904      0.860      0.390   -3426.160    8784.282\n",
       "Asc_Dig_2            -449.7850    168.283     -2.673      0.008    -779.620    -119.950\n",
       "Asc_Dig_3            1042.2164    387.435      2.690      0.007     282.843    1801.590\n",
       "Asc_Dig_4             530.8278    982.642      0.540      0.589   -1395.154    2456.810\n",
       "Asc_Dig_5           -3506.3226   1475.136     -2.377      0.017   -6397.594    -615.052\n",
       "Asc_Dig_6           -1117.4879   2415.345     -0.463      0.644   -5851.570    3616.594\n",
       "Asc_Dig_7           -3589.5761   3723.051     -0.964      0.335   -1.09e+04    3707.613\n",
       "Asc_Dig_8            -888.7591   4416.700     -0.201      0.841   -9545.504    7767.986\n",
       "Asc_Dig_9            1.119e+04   3908.545      2.863      0.004    3527.695    1.88e+04\n",
       "Asc_Dig_10           1.062e+04   5606.483      1.894      0.058    -368.648    2.16e+04\n",
       "Dsc_Dig_2            1366.4462    171.636      7.961      0.000    1030.040    1702.852\n",
       "Dsc_Dig_3            1250.0683    389.982      3.205      0.001     485.703    2014.434\n",
       "Dsc_Dig_4           -3949.9430   2314.360     -1.707      0.088   -8486.095     586.209\n",
       "Dsc_Dig_5            1546.2689   3618.797      0.427      0.669   -5546.584    8639.122\n",
       "Dsc_Dig_6           -5178.2419   4900.211     -1.057      0.291   -1.48e+04    4426.186\n",
       "Dsc_Dig_7            1.612e+04   6518.279      2.472      0.013    3339.740    2.89e+04\n",
       "Dsc_Dig_8            -3.24e+04   1.38e+04     -2.356      0.018   -5.94e+04   -5443.260\n",
       "Dsc_Dig_9            2.975e+04   1.34e+04      2.229      0.026    3586.668    5.59e+04\n",
       "Dsc_Dig_10           3.768e-10   3.92e-10      0.962      0.336   -3.91e-10    1.14e-09\n",
       "Asc_Let_2             246.1342    186.348      1.321      0.187    -119.109     611.377\n",
       "Asc_Let_3             648.2944    784.085      0.827      0.408    -888.514    2185.102\n",
       "Asc_Let_4            2.339e+04   1.14e+04      2.051      0.040    1037.070    4.57e+04\n",
       "Asc_Let_5           -1.066e+04   6123.363     -1.741      0.082   -2.27e+04    1341.785\n",
       "Asc_Let_6           -5650.8380   7278.164     -0.776      0.438   -1.99e+04    8614.383\n",
       "Asc_Let_7           -5282.6445   8319.518     -0.635      0.525   -2.16e+04     1.1e+04\n",
       "Asc_Let_8           -5282.6445   8319.518     -0.635      0.525   -2.16e+04     1.1e+04\n",
       "Asc_Let_9           -5282.6445   8319.518     -0.635      0.525   -2.16e+04     1.1e+04\n",
       "Asc_Let_10          -5282.6445   8319.518     -0.635      0.525   -2.16e+04     1.1e+04\n",
       "Dsc_Let_2            -111.3688    192.894     -0.577      0.564    -489.441     266.703\n",
       "Dsc_Let_3           -2992.5642    875.281     -3.419      0.001   -4708.118   -1277.010\n",
       "Dsc_Let_4            -278.6627    648.672     -0.430      0.667   -1550.062     992.736\n",
       "Dsc_Let_5            -278.6627    648.672     -0.430      0.667   -1550.062     992.736\n",
       "Dsc_Let_6            -278.6627    648.672     -0.430      0.667   -1550.062     992.736\n",
       "Dsc_Let_7            -603.7018   2774.044     -0.218      0.828   -6040.836    4833.433\n",
       "Dsc_Let_8             -57.0941   2790.814     -0.020      0.984   -5527.097    5412.908\n",
       "Dsc_Let_9            -248.6472   2801.612     -0.089      0.929   -5739.815    5242.521\n",
       "Dsc_Let_10           2.334e-10   9.96e-10      0.234      0.815   -1.72e-09    2.19e-09\n",
       "Only_Let_Div_Len     3.803e+04   1.19e+04      3.185      0.001    1.46e+04    6.14e+04\n",
       "Only_Dig_Div_Len     5.326e+04    1.2e+04      4.454      0.000    2.98e+04    7.67e+04\n",
       "Only_Spc_Div_Len    -4.835e+04   1.66e+05     -0.292      0.770   -3.73e+05    2.76e+05\n",
       "Let_And_Dig_Div_Len  4.598e+04    1.2e+04      3.846      0.000    2.26e+04    6.94e+04\n",
       "Let_And_Spc_Div_Len  4.751e+04   2.25e+04      2.115      0.034    3475.885    9.15e+04\n",
       "Dig_And_Spc_Div_Len  2.737e+04   3.42e+04      0.800      0.424   -3.97e+04    9.44e+04\n",
       "Date_Div_Len        -2.986e-11   9.69e-11     -0.308      0.758    -2.2e-10     1.6e-10\n",
       "Year_Div_Len        -4360.1610   6957.545     -0.627      0.531    -1.8e+04    9276.646\n",
       "Rep_2_Div_Len       -3682.5903    890.683     -4.135      0.000   -5428.331   -1936.850\n",
       "Rep_3_Div_Len        8275.1373   2398.212      3.451      0.001    3574.635     1.3e+04\n",
       "Rep_4_Div_Len       -1.616e+04   5362.411     -3.013      0.003   -2.67e+04   -5649.197\n",
       "Rep_5_Div_Len        2.436e+04   8365.135      2.912      0.004    7964.895    4.08e+04\n",
       "Rep_6_Div_Len        1.104e+05    1.8e+04      6.138      0.000    7.51e+04    1.46e+05\n",
       "Rep_7_Div_Len        8.726e+04   4.18e+04      2.088      0.037    5338.311    1.69e+05\n",
       "Rep_8_Div_Len        1.986e+05   8.44e+04      2.351      0.019    3.31e+04    3.64e+05\n",
       "Rep_9_Div_Len          19.3778     52.036      0.372      0.710     -82.612     121.368\n",
       "Rep_10_Div_Len      -7531.7588   3.35e+04     -0.225      0.822   -7.32e+04    5.82e+04\n",
       "Asc_Dig_2_Div_Len    3315.2162   1164.741      2.846      0.004    1032.320    5598.113\n",
       "Asc_Dig_3_Div_Len   -1943.9501   2733.232     -0.711      0.477   -7301.093    3413.193\n",
       "Asc_Dig_4_Div_Len   -1973.6460   7169.243     -0.275      0.783    -1.6e+04    1.21e+04\n",
       "Asc_Dig_5_Div_Len    2.756e+04   1.11e+04      2.494      0.013    5898.560    4.92e+04\n",
       "Asc_Dig_6_Div_Len    1.654e+04   1.97e+04      0.839      0.402   -2.21e+04    5.52e+04\n",
       "Asc_Dig_7_Div_Len     3.92e+04   3.15e+04      1.246      0.213   -2.25e+04    1.01e+05\n",
       "Asc_Dig_8_Div_Len    1.577e+04   4.03e+04      0.391      0.696   -6.33e+04    9.48e+04\n",
       "Asc_Dig_9_Div_Len   -1.072e+05   4.04e+04     -2.655      0.008   -1.86e+05   -2.81e+04\n",
       "Asc_Dig_10_Div_Len  -8.048e+04   7.14e+04     -1.128      0.259    -2.2e+05    5.94e+04\n",
       "Dsc_Dig_2_Div_Len   -7445.5311   1194.606     -6.233      0.000   -9786.962   -5104.100\n",
       "Dsc_Dig_3_Div_Len   -5813.7219   2764.660     -2.103      0.035   -1.12e+04    -394.980\n",
       "Dsc_Dig_4_Div_Len    3.111e+04   1.84e+04      1.692      0.091   -4937.688    6.72e+04\n",
       "Dsc_Dig_5_Div_Len   -4600.4869   2.61e+04     -0.177      0.860   -5.57e+04    4.65e+04\n",
       "Dsc_Dig_6_Div_Len    3.303e+04   3.55e+04      0.931      0.352   -3.65e+04    1.03e+05\n",
       "Dsc_Dig_7_Div_Len    -1.21e+05   5.18e+04     -2.336      0.020   -2.23e+05   -1.95e+04\n",
       "Dsc_Dig_8_Div_Len    2.718e+05   1.21e+05      2.247      0.025    3.47e+04    5.09e+05\n",
       "Dsc_Dig_9_Div_Len   -2.667e+05   1.21e+05     -2.196      0.028   -5.05e+05   -2.87e+04\n",
       "Dsc_Dig_10_Div_Len           0          0        nan        nan           0           0\n",
       "Asc_Let_2_Div_Len   -1782.4925   1319.901     -1.350      0.177   -4369.503     804.518\n",
       "Asc_Let_3_Div_Len   -5949.7981   5670.207     -1.049      0.294   -1.71e+04    5163.823\n",
       "Asc_Let_4_Div_Len   -1.639e+05   8.97e+04     -1.827      0.068    -3.4e+05     1.2e+04\n",
       "Asc_Let_5_Div_Len    5.701e+04      5e+04      1.141      0.254   -4.09e+04    1.55e+05\n",
       "Asc_Let_6_Div_Len    5.772e+04   4.98e+04      1.160      0.246   -3.98e+04    1.55e+05\n",
       "Asc_Let_7_Div_Len     5.38e+04   9.43e+04      0.570      0.568   -1.31e+05    2.39e+05\n",
       "Asc_Let_8_Div_Len     5.38e+04   9.43e+04      0.570      0.568   -1.31e+05    2.39e+05\n",
       "Asc_Let_9_Div_Len     5.38e+04   9.43e+04      0.570      0.568   -1.31e+05    2.39e+05\n",
       "Asc_Let_10_Div_Len    5.38e+04   9.43e+04      0.570      0.568   -1.31e+05    2.39e+05\n",
       "Dsc_Let_2_Div_Len     790.8344   1355.150      0.584      0.560   -1865.264    3446.933\n",
       "Dsc_Let_3_Div_Len    2.077e+04   6396.135      3.248      0.001    8236.245    3.33e+04\n",
       "Dsc_Let_4_Div_Len     -27.5970    157.824     -0.175      0.861    -336.932     281.738\n",
       "Dsc_Let_5_Div_Len     -27.5970    157.824     -0.175      0.861    -336.932     281.738\n",
       "Dsc_Let_6_Div_Len     -27.5970    157.824     -0.175      0.861    -336.932     281.738\n",
       "Dsc_Let_7_Div_Len     -81.7701    422.777     -0.193      0.847    -910.414     746.874\n",
       "Dsc_Let_8_Div_Len      -3.6833    369.766     -0.010      0.992    -728.426     721.059\n",
       "Dsc_Let_9_Div_Len     -27.6275    311.290     -0.089      0.929    -637.757     582.502\n",
       "Dsc_Let_10_Div_Len           0          0        nan        nan           0           0\n",
       "==============================================================================\n",
       "Omnibus:                    11405.909   Durbin-Watson:                   2.002\n",
       "Prob(Omnibus):                  0.000   Jarque-Bera (JB):            20321.225\n",
       "Skew:                           1.194   Prob(JB):                         0.00\n",
       "Kurtosis:                       4.502   Cond. No.                     1.16e+16\n",
       "==============================================================================\n",
       "\n",
       "Warnings:\n",
       "[1] Standard Errors assume that the covariance matrix of the errors is correctly specified.\n",
       "[2] The smallest eigenvalue is 9.73e-23. This might indicate that there are\n",
       "strong multicollinearity problems or that the design matrix is singular.\n",
       "\"\"\""
      ]
     },
     "execution_count": 14,
     "metadata": {},
     "output_type": "execute_result"
    }
   ],
   "source": [
    "# Simple regression model on training data\n",
    "model = sm.OLS(y_train, sm.add_constant(x_train[[key for key in x_train]])).fit()\n",
    "model.summary()"
   ]
  },
  {
   "cell_type": "markdown",
   "metadata": {},
   "source": [
    "# Lasso Regression"
   ]
  },
  {
   "cell_type": "code",
   "execution_count": 15,
   "metadata": {},
   "outputs": [
    {
     "name": "stderr",
     "output_type": "stream",
     "text": [
      "/Users/eric/opt/anaconda3/lib/python3.7/site-packages/sklearn/linear_model/_coordinate_descent.py:476: ConvergenceWarning: Objective did not converge. You might want to increase the number of iterations. Duality gap: 123494855802.03212, tolerance: 25932767.989275213\n",
      "  positive)\n"
     ]
    }
   ],
   "source": [
    "lasso = Lasso(alpha=0.01, normalize=False)\n",
    "lasso.fit(x_train, y_train)\n",
    "y_train_pred = lasso.predict(x_train)\n",
    "y_test_pred = lasso.predict(x_test)"
   ]
  },
  {
   "cell_type": "code",
   "execution_count": 16,
   "metadata": {},
   "outputs": [
    {
     "name": "stdout",
     "output_type": "stream",
     "text": [
      "Training Error: 1540.62263939417\n",
      "Testing Error: 1996.6547874002874\n"
     ]
    }
   ],
   "source": [
    "train_rmse = metrics.mean_absolute_error(y_train, y_train_pred)\n",
    "test_rmse = np.sqrt(metrics.mean_squared_error(y_test, y_test_pred))\n",
    "print('Training Error: '+ str(train_rmse) )\n",
    "print('Testing Error: '+ str(test_rmse) )"
   ]
  },
  {
   "cell_type": "code",
   "execution_count": 17,
   "metadata": {},
   "outputs": [
    {
     "name": "stdout",
     "output_type": "stream",
     "text": [
      "   Rep_4_Div_Len     Length_Pp        Rep_6  Dsc_Dig_2_Div_Len    Asc_Let_5  \\\n",
      "0  -10618.611279 -10120.162009 -7885.888014       -7172.809228 -4284.543259   \n",
      "\n",
      "   Dsc_Dig_3_Div_Len  Rep_2_Div_Len    Asc_Dig_5        Rep_5    Dsc_Let_3  \\\n",
      "0       -3664.645416    -3482.53777 -2694.890261 -2315.608978 -2069.610852   \n",
      "\n",
      "   ...        Rep_8   Asc_Dig_10  Asc_Dig_6_Div_Len  Rep_3_Div_Len  \\\n",
      "0  ...  3414.101387  4158.799882        6317.601145    7360.151879   \n",
      "\n",
      "   Let_And_Dig_Div_Len  Rep_5_Div_Len  Dsc_Let_3_Div_Len  Only_Dig_Div_Len  \\\n",
      "0          8400.747836   12985.320131       13910.867601      15710.094079   \n",
      "\n",
      "   Asc_Dig_5_Div_Len  Rep_6_Div_Len  \n",
      "0       21600.776613   53958.866013  \n",
      "\n",
      "[1 rows x 110 columns]\n"
     ]
    }
   ],
   "source": [
    "lasso_coef = pd.DataFrame(data=lasso.coef_).T\n",
    "lasso_coef.columns = x_train.columns\n",
    "lasso_coef = lasso_coef.T.sort_values(by=0).T\n",
    "\n",
    "print(lasso_coef)"
   ]
  },
  {
   "cell_type": "markdown",
   "metadata": {},
   "source": [
    "# Poisson Regression"
   ]
  },
  {
   "cell_type": "code",
   "execution_count": 18,
   "metadata": {},
   "outputs": [],
   "source": [
    "# Create poisson dataframe\n",
    "pois = df.copy(deep=True)"
   ]
  },
  {
   "cell_type": "code",
   "execution_count": 19,
   "metadata": {},
   "outputs": [
    {
     "name": "stdout",
     "output_type": "stream",
     "text": [
      "Training data set length = 61217\n",
      "Testing data set length = 15364\n"
     ]
    }
   ],
   "source": [
    "# Create poisson variables\n",
    "pois_ds = pois.index.to_series()\n",
    "pois_mask = np.random.rand(len(df)) < 0.8\n",
    "pois_train = pois[pois_mask]\n",
    "pois_test = pois[~pois_mask]\n",
    "print('Training data set length = '+str(len(pois_train)))\n",
    "print('Testing data set length = '+str(len(pois_test)))"
   ]
  },
  {
   "cell_type": "code",
   "execution_count": 20,
   "metadata": {},
   "outputs": [],
   "source": [
    "# Create poisson features\n",
    "ignore = ['Password', 'SHA_1', 'Total', 'Length_Sq', 'Length_Cb',\n",
    "          'Only_Let_Div_Len', 'Only_Dig_Div_Len', 'Only_Spc_Div_Len',\n",
    "          'Let_And_Dig_Div_Len', 'Let_And_Spc_Div_Len', 'Dig_And_Spc_Div_Len',\n",
    "          'Date_Div_Len', 'Year_Div_Len', 'Rep_2_Div_Len', 'Rep_3_Div_Len',\n",
    "          'Rep_4_Div_Len', 'Rep_5_Div_Len', 'Rep_6_Div_Len', 'Rep_7_Div_Len',\n",
    "          'Rep_8_Div_Len', 'Rep_9_Div_Len', 'Rep_10_Div_Len', 'Asc_Dig_2_Div_Len',\n",
    "          'Asc_Dig_3_Div_Len', 'Asc_Dig_4_Div_Len', 'Asc_Dig_5_Div_Len', 'Asc_Dig_6_Div_Len',\n",
    "          'Asc_Dig_7_Div_Len', 'Asc_Dig_8_Div_Len', 'Asc_Dig_9_Div_Len', 'Asc_Dig_10_Div_Len',\n",
    "          'Dsc_Dig_2_Div_Len', 'Dsc_Dig_3_Div_Len', 'Dsc_Dig_4_Div_Len', 'Dsc_Dig_5_Div_Len',\n",
    "          'Dsc_Dig_6_Div_Len', 'Dsc_Dig_7_Div_Len', 'Dsc_Dig_8_Div_Len', 'Dsc_Dig_9_Div_Len',\n",
    "          'Dsc_Dig_10_Div_Len', 'Asc_Let_2_Div_Len', 'Asc_Let_3_Div_Len', 'Asc_Let_4_Div_Len',\n",
    "          'Asc_Let_5_Div_Len', 'Asc_Let_6_Div_Len', 'Asc_Let_7_Div_Len', 'Asc_Let_8_Div_Len',\n",
    "          'Asc_Let_9_Div_Len', 'Asc_Let_10_Div_Len', 'Dsc_Let_2_Div_Len', 'Dsc_Let_3_Div_Len',\n",
    "          'Dsc_Let_4_Div_Len', 'Dsc_Let_5_Div_Len', 'Dsc_Let_6_Div_Len', 'Dsc_Let_7_Div_Len',\n",
    "          'Dsc_Let_8_Div_Len', 'Dsc_Let_9_Div_Len', 'Dsc_Let_10_Div_Len']\n",
    "pois_features = pois.drop(columns=ignore, axis=1).keys()\n",
    "\n",
    "# Create poisson expression\n",
    "pois_expr = 'Total~' + '+'.join([f'{f}' for f in pois_features])"
   ]
  },
  {
   "cell_type": "code",
   "execution_count": 21,
   "metadata": {},
   "outputs": [],
   "source": [
    "# # Create poisson features\n",
    "# ignore = ['Password', 'SHA_1', 'Total']\n",
    "# pois_features = pois.drop(columns=ignore, axis=1).keys()\n",
    "\n",
    "# # Create poisson expression\n",
    "# pois_expr = 'Total~' + '+'.join([f'{f}' for f in pois_features])"
   ]
  },
  {
   "cell_type": "code",
   "execution_count": 22,
   "metadata": {},
   "outputs": [],
   "source": [
    "# Create poisson test/train split\n",
    "pois_y_train, pois_X_train = dmatrices(pois_expr, pois_train, return_type='dataframe')\n",
    "pois_y_test, pois_X_test = dmatrices(pois_expr, pois_test, return_type='dataframe')"
   ]
  },
  {
   "cell_type": "code",
   "execution_count": 23,
   "metadata": {
    "scrolled": true
   },
   "outputs": [
    {
     "name": "stderr",
     "output_type": "stream",
     "text": [
      "/Users/eric/opt/anaconda3/lib/python3.7/site-packages/statsmodels/base/model.py:1294: RuntimeWarning: invalid value encountered in true_divide\n",
      "  return self.params / self.bse\n",
      "/Users/eric/opt/anaconda3/lib/python3.7/site-packages/scipy/stats/_distn_infrastructure.py:903: RuntimeWarning: invalid value encountered in greater\n",
      "  return (a < x) & (x < b)\n",
      "/Users/eric/opt/anaconda3/lib/python3.7/site-packages/scipy/stats/_distn_infrastructure.py:903: RuntimeWarning: invalid value encountered in less\n",
      "  return (a < x) & (x < b)\n",
      "/Users/eric/opt/anaconda3/lib/python3.7/site-packages/scipy/stats/_distn_infrastructure.py:1912: RuntimeWarning: invalid value encountered in less_equal\n",
      "  cond2 = cond0 & (x <= _a)\n"
     ]
    },
    {
     "data": {
      "text/html": [
       "<table class=\"simpletable\">\n",
       "<caption>Generalized Linear Model Regression Results</caption>\n",
       "<tr>\n",
       "  <th>Dep. Variable:</th>         <td>Total</td>      <th>  No. Observations:  </th>   <td> 61217</td>   \n",
       "</tr>\n",
       "<tr>\n",
       "  <th>Model:</th>                  <td>GLM</td>       <th>  Df Residuals:      </th>   <td> 61170</td>   \n",
       "</tr>\n",
       "<tr>\n",
       "  <th>Model Family:</th>         <td>Poisson</td>     <th>  Df Model:          </th>   <td>    46</td>   \n",
       "</tr>\n",
       "<tr>\n",
       "  <th>Link Function:</th>          <td>log</td>       <th>  Scale:             </th>  <td>  1.0000</td>  \n",
       "</tr>\n",
       "<tr>\n",
       "  <th>Method:</th>                <td>IRLS</td>       <th>  Log-Likelihood:    </th> <td>-4.7107e+07</td>\n",
       "</tr>\n",
       "<tr>\n",
       "  <th>Date:</th>            <td>Fri, 08 May 2020</td> <th>  Deviance:          </th> <td>9.3651e+07</td> \n",
       "</tr>\n",
       "<tr>\n",
       "  <th>Time:</th>                <td>12:36:51</td>     <th>  Pearson chi2:      </th>  <td>9.78e+07</td>  \n",
       "</tr>\n",
       "<tr>\n",
       "  <th>No. Iterations:</th>         <td>10</td>        <th>                     </th>      <td> </td>     \n",
       "</tr>\n",
       "<tr>\n",
       "  <th>Covariance Type:</th>     <td>nonrobust</td>    <th>                     </th>      <td> </td>     \n",
       "</tr>\n",
       "</table>\n",
       "<table class=\"simpletable\">\n",
       "<tr>\n",
       "       <td></td>          <th>coef</th>     <th>std err</th>      <th>z</th>      <th>P>|z|</th>  <th>[0.025</th>    <th>0.975]</th>  \n",
       "</tr>\n",
       "<tr>\n",
       "  <th>Intercept</th>   <td>    7.1023</td> <td>    0.007</td> <td>  997.067</td> <td> 0.000</td> <td>    7.088</td> <td>    7.116</td>\n",
       "</tr>\n",
       "<tr>\n",
       "  <th>Length</th>      <td>   -0.0420</td> <td> 7.63e-05</td> <td> -550.688</td> <td> 0.000</td> <td>   -0.042</td> <td>   -0.042</td>\n",
       "</tr>\n",
       "<tr>\n",
       "  <th>Length_Pp</th>   <td>   -0.0021</td> <td> 3.81e-06</td> <td> -550.688</td> <td> 0.000</td> <td>   -0.002</td> <td>   -0.002</td>\n",
       "</tr>\n",
       "<tr>\n",
       "  <th>Only_Let</th>    <td>    1.0017</td> <td>    0.007</td> <td>  141.185</td> <td> 0.000</td> <td>    0.988</td> <td>    1.016</td>\n",
       "</tr>\n",
       "<tr>\n",
       "  <th>Only_Dig</th>    <td>    0.8411</td> <td>    0.007</td> <td>  118.519</td> <td> 0.000</td> <td>    0.827</td> <td>    0.855</td>\n",
       "</tr>\n",
       "<tr>\n",
       "  <th>Only_Spc</th>    <td>    1.3390</td> <td>    0.011</td> <td>  116.807</td> <td> 0.000</td> <td>    1.317</td> <td>    1.362</td>\n",
       "</tr>\n",
       "<tr>\n",
       "  <th>Let_And_Dig</th> <td>    1.2140</td> <td>    0.007</td> <td>  171.078</td> <td> 0.000</td> <td>    1.200</td> <td>    1.228</td>\n",
       "</tr>\n",
       "<tr>\n",
       "  <th>Let_And_Spc</th> <td>    1.2357</td> <td>    0.008</td> <td>  157.120</td> <td> 0.000</td> <td>    1.220</td> <td>    1.251</td>\n",
       "</tr>\n",
       "<tr>\n",
       "  <th>Dig_And_Spc</th> <td>    1.2090</td> <td>    0.009</td> <td>  136.261</td> <td> 0.000</td> <td>    1.192</td> <td>    1.226</td>\n",
       "</tr>\n",
       "<tr>\n",
       "  <th>Date</th>        <td>-6.165e-15</td> <td> 7.98e-17</td> <td>  -77.221</td> <td> 0.000</td> <td>-6.32e-15</td> <td>-6.01e-15</td>\n",
       "</tr>\n",
       "<tr>\n",
       "  <th>Year</th>        <td>   -0.5182</td> <td>    0.001</td> <td> -408.228</td> <td> 0.000</td> <td>   -0.521</td> <td>   -0.516</td>\n",
       "</tr>\n",
       "<tr>\n",
       "  <th>Rep_2</th>       <td>   -0.0015</td> <td>    0.000</td> <td>   -8.370</td> <td> 0.000</td> <td>   -0.002</td> <td>   -0.001</td>\n",
       "</tr>\n",
       "<tr>\n",
       "  <th>Rep_3</th>       <td>   -0.1775</td> <td>    0.001</td> <td> -350.257</td> <td> 0.000</td> <td>   -0.179</td> <td>   -0.177</td>\n",
       "</tr>\n",
       "<tr>\n",
       "  <th>Rep_4</th>       <td>   -0.2580</td> <td>    0.001</td> <td> -190.627</td> <td> 0.000</td> <td>   -0.261</td> <td>   -0.255</td>\n",
       "</tr>\n",
       "<tr>\n",
       "  <th>Rep_5</th>       <td>   -0.1260</td> <td>    0.002</td> <td>  -74.694</td> <td> 0.000</td> <td>   -0.129</td> <td>   -0.123</td>\n",
       "</tr>\n",
       "<tr>\n",
       "  <th>Rep_6</th>       <td>   -0.2236</td> <td>    0.002</td> <td>  -90.133</td> <td> 0.000</td> <td>   -0.228</td> <td>   -0.219</td>\n",
       "</tr>\n",
       "<tr>\n",
       "  <th>Rep_7</th>       <td>    0.6134</td> <td>    0.003</td> <td>  231.638</td> <td> 0.000</td> <td>    0.608</td> <td>    0.619</td>\n",
       "</tr>\n",
       "<tr>\n",
       "  <th>Rep_8</th>       <td>    0.7055</td> <td>    0.003</td> <td>  215.674</td> <td> 0.000</td> <td>    0.699</td> <td>    0.712</td>\n",
       "</tr>\n",
       "<tr>\n",
       "  <th>Rep_9</th>       <td>    0.2678</td> <td>    0.004</td> <td>   64.348</td> <td> 0.000</td> <td>    0.260</td> <td>    0.276</td>\n",
       "</tr>\n",
       "<tr>\n",
       "  <th>Rep_10</th>      <td>    0.6824</td> <td>    0.003</td> <td>  242.223</td> <td> 0.000</td> <td>    0.677</td> <td>    0.688</td>\n",
       "</tr>\n",
       "<tr>\n",
       "  <th>Asc_Dig_2</th>   <td>    0.0338</td> <td>    0.000</td> <td>  133.659</td> <td> 0.000</td> <td>    0.033</td> <td>    0.034</td>\n",
       "</tr>\n",
       "<tr>\n",
       "  <th>Asc_Dig_3</th>   <td>    0.2552</td> <td>    0.001</td> <td>  476.653</td> <td> 0.000</td> <td>    0.254</td> <td>    0.256</td>\n",
       "</tr>\n",
       "<tr>\n",
       "  <th>Asc_Dig_4</th>   <td>    0.0015</td> <td>    0.001</td> <td>    1.124</td> <td> 0.261</td> <td>   -0.001</td> <td>    0.004</td>\n",
       "</tr>\n",
       "<tr>\n",
       "  <th>Asc_Dig_5</th>   <td>   -0.0240</td> <td>    0.002</td> <td>  -11.628</td> <td> 0.000</td> <td>   -0.028</td> <td>   -0.020</td>\n",
       "</tr>\n",
       "<tr>\n",
       "  <th>Asc_Dig_6</th>   <td>    0.2404</td> <td>    0.003</td> <td>   86.835</td> <td> 0.000</td> <td>    0.235</td> <td>    0.246</td>\n",
       "</tr>\n",
       "<tr>\n",
       "  <th>Asc_Dig_7</th>   <td>    0.1698</td> <td>    0.003</td> <td>   48.581</td> <td> 0.000</td> <td>    0.163</td> <td>    0.177</td>\n",
       "</tr>\n",
       "<tr>\n",
       "  <th>Asc_Dig_8</th>   <td>   -0.0945</td> <td>    0.005</td> <td>  -20.984</td> <td> 0.000</td> <td>   -0.103</td> <td>   -0.086</td>\n",
       "</tr>\n",
       "<tr>\n",
       "  <th>Asc_Dig_9</th>   <td>    0.2329</td> <td>    0.004</td> <td>   57.337</td> <td> 0.000</td> <td>    0.225</td> <td>    0.241</td>\n",
       "</tr>\n",
       "<tr>\n",
       "  <th>Asc_Dig_10</th>  <td>    0.8739</td> <td>    0.010</td> <td>   84.203</td> <td> 0.000</td> <td>    0.854</td> <td>    0.894</td>\n",
       "</tr>\n",
       "<tr>\n",
       "  <th>Dsc_Dig_2</th>   <td>    0.1021</td> <td>    0.000</td> <td>  390.651</td> <td> 0.000</td> <td>    0.102</td> <td>    0.103</td>\n",
       "</tr>\n",
       "<tr>\n",
       "  <th>Dsc_Dig_3</th>   <td>    0.1695</td> <td>    0.001</td> <td>  312.408</td> <td> 0.000</td> <td>    0.168</td> <td>    0.171</td>\n",
       "</tr>\n",
       "<tr>\n",
       "  <th>Dsc_Dig_4</th>   <td>    0.0303</td> <td>    0.003</td> <td>    9.183</td> <td> 0.000</td> <td>    0.024</td> <td>    0.037</td>\n",
       "</tr>\n",
       "<tr>\n",
       "  <th>Dsc_Dig_5</th>   <td>    0.2782</td> <td>    0.005</td> <td>   54.994</td> <td> 0.000</td> <td>    0.268</td> <td>    0.288</td>\n",
       "</tr>\n",
       "<tr>\n",
       "  <th>Dsc_Dig_6</th>   <td>   -0.3233</td> <td>    0.008</td> <td>  -40.350</td> <td> 0.000</td> <td>   -0.339</td> <td>   -0.308</td>\n",
       "</tr>\n",
       "<tr>\n",
       "  <th>Dsc_Dig_7</th>   <td>    0.2599</td> <td>    0.009</td> <td>   28.337</td> <td> 0.000</td> <td>    0.242</td> <td>    0.278</td>\n",
       "</tr>\n",
       "<tr>\n",
       "  <th>Dsc_Dig_8</th>   <td>   -0.2711</td> <td>    0.011</td> <td>  -24.613</td> <td> 0.000</td> <td>   -0.293</td> <td>   -0.249</td>\n",
       "</tr>\n",
       "<tr>\n",
       "  <th>Dsc_Dig_9</th>   <td>    0.2544</td> <td>    0.011</td> <td>   22.712</td> <td> 0.000</td> <td>    0.232</td> <td>    0.276</td>\n",
       "</tr>\n",
       "<tr>\n",
       "  <th>Dsc_Dig_10</th>  <td> 1.014e-16</td> <td> 1.99e-17</td> <td>    5.084</td> <td> 0.000</td> <td> 6.23e-17</td> <td>  1.4e-16</td>\n",
       "</tr>\n",
       "<tr>\n",
       "  <th>Asc_Let_2</th>   <td>    0.0201</td> <td>    0.000</td> <td>   74.549</td> <td> 0.000</td> <td>    0.020</td> <td>    0.021</td>\n",
       "</tr>\n",
       "<tr>\n",
       "  <th>Asc_Let_3</th>   <td>   -0.0351</td> <td>    0.001</td> <td>  -25.875</td> <td> 0.000</td> <td>   -0.038</td> <td>   -0.032</td>\n",
       "</tr>\n",
       "<tr>\n",
       "  <th>Asc_Let_4</th>   <td>    0.6595</td> <td>    0.008</td> <td>   82.302</td> <td> 0.000</td> <td>    0.644</td> <td>    0.675</td>\n",
       "</tr>\n",
       "<tr>\n",
       "  <th>Asc_Let_5</th>   <td>   -3.2064</td> <td>    0.047</td> <td>  -68.514</td> <td> 0.000</td> <td>   -3.298</td> <td>   -3.115</td>\n",
       "</tr>\n",
       "<tr>\n",
       "  <th>Asc_Let_6</th>   <td>    2.7956</td> <td>    0.047</td> <td>   59.374</td> <td> 0.000</td> <td>    2.703</td> <td>    2.888</td>\n",
       "</tr>\n",
       "<tr>\n",
       "  <th>Asc_Let_7</th>   <td>    0.1095</td> <td>    0.005</td> <td>   23.928</td> <td> 0.000</td> <td>    0.101</td> <td>    0.118</td>\n",
       "</tr>\n",
       "<tr>\n",
       "  <th>Asc_Let_8</th>   <td>    0.1095</td> <td>    0.005</td> <td>   23.928</td> <td> 0.000</td> <td>    0.101</td> <td>    0.118</td>\n",
       "</tr>\n",
       "<tr>\n",
       "  <th>Asc_Let_9</th>   <td>    0.1095</td> <td>    0.005</td> <td>   23.928</td> <td> 0.000</td> <td>    0.101</td> <td>    0.118</td>\n",
       "</tr>\n",
       "<tr>\n",
       "  <th>Asc_Let_10</th>  <td>    0.1095</td> <td>    0.005</td> <td>   23.928</td> <td> 0.000</td> <td>    0.101</td> <td>    0.118</td>\n",
       "</tr>\n",
       "<tr>\n",
       "  <th>Dsc_Let_2</th>   <td>    0.0135</td> <td>    0.000</td> <td>   48.692</td> <td> 0.000</td> <td>    0.013</td> <td>    0.014</td>\n",
       "</tr>\n",
       "<tr>\n",
       "  <th>Dsc_Let_3</th>   <td>   -0.0146</td> <td>    0.002</td> <td>   -9.170</td> <td> 0.000</td> <td>   -0.018</td> <td>   -0.012</td>\n",
       "</tr>\n",
       "<tr>\n",
       "  <th>Dsc_Let_4</th>   <td>   -0.0579</td> <td>    0.007</td> <td>   -8.048</td> <td> 0.000</td> <td>   -0.072</td> <td>   -0.044</td>\n",
       "</tr>\n",
       "<tr>\n",
       "  <th>Dsc_Let_5</th>   <td>   -0.0579</td> <td>    0.007</td> <td>   -8.048</td> <td> 0.000</td> <td>   -0.072</td> <td>   -0.044</td>\n",
       "</tr>\n",
       "<tr>\n",
       "  <th>Dsc_Let_6</th>   <td>   -0.0579</td> <td>    0.007</td> <td>   -8.048</td> <td> 0.000</td> <td>   -0.072</td> <td>   -0.044</td>\n",
       "</tr>\n",
       "<tr>\n",
       "  <th>Dsc_Let_7</th>   <td>   -0.8176</td> <td>    0.039</td> <td>  -20.708</td> <td> 0.000</td> <td>   -0.895</td> <td>   -0.740</td>\n",
       "</tr>\n",
       "<tr>\n",
       "  <th>Dsc_Let_8</th>   <td>   -0.5343</td> <td>    0.055</td> <td>   -9.684</td> <td> 0.000</td> <td>   -0.642</td> <td>   -0.426</td>\n",
       "</tr>\n",
       "<tr>\n",
       "  <th>Dsc_Let_9</th>   <td>   -1.8037</td> <td>    0.120</td> <td>  -15.086</td> <td> 0.000</td> <td>   -2.038</td> <td>   -1.569</td>\n",
       "</tr>\n",
       "<tr>\n",
       "  <th>Dsc_Let_10</th>  <td>         0</td> <td>        0</td> <td>      nan</td> <td>   nan</td> <td>        0</td> <td>        0</td>\n",
       "</tr>\n",
       "</table>"
      ],
      "text/plain": [
       "<class 'statsmodels.iolib.summary.Summary'>\n",
       "\"\"\"\n",
       "                 Generalized Linear Model Regression Results                  \n",
       "==============================================================================\n",
       "Dep. Variable:                  Total   No. Observations:                61217\n",
       "Model:                            GLM   Df Residuals:                    61170\n",
       "Model Family:                 Poisson   Df Model:                           46\n",
       "Link Function:                    log   Scale:                          1.0000\n",
       "Method:                          IRLS   Log-Likelihood:            -4.7107e+07\n",
       "Date:                Fri, 08 May 2020   Deviance:                   9.3651e+07\n",
       "Time:                        12:36:51   Pearson chi2:                 9.78e+07\n",
       "No. Iterations:                    10                                         \n",
       "Covariance Type:            nonrobust                                         \n",
       "===============================================================================\n",
       "                  coef    std err          z      P>|z|      [0.025      0.975]\n",
       "-------------------------------------------------------------------------------\n",
       "Intercept       7.1023      0.007    997.067      0.000       7.088       7.116\n",
       "Length         -0.0420   7.63e-05   -550.688      0.000      -0.042      -0.042\n",
       "Length_Pp      -0.0021   3.81e-06   -550.688      0.000      -0.002      -0.002\n",
       "Only_Let        1.0017      0.007    141.185      0.000       0.988       1.016\n",
       "Only_Dig        0.8411      0.007    118.519      0.000       0.827       0.855\n",
       "Only_Spc        1.3390      0.011    116.807      0.000       1.317       1.362\n",
       "Let_And_Dig     1.2140      0.007    171.078      0.000       1.200       1.228\n",
       "Let_And_Spc     1.2357      0.008    157.120      0.000       1.220       1.251\n",
       "Dig_And_Spc     1.2090      0.009    136.261      0.000       1.192       1.226\n",
       "Date        -6.165e-15   7.98e-17    -77.221      0.000   -6.32e-15   -6.01e-15\n",
       "Year           -0.5182      0.001   -408.228      0.000      -0.521      -0.516\n",
       "Rep_2          -0.0015      0.000     -8.370      0.000      -0.002      -0.001\n",
       "Rep_3          -0.1775      0.001   -350.257      0.000      -0.179      -0.177\n",
       "Rep_4          -0.2580      0.001   -190.627      0.000      -0.261      -0.255\n",
       "Rep_5          -0.1260      0.002    -74.694      0.000      -0.129      -0.123\n",
       "Rep_6          -0.2236      0.002    -90.133      0.000      -0.228      -0.219\n",
       "Rep_7           0.6134      0.003    231.638      0.000       0.608       0.619\n",
       "Rep_8           0.7055      0.003    215.674      0.000       0.699       0.712\n",
       "Rep_9           0.2678      0.004     64.348      0.000       0.260       0.276\n",
       "Rep_10          0.6824      0.003    242.223      0.000       0.677       0.688\n",
       "Asc_Dig_2       0.0338      0.000    133.659      0.000       0.033       0.034\n",
       "Asc_Dig_3       0.2552      0.001    476.653      0.000       0.254       0.256\n",
       "Asc_Dig_4       0.0015      0.001      1.124      0.261      -0.001       0.004\n",
       "Asc_Dig_5      -0.0240      0.002    -11.628      0.000      -0.028      -0.020\n",
       "Asc_Dig_6       0.2404      0.003     86.835      0.000       0.235       0.246\n",
       "Asc_Dig_7       0.1698      0.003     48.581      0.000       0.163       0.177\n",
       "Asc_Dig_8      -0.0945      0.005    -20.984      0.000      -0.103      -0.086\n",
       "Asc_Dig_9       0.2329      0.004     57.337      0.000       0.225       0.241\n",
       "Asc_Dig_10      0.8739      0.010     84.203      0.000       0.854       0.894\n",
       "Dsc_Dig_2       0.1021      0.000    390.651      0.000       0.102       0.103\n",
       "Dsc_Dig_3       0.1695      0.001    312.408      0.000       0.168       0.171\n",
       "Dsc_Dig_4       0.0303      0.003      9.183      0.000       0.024       0.037\n",
       "Dsc_Dig_5       0.2782      0.005     54.994      0.000       0.268       0.288\n",
       "Dsc_Dig_6      -0.3233      0.008    -40.350      0.000      -0.339      -0.308\n",
       "Dsc_Dig_7       0.2599      0.009     28.337      0.000       0.242       0.278\n",
       "Dsc_Dig_8      -0.2711      0.011    -24.613      0.000      -0.293      -0.249\n",
       "Dsc_Dig_9       0.2544      0.011     22.712      0.000       0.232       0.276\n",
       "Dsc_Dig_10   1.014e-16   1.99e-17      5.084      0.000    6.23e-17     1.4e-16\n",
       "Asc_Let_2       0.0201      0.000     74.549      0.000       0.020       0.021\n",
       "Asc_Let_3      -0.0351      0.001    -25.875      0.000      -0.038      -0.032\n",
       "Asc_Let_4       0.6595      0.008     82.302      0.000       0.644       0.675\n",
       "Asc_Let_5      -3.2064      0.047    -68.514      0.000      -3.298      -3.115\n",
       "Asc_Let_6       2.7956      0.047     59.374      0.000       2.703       2.888\n",
       "Asc_Let_7       0.1095      0.005     23.928      0.000       0.101       0.118\n",
       "Asc_Let_8       0.1095      0.005     23.928      0.000       0.101       0.118\n",
       "Asc_Let_9       0.1095      0.005     23.928      0.000       0.101       0.118\n",
       "Asc_Let_10      0.1095      0.005     23.928      0.000       0.101       0.118\n",
       "Dsc_Let_2       0.0135      0.000     48.692      0.000       0.013       0.014\n",
       "Dsc_Let_3      -0.0146      0.002     -9.170      0.000      -0.018      -0.012\n",
       "Dsc_Let_4      -0.0579      0.007     -8.048      0.000      -0.072      -0.044\n",
       "Dsc_Let_5      -0.0579      0.007     -8.048      0.000      -0.072      -0.044\n",
       "Dsc_Let_6      -0.0579      0.007     -8.048      0.000      -0.072      -0.044\n",
       "Dsc_Let_7      -0.8176      0.039    -20.708      0.000      -0.895      -0.740\n",
       "Dsc_Let_8      -0.5343      0.055     -9.684      0.000      -0.642      -0.426\n",
       "Dsc_Let_9      -1.8037      0.120    -15.086      0.000      -2.038      -1.569\n",
       "Dsc_Let_10           0          0        nan        nan           0           0\n",
       "===============================================================================\n",
       "\"\"\""
      ]
     },
     "execution_count": 23,
     "metadata": {},
     "output_type": "execute_result"
    }
   ],
   "source": [
    "# Print poisson train results\n",
    "pois_trn_res = sm.GLM(pois_y_train, pois_X_train, family=sm.families.Poisson()).fit()\n",
    "\n",
    "pois_trn_res.summary()"
   ]
  },
  {
   "cell_type": "code",
   "execution_count": 24,
   "metadata": {
    "scrolled": true
   },
   "outputs": [
    {
     "data": {
      "text/html": [
       "<div>\n",
       "<style scoped>\n",
       "    .dataframe tbody tr th:only-of-type {\n",
       "        vertical-align: middle;\n",
       "    }\n",
       "\n",
       "    .dataframe tbody tr th {\n",
       "        vertical-align: top;\n",
       "    }\n",
       "\n",
       "    .dataframe thead th {\n",
       "        text-align: right;\n",
       "    }\n",
       "</style>\n",
       "<table border=\"1\" class=\"dataframe\">\n",
       "  <thead>\n",
       "    <tr style=\"text-align: right;\">\n",
       "      <th></th>\n",
       "      <th>mean</th>\n",
       "      <th>mean_se</th>\n",
       "      <th>mean_ci_lower</th>\n",
       "      <th>mean_ci_upper</th>\n",
       "    </tr>\n",
       "  </thead>\n",
       "  <tbody>\n",
       "    <tr>\n",
       "      <th>9559</th>\n",
       "      <td>2187.982338</td>\n",
       "      <td>0.494292</td>\n",
       "      <td>2187.013758</td>\n",
       "      <td>2188.951348</td>\n",
       "    </tr>\n",
       "    <tr>\n",
       "      <th>9561</th>\n",
       "      <td>2569.180842</td>\n",
       "      <td>0.434545</td>\n",
       "      <td>2568.329291</td>\n",
       "      <td>2570.032676</td>\n",
       "    </tr>\n",
       "    <tr>\n",
       "      <th>9562</th>\n",
       "      <td>1832.086759</td>\n",
       "      <td>0.940910</td>\n",
       "      <td>1830.243537</td>\n",
       "      <td>1833.931837</td>\n",
       "    </tr>\n",
       "    <tr>\n",
       "      <th>9564</th>\n",
       "      <td>2569.180842</td>\n",
       "      <td>0.434545</td>\n",
       "      <td>2568.329291</td>\n",
       "      <td>2570.032676</td>\n",
       "    </tr>\n",
       "    <tr>\n",
       "      <th>9566</th>\n",
       "      <td>2463.230262</td>\n",
       "      <td>0.381121</td>\n",
       "      <td>2462.483392</td>\n",
       "      <td>2463.977359</td>\n",
       "    </tr>\n",
       "  </tbody>\n",
       "</table>\n",
       "</div>"
      ],
      "text/plain": [
       "             mean   mean_se  mean_ci_lower  mean_ci_upper\n",
       "9559  2187.982338  0.494292    2187.013758    2188.951348\n",
       "9561  2569.180842  0.434545    2568.329291    2570.032676\n",
       "9562  1832.086759  0.940910    1830.243537    1833.931837\n",
       "9564  2569.180842  0.434545    2568.329291    2570.032676\n",
       "9566  2463.230262  0.381121    2462.483392    2463.977359"
      ]
     },
     "execution_count": 24,
     "metadata": {},
     "output_type": "execute_result"
    }
   ],
   "source": [
    "# Create poisson predictions and predictions dataframe\n",
    "pois_pred = pois_trn_res.get_prediction(pois_X_test)\n",
    "pois_pred_df = pois_pred.summary_frame()\n",
    "\n",
    "pois_pred_df.head()"
   ]
  },
  {
   "cell_type": "markdown",
   "metadata": {},
   "source": [
    "# Visualizations"
   ]
  },
  {
   "cell_type": "code",
   "execution_count": 25,
   "metadata": {},
   "outputs": [
    {
     "data": {
      "image/png": "[encoded data removed]",
      "text/plain": [
       "<Figure size 720x432 with 1 Axes>"
      ]
     },
     "metadata": {
      "needs_background": "dark"
     },
     "output_type": "display_data"
    }
   ],
   "source": [
    "# Create poisson predicted and actual pwned totals to be plotted\n",
    "pois_pred_cnt = pois_pred_df['mean']\n",
    "pois_act_cnt = pois_y_test['Total']\n",
    "\n",
    "# Plot poisson predicted vs actual pwned totals\n",
    "pois_fig = plt.figure(figsize=(10,6))\n",
    "pois_fig.suptitle('Poisson Predicted vs Actual\\nTotal Times Password Pwned')\n",
    "pois_pred_plt, = plt.plot(pois_X_test.index, pois_pred_cnt, 'go-', label='Predicted')\n",
    "pois_act_plt, = plt.plot(pois_X_test.index, pois_act_cnt, 'ro-', label='Actual')\n",
    "plt.xlabel('Index')\n",
    "plt.ylabel('Times Pwned')\n",
    "plt.legend(handles=[pois_pred_plt, pois_act_plt])\n",
    "plt.show()"
   ]
  },
  {
   "cell_type": "code",
   "execution_count": 26,
   "metadata": {},
   "outputs": [],
   "source": [
    "# # Save poisson figure\n",
    "# pois_fig.savefig('Visualizations/poisson.png', dpi=300)"
   ]
  },
  {
   "cell_type": "code",
   "execution_count": 27,
   "metadata": {},
   "outputs": [
    {
     "data": {
      "text/plain": [
       "[Text(0, 0.5, 'Frequency'),\n",
       " Text(0.5, 0, 'Times Pwned'),\n",
       " Text(0.5, 1.0, 'Distribution: Number of Times\\nPasswords Pwned')]"
      ]
     },
     "execution_count": 27,
     "metadata": {},
     "output_type": "execute_result"
    },
    {
     "data": {
      "image/png": "[encoded data removed]",
      "text/plain": [
       "<Figure size 720x432 with 1 Axes>"
      ]
     },
     "metadata": {
      "needs_background": "dark"
     },
     "output_type": "display_data"
    }
   ],
   "source": [
    "# Plot distribution of num of times passwrods pwned\n",
    "fig, ax = plt.subplots(figsize=(10,6))\n",
    "ax = sns.distplot(df['Total'])\n",
    "ax.set(title='Distribution: Number of Times\\nPasswords Pwned',\n",
    "       xlabel='Times Pwned', ylabel='Frequency')"
   ]
  },
  {
   "cell_type": "code",
   "execution_count": 29,
   "metadata": {},
   "outputs": [],
   "source": [
    "# # Save figure\n",
    "# fig.savefig('Visualizations/pwned_dist.png', dpi=300)"
   ]
  },
  {
   "cell_type": "markdown",
   "metadata": {},
   "source": [
    "Distribution is skewed right."
   ]
  },
  {
   "cell_type": "code",
   "execution_count": 30,
   "metadata": {},
   "outputs": [
    {
     "data": {
      "text/plain": [
       "Text(0, 0.5, 'Times Pwned (Mean)')"
      ]
     },
     "execution_count": 30,
     "metadata": {},
     "output_type": "execute_result"
    },
    {
     "data": {
      "image/png": "[encoded data removed]",
      "text/plain": [
       "<Figure size 720x432 with 1 Axes>"
      ]
     },
     "metadata": {
      "needs_background": "dark"
     },
     "output_type": "display_data"
    }
   ],
   "source": [
    "# Plot mean total times pwned by password length\n",
    "fig, ax = plt.subplots(figsize=(10,6))\n",
    "ax = df.groupby('Length')['Total'].mean().iloc[:-2].plot(\n",
    "    kind='bar', title='Total Times Password Pwned (Mean)\\nby Password Length')\n",
    "ax.set_xlabel('Password Length')\n",
    "ax.set_ylabel('Times Pwned (Mean)')"
   ]
  },
  {
   "cell_type": "code",
   "execution_count": 31,
   "metadata": {},
   "outputs": [],
   "source": [
    "# # Save figure\n",
    "# fig.savefig('Visualizations/mean_pwned_by_length', dpi=300)"
   ]
  },
  {
   "cell_type": "code",
   "execution_count": 33,
   "metadata": {},
   "outputs": [
    {
     "data": {
      "text/plain": [
       "[Text(0, 0.5, 'Frequency'),\n",
       " Text(0.5, 0, 'Password Length'),\n",
       " Text(0.5, 1.0, 'Distribution of Pwned Password Lengths')]"
      ]
     },
     "execution_count": 33,
     "metadata": {},
     "output_type": "execute_result"
    },
    {
     "data": {
      "image/png": "[encoded data removed]",
      "text/plain": [
       "<Figure size 720x432 with 1 Axes>"
      ]
     },
     "metadata": {
      "needs_background": "dark"
     },
     "output_type": "display_data"
    }
   ],
   "source": [
    "# Plot the distribution of pwned password lengths\n",
    "fig, ax = plt.subplots(figsize=(10,6))\n",
    "ax = sns.countplot(x='Length', data=df)\n",
    "ax.set(title='Distribution of Pwned Password Lengths', xlabel='Password Length',\n",
    "       ylabel='Frequency')"
   ]
  },
  {
   "cell_type": "code",
   "execution_count": 35,
   "metadata": {},
   "outputs": [],
   "source": [
    "# # Save figure\n",
    "# fig.savefig('Visualizations/pwd_length_dist.png', dpi=300)"
   ]
  },
  {
   "cell_type": "code",
   "execution_count": null,
   "metadata": {},
   "outputs": [],
   "source": []
  },
  {
   "cell_type": "code",
   "execution_count": 27,
   "metadata": {},
   "outputs": [
    {
     "data": {
      "text/plain": [
       "<matplotlib.axes._subplots.AxesSubplot at 0x1a27f75fd0>"
      ]
     },
     "execution_count": 27,
     "metadata": {},
     "output_type": "execute_result"
    },
    {
     "data": {
      "image/png": "[encoded data removed]",
      "text/plain": [
       "<Figure size 432x288 with 1 Axes>"
      ]
     },
     "metadata": {
      "needs_background": "dark"
     },
     "output_type": "display_data"
    }
   ],
   "source": [
    "df['Length'].sort_values().plot(kind='hist')"
   ]
  },
  {
   "cell_type": "code",
   "execution_count": 59,
   "metadata": {},
   "outputs": [],
   "source": [
    "# Plot total pwned by repeated characters\n",
    "plot_df = df.copy(deep=True)\n",
    "plot_cond = [plot_df['Rep_2']==1, plot_df['Rep_3']==1, plot_df['Rep_4']==1,\n",
    "                   plot_df['Rep_5']==1, plot_df['Rep_6']==1, plot_df['Rep_7']==1,\n",
    "                   plot_df['Rep_8']==1]\n",
    "plot_chce = ['Two', 'Three', 'Four', 'Five', 'Six', 'Seven', 'Eight']\n",
    "plot_df['Plot'] = np.select(plot_cond, plot_chce, 'Other')"
   ]
  },
  {
   "cell_type": "code",
   "execution_count": 61,
   "metadata": {},
   "outputs": [
    {
     "data": {
      "image/png": "[encoded data removed]",
      "text/plain": [
       "<Figure size 720x432 with 1 Axes>"
      ]
     },
     "metadata": {
      "needs_background": "dark"
     },
     "output_type": "display_data"
    }
   ],
   "source": [
    "fig, ax = plt.subplots(figsize=(10,6))\n",
    "ax = sns.countplot(x='Total', data=plot_df)\n",
    "plt.show()"
   ]
  },
  {
   "cell_type": "code",
   "execution_count": 60,
   "metadata": {},
   "outputs": [
    {
     "ename": "SyntaxError",
     "evalue": "invalid syntax (<ipython-input-60-abf1e7847fd0>, line 3)",
     "output_type": "error",
     "traceback": [
      "\u001b[0;36m  File \u001b[0;32m\"<ipython-input-60-abf1e7847fd0>\"\u001b[0;36m, line \u001b[0;32m3\u001b[0m\n\u001b[0;31m    ax = sns.countplot(x=\"channels\", data=dropped_news, palette='Set1') plt.title('Number of Shares per Article Genre')\u001b[0m\n\u001b[0m                                                                          ^\u001b[0m\n\u001b[0;31mSyntaxError\u001b[0m\u001b[0;31m:\u001b[0m invalid syntax\n"
     ]
    }
   ],
   "source": [
    "fig, ax = plt.subplots(figsize=(8,6))\n",
    "# sns.set_context('notebook')\n",
    "ax = sns.countplot(x=\"channels\", data=dropped_news, palette='Set1')\n",
    "plt.title('Number of Shares per Article Genre')\n",
    "plt.xlabel('Genres')\n",
    "plt.ylabel('Number of Shares')"
   ]
  },
  {
   "cell_type": "code",
   "execution_count": null,
   "metadata": {},
   "outputs": [],
   "source": []
  },
  {
   "cell_type": "code",
   "execution_count": 29,
   "metadata": {
    "scrolled": true
   },
   "outputs": [
    {
     "data": {
      "text/plain": [
       "9559     Two\n",
       "9560     Two\n",
       "9561     Two\n",
       "9562     Two\n",
       "9563     Two\n",
       "9564     Two\n",
       "9565     Two\n",
       "9566     Two\n",
       "9567     Two\n",
       "9568     Two\n",
       "9569     Two\n",
       "9570     Two\n",
       "9571     Two\n",
       "9572     Two\n",
       "9573     Two\n",
       "9574     Two\n",
       "9575     Two\n",
       "9576     Two\n",
       "9577     Two\n",
       "9578     Two\n",
       "9579     Two\n",
       "9580     Two\n",
       "9581     Two\n",
       "9582     Two\n",
       "9583     Two\n",
       "9584     Two\n",
       "9585     Two\n",
       "9586     Two\n",
       "9587     Two\n",
       "9588     Two\n",
       "        ... \n",
       "86110    Two\n",
       "86111    Two\n",
       "86112    Two\n",
       "86113    Two\n",
       "86114    Two\n",
       "86115    Two\n",
       "86116    Two\n",
       "86117    Two\n",
       "86118    Two\n",
       "86119    Two\n",
       "86120    Two\n",
       "86121    Two\n",
       "86122    Two\n",
       "86123    Two\n",
       "86124    Two\n",
       "86125    Two\n",
       "86126    Two\n",
       "86127    Two\n",
       "86128    Two\n",
       "86129    Two\n",
       "86130    Two\n",
       "86131    Two\n",
       "86132    Two\n",
       "86133    Two\n",
       "86134    Two\n",
       "86135    Two\n",
       "86136    Two\n",
       "86137    Two\n",
       "86138    Two\n",
       "86139    Two\n",
       "Name: channels, Length: 76581, dtype: object"
      ]
     },
     "execution_count": 29,
     "metadata": {},
     "output_type": "execute_result"
    }
   ],
   "source": []
  },
  {
   "cell_type": "code",
   "execution_count": null,
   "metadata": {},
   "outputs": [],
   "source": []
  }
 ],
 "metadata": {
  "kernelspec": {
   "display_name": "Python 3",
   "language": "python",
   "name": "python3"
  },
  "language_info": {
   "codemirror_mode": {
    "name": "ipython",
    "version": 3
   },
   "file_extension": ".py",
   "mimetype": "text/x-python",
   "name": "python",
   "nbconvert_exporter": "python",
   "pygments_lexer": "ipython3",
   "version": "3.7.6"
  }
 },
 "nbformat": 4,
 "nbformat_minor": 4
}
