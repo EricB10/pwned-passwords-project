{
 "cells": [
  {
   "cell_type": "code",
   "execution_count": 139,
   "metadata": {},
   "outputs": [],
   "source": [
    "import numpy as np\n",
    "import pandas as pd\n",
    "import math\n",
    "import hashlib\n",
    "import re"
   ]
  },
  {
   "cell_type": "markdown",
   "metadata": {},
   "source": [
    "# Load Dataframe"
   ]
  },
  {
   "cell_type": "code",
   "execution_count": 140,
   "metadata": {},
   "outputs": [],
   "source": [
    "# 100000 most popular passwords\n",
    "df = pd.read_csv('Datasets/popular_100000.csv')\n",
    "\n",
    "# Drop totals of 0 (only using data for passwords pwned >= 10 times)\n",
    "df = df[df['Total'] != 0]\n",
    "\n",
    "# Subtract 10 from all totals to compensate for dropped data\n",
    "df['Total'] = df['Total'] - 10"
   ]
  },
  {
   "cell_type": "code",
   "execution_count": 144,
   "metadata": {},
   "outputs": [
    {
     "data": {
      "text/html": [
       "<div>\n",
       "<style scoped>\n",
       "    .dataframe tbody tr th:only-of-type {\n",
       "        vertical-align: middle;\n",
       "    }\n",
       "\n",
       "    .dataframe tbody tr th {\n",
       "        vertical-align: top;\n",
       "    }\n",
       "\n",
       "    .dataframe thead th {\n",
       "        text-align: right;\n",
       "    }\n",
       "</style>\n",
       "<table border=\"1\" class=\"dataframe\">\n",
       "  <thead>\n",
       "    <tr style=\"text-align: right;\">\n",
       "      <th></th>\n",
       "      <th>Password</th>\n",
       "      <th>SHA_1</th>\n",
       "      <th>Total</th>\n",
       "      <th>Length</th>\n",
       "    </tr>\n",
       "  </thead>\n",
       "  <tbody>\n",
       "    <tr>\n",
       "      <th>0</th>\n",
       "      <td>123456</td>\n",
       "      <td>7C4A8D09CA3762AF61E59520943DC26494F8941B</td>\n",
       "      <td>23547443</td>\n",
       "      <td>6</td>\n",
       "    </tr>\n",
       "    <tr>\n",
       "      <th>1</th>\n",
       "      <td>password</td>\n",
       "      <td>5BAA61E4C9B93F3F0682250B6CF8331B7EE68FD8</td>\n",
       "      <td>3730461</td>\n",
       "      <td>8</td>\n",
       "    </tr>\n",
       "    <tr>\n",
       "      <th>2</th>\n",
       "      <td>12345678</td>\n",
       "      <td>7C222FB2927D828AF22F592134E8932480637C0D</td>\n",
       "      <td>2938584</td>\n",
       "      <td>8</td>\n",
       "    </tr>\n",
       "    <tr>\n",
       "      <th>3</th>\n",
       "      <td>qwerty</td>\n",
       "      <td>B1B3773A05C0ED0176787A4F1574FF0075F7521E</td>\n",
       "      <td>3912806</td>\n",
       "      <td>6</td>\n",
       "    </tr>\n",
       "    <tr>\n",
       "      <th>4</th>\n",
       "      <td>123456789</td>\n",
       "      <td>F7C3BC1D808E04732ADF679965CCC34CA7AE3441</td>\n",
       "      <td>7799804</td>\n",
       "      <td>9</td>\n",
       "    </tr>\n",
       "  </tbody>\n",
       "</table>\n",
       "</div>"
      ],
      "text/plain": [
       "    Password                                     SHA_1     Total  Length\n",
       "0     123456  7C4A8D09CA3762AF61E59520943DC26494F8941B  23547443       6\n",
       "1   password  5BAA61E4C9B93F3F0682250B6CF8331B7EE68FD8   3730461       8\n",
       "2   12345678  7C222FB2927D828AF22F592134E8932480637C0D   2938584       8\n",
       "3     qwerty  B1B3773A05C0ED0176787A4F1574FF0075F7521E   3912806       6\n",
       "4  123456789  F7C3BC1D808E04732ADF679965CCC34CA7AE3441   7799804       9"
      ]
     },
     "execution_count": 144,
     "metadata": {},
     "output_type": "execute_result"
    }
   ],
   "source": [
    "df.head()"
   ]
  },
  {
   "cell_type": "markdown",
   "metadata": {},
   "source": [
    "# Password Length"
   ]
  },
  {
   "cell_type": "code",
   "execution_count": 142,
   "metadata": {},
   "outputs": [],
   "source": [
    "# Function to add password length\n",
    "def length(df):\n",
    "    df['Length'] = df['Password'].astype(str).map(len)\n",
    "    return df\n",
    "\n",
    "df = length(df)"
   ]
  },
  {
   "cell_type": "code",
   "execution_count": 143,
   "metadata": {},
   "outputs": [],
   "source": [
    "# Function to drop passwords below length 6\n",
    "def drop_short(df):\n",
    "    df = df[df['Length'] >= 6]\n",
    "    return df\n",
    "\n",
    "df = drop_short(df)"
   ]
  },
  {
   "cell_type": "code",
   "execution_count": 145,
   "metadata": {},
   "outputs": [],
   "source": [
    "# Function to add password length squared\n",
    "def len_sq(df):\n",
    "    df['Length_Sq'] = df['Length']**2\n",
    "    return df\n",
    "\n",
    "df = len_sq(df)"
   ]
  },
  {
   "cell_type": "code",
   "execution_count": 146,
   "metadata": {},
   "outputs": [],
   "source": [
    "# Function to add password length cubed\n",
    "def len_cb(df):\n",
    "    df['Length_Cb'] = df['Length']**3\n",
    "    return df\n",
    "\n",
    "df = len_cb(df)"
   ]
  },
  {
   "cell_type": "code",
   "execution_count": 147,
   "metadata": {},
   "outputs": [],
   "source": [
    "# Function to add password length as proportion of longest password\n",
    "def len_pp(df):\n",
    "    longest = max(df['Length'])\n",
    "    df['Length_Pp'] = df['Length']/longest\n",
    "    \n",
    "len_pp(df)"
   ]
  },
  {
   "cell_type": "markdown",
   "metadata": {},
   "source": [
    "# Password Composition"
   ]
  },
  {
   "cell_type": "code",
   "execution_count": 2,
   "metadata": {},
   "outputs": [],
   "source": [
    "# Function to check if only letters\n",
    "def only_let(pwd):\n",
    "    reg = '^[a-zA-Z]+$'\n",
    "    if re.search(reg, pwd)!=None:\n",
    "        return 1\n",
    "    else:\n",
    "        return 0"
   ]
  },
  {
   "cell_type": "code",
   "execution_count": 3,
   "metadata": {},
   "outputs": [],
   "source": [
    "# Function to check if only digits\n",
    "def only_dig(pwd):\n",
    "    reg = '^\\d+$'\n",
    "    if re.search(reg, pwd)!=None:\n",
    "        return 1\n",
    "    else:\n",
    "        return 0"
   ]
  },
  {
   "cell_type": "code",
   "execution_count": 4,
   "metadata": {},
   "outputs": [],
   "source": [
    "# Function to check if only special chars\n",
    "def only_spc(pwd):\n",
    "    reg = '^\\W+$'\n",
    "    if re.search(reg, pwd)!=None:\n",
    "        return 1\n",
    "    else:\n",
    "        return 0"
   ]
  },
  {
   "cell_type": "code",
   "execution_count": 5,
   "metadata": {},
   "outputs": [],
   "source": [
    "# Function to check if only letters and digits\n",
    "def let_and_dig(pwd):\n",
    "    let, dig, spc = ('(?=[a-zA-Z])', '(?=\\d)', '(?=\\W)')\n",
    "    if (re.search(let, pwd)!=None) and (re.search(dig, pwd)!=None) and (re.search(spc, pwd)==None):\n",
    "        return 1\n",
    "    else:\n",
    "        return 0"
   ]
  },
  {
   "cell_type": "code",
   "execution_count": 6,
   "metadata": {},
   "outputs": [],
   "source": [
    "# Function to check if only letters and special chars\n",
    "def let_and_spc(pwd):\n",
    "    let, dig, spc = ('(?=[a-zA-Z])', '(?=\\d)', '(?=\\W)')\n",
    "    if (re.search(let, pwd)!=None) and (re.search(spc, pwd)!=None) and (re.search(dig, pwd)==None):\n",
    "        return 1\n",
    "    else:\n",
    "        return 0"
   ]
  },
  {
   "cell_type": "code",
   "execution_count": 7,
   "metadata": {},
   "outputs": [],
   "source": [
    "# Function to check if only digits and special chars\n",
    "def dig_and_spc(pwd):\n",
    "    let, dig, spc = ('(?=[a-zA-Z])', '(?=\\d)', '(?=\\W)')\n",
    "    if (re.search(dig, pwd)!=None) and (re.search(spc, pwd)!=None) and (re.search(let, pwd)==None):\n",
    "        return 1\n",
    "    else:\n",
    "        return 0"
   ]
  },
  {
   "cell_type": "markdown",
   "metadata": {},
   "source": [
    "# Check for Dates"
   ]
  },
  {
   "cell_type": "code",
   "execution_count": 8,
   "metadata": {},
   "outputs": [],
   "source": [
    "# Function to check for full dates\n",
    "def full_date(pwd):\n",
    "    b, e, s = ('^', '$', '(\\/|\\-|\\.)')\n",
    "    yyyy, yy, mm, m, dd, d = ('\\d{4}', '\\d{2}', '(((0)[0-9])|((1)[0-2]))',\n",
    "                              '[0-9]', '([0-2][0-9]|(3)[0-1])', '[0-9]')\n",
    "    if (re.search(b+yyyy+s+mm+s+dd+e, pwd)!=None) or (re.search(b+yyyy+s+m+s+dd+e, pwd)!=None) or (\n",
    "        re.search(b+yyyy+s+mm+s+d+e, pwd)!=None) or (re.search(b+yyyy+s+m+s+d+e, pwd)!=None) or (\n",
    "        re.search(b+dd+s+mm+s+yyyy+e, pwd)!=None) or (re.search(b+d+s+mm+s+yyyy+e, pwd)!=None) or (\n",
    "        re.search(b+dd+s+m+s+yyyy+e, pwd)!=None) or (re.search(b+d+s+m+s+yyyy+e, pwd)!=None) or (\n",
    "        re.search(b+mm+s+dd+s+yyyy+e, pwd)!=None) or (re.search(b+m+s+dd+s+yyyy+e, pwd)!=None) or (\n",
    "        re.search(b+mm+s+d+s+yyyy+e, pwd)!=None) or (re.search(b+m+s+d+s+yyyy+e, pwd)!=None) or (\n",
    "        re.search(b+yy+s+mm+s+dd+e, pwd)!=None) or (re.search(b+yy+s+m+s+dd+e, pwd)!=None) or (\n",
    "        re.search(b+yy+s+mm+s+d+e, pwd)!=None) or (re.search(b+yy+s+m+s+d+e, pwd)!=None) or (\n",
    "        re.search(b+dd+s+mm+s+yy+e, pwd)!=None) or (re.search(b+d+s+mm+s+yy+e, pwd)!=None) or (\n",
    "        re.search(b+dd+s+m+s+yy+e, pwd)!=None) or (re.search(b+d+s+m+s+yy+e, pwd)!=None) or (\n",
    "        re.search(b+mm+s+dd+s+yy+e, pwd)!=None) or (re.search(b+m+s+dd+s+yy+e, pwd)!=None) or (\n",
    "        re.search(b+mm+s+d+s+yy+e, pwd)!=None) or (re.search(b+m+s+d+s+yy+e, pwd)!=None):\n",
    "        return 1\n",
    "    else:\n",
    "        return 0"
   ]
  },
  {
   "cell_type": "code",
   "execution_count": 9,
   "metadata": {},
   "outputs": [],
   "source": [
    "# Function to check for year (four-digit number starting with 1 or 2)\n",
    "def has_year(pwd):\n",
    "    reg = '(?<!\\d)(?![0,3-9]\\d\\d\\d)\\d{4}(?!\\d)'\n",
    "    if re.search(reg, pwd)!=None:\n",
    "        return 1\n",
    "    else:\n",
    "        return 0"
   ]
  },
  {
   "cell_type": "markdown",
   "metadata": {},
   "source": [
    "# Check for Repeated Chars"
   ]
  },
  {
   "cell_type": "code",
   "execution_count": 10,
   "metadata": {},
   "outputs": [],
   "source": [
    "# Function to check for two repeated characters\n",
    "def rep_2(pwd):\n",
    "    two = re.compile(r'(\\w|\\W)\\1{1}').search(pwd)\n",
    "    three = re.compile(r'(\\w|\\W)\\1{2}').search(pwd)\n",
    "    if two and not three:\n",
    "        return 1\n",
    "    else:\n",
    "        return 0"
   ]
  },
  {
   "cell_type": "code",
   "execution_count": 11,
   "metadata": {},
   "outputs": [],
   "source": [
    "# Function to check for three repeated characters\n",
    "def rep_3(pwd):\n",
    "    three = re.compile(r'(\\w|\\W)\\1{2}').search(pwd)\n",
    "    four = re.compile(r'(\\w|\\W)\\1{3}').search(pwd)\n",
    "    if three and not four:\n",
    "        return 1\n",
    "    else:\n",
    "        return 0"
   ]
  },
  {
   "cell_type": "code",
   "execution_count": 12,
   "metadata": {},
   "outputs": [],
   "source": [
    "# Function to check for four repeated characters\n",
    "def rep_4(pwd):\n",
    "    four = re.compile(r'(\\w|\\W)\\1{3}').search(pwd)\n",
    "    five = re.compile(r'(\\w|\\W)\\1{4}').search(pwd)\n",
    "    if four and not five:\n",
    "        return 1\n",
    "    else:\n",
    "        return 0"
   ]
  },
  {
   "cell_type": "code",
   "execution_count": 13,
   "metadata": {},
   "outputs": [],
   "source": [
    "# Function to check for five repeated characters\n",
    "def rep_5(pwd):\n",
    "    five = re.compile(r'(\\w|\\W)\\1{4}').search(pwd)\n",
    "    six = re.compile(r'(\\w|\\W)\\1{5}').search(pwd)\n",
    "    if five and not six:\n",
    "        return 1\n",
    "    else:\n",
    "        return 0"
   ]
  },
  {
   "cell_type": "code",
   "execution_count": 14,
   "metadata": {},
   "outputs": [],
   "source": [
    "# Function to check for six repeated characters\n",
    "def rep_6(pwd):\n",
    "    six = re.compile(r'(\\w|\\W)\\1{5}').search(pwd)\n",
    "    seven = re.compile(r'(\\w|\\W)\\1{6}').search(pwd)\n",
    "    if six and not seven:\n",
    "        return 1\n",
    "    else:\n",
    "        return 0"
   ]
  },
  {
   "cell_type": "code",
   "execution_count": 15,
   "metadata": {},
   "outputs": [],
   "source": [
    "# Function to check for seven repeated characters\n",
    "def rep_7(pwd):\n",
    "    seven = re.compile(r'(\\w|\\W)\\1{6}').search(pwd)\n",
    "    eight = re.compile(r'(\\w|\\W)\\1{7}').search(pwd)\n",
    "    if seven and not eight:\n",
    "        return 1\n",
    "    else:\n",
    "        return 0"
   ]
  },
  {
   "cell_type": "code",
   "execution_count": 16,
   "metadata": {},
   "outputs": [],
   "source": [
    "# Function to check for eight repeated characters\n",
    "def rep_8(pwd):\n",
    "    eight = re.compile(r'(\\w|\\W)\\1{7}').search(pwd)\n",
    "    nine = re.compile(r'(\\w|\\W)\\1{8}').search(pwd)\n",
    "    if eight and not nine:\n",
    "        return 1\n",
    "    else:\n",
    "        return 0"
   ]
  },
  {
   "cell_type": "code",
   "execution_count": 17,
   "metadata": {},
   "outputs": [],
   "source": [
    "# Function to check for nine repeated characters\n",
    "def rep_9(pwd):\n",
    "    nine = re.compile(r'(\\w|\\W)\\1{8}').search(pwd)\n",
    "    ten = re.compile(r'(\\w|\\W)\\1{9}').search(pwd)\n",
    "    if nine and not ten:\n",
    "        return 1\n",
    "    else:\n",
    "        return 0"
   ]
  },
  {
   "cell_type": "code",
   "execution_count": 18,
   "metadata": {},
   "outputs": [],
   "source": [
    "# Function to check for ten or more repeated characters\n",
    "def rep_10(pwd):\n",
    "    ten = re.compile(r'(\\w|\\W)\\1{9}').search(pwd)\n",
    "    if ten:\n",
    "        return 1\n",
    "    else:\n",
    "        return 0"
   ]
  },
  {
   "cell_type": "markdown",
   "metadata": {},
   "source": [
    "# Check for Consecutive Ascending Digits"
   ]
  },
  {
   "cell_type": "code",
   "execution_count": 19,
   "metadata": {},
   "outputs": [],
   "source": [
    "# Function to check for two consecutive ascending digits\n",
    "def asc_d_2(pwd):\n",
    "    two = ['01', '12', '23', '34', '45', '56', '67', '78', '89']\n",
    "    return 1 if any(i in pwd for i in two) else 0"
   ]
  },
  {
   "cell_type": "code",
   "execution_count": 20,
   "metadata": {},
   "outputs": [],
   "source": [
    "# Function to check for three consecutive ascending digits\n",
    "def asc_d_3(pwd):\n",
    "    three = ['012', '123', '234', '345', '456', '567', '678', '789']\n",
    "    return 1 if any(i in pwd for i in three) else 0"
   ]
  },
  {
   "cell_type": "code",
   "execution_count": 21,
   "metadata": {},
   "outputs": [],
   "source": [
    "# Function to check for four consecutive ascending digits\n",
    "def asc_d_4(pwd):\n",
    "    four = ['0123', '1234', '2345', '3456', '4567', '5678', '6789']\n",
    "    return 1 if any(i in pwd for i in four) else 0"
   ]
  },
  {
   "cell_type": "code",
   "execution_count": 22,
   "metadata": {},
   "outputs": [],
   "source": [
    "# Function to check for five consecutive ascending digits\n",
    "def asc_d_5(pwd):\n",
    "    five = ['01234', '12345', '23456', '34567', '45678', '56789']\n",
    "    return 1 if any(i in pwd for i in five) else 0"
   ]
  },
  {
   "cell_type": "code",
   "execution_count": 23,
   "metadata": {},
   "outputs": [],
   "source": [
    "# Function to check for six consecutive ascending digits\n",
    "def asc_d_6(pwd):\n",
    "    six = ['012345', '123456', '234567', '345678', '456789']\n",
    "    return 1 if any(i in pwd for i in six) else 0"
   ]
  },
  {
   "cell_type": "code",
   "execution_count": 24,
   "metadata": {},
   "outputs": [],
   "source": [
    "# Function to check for seven consecutive ascending digits\n",
    "def asc_d_7(pwd):\n",
    "    seven = ['0123456', '1234567', '2345678', '3456789']\n",
    "    return 1 if any(i in pwd for i in seven) else 0"
   ]
  },
  {
   "cell_type": "code",
   "execution_count": 25,
   "metadata": {},
   "outputs": [],
   "source": [
    "# Function to check for eight consecutive ascending digits\n",
    "def asc_d_8(pwd):\n",
    "    eight = ['01234567', '12345678', '23456789']\n",
    "    return 1 if any(i in pwd for i in eight) else 0"
   ]
  },
  {
   "cell_type": "code",
   "execution_count": 26,
   "metadata": {},
   "outputs": [],
   "source": [
    "# Function to check for nine consecutive ascending digits\n",
    "def asc_d_9(pwd):\n",
    "    nine = ['012345678', '123456789']\n",
    "    return 1 if any(i in pwd for i in nine) else 0"
   ]
  },
  {
   "cell_type": "code",
   "execution_count": 27,
   "metadata": {},
   "outputs": [],
   "source": [
    "# Function to check for ten consecutive ascending digits\n",
    "def asc_d_10(pwd):\n",
    "    ten = ['0123456789']\n",
    "    return 1 if any(i in pwd for i in ten) else 0"
   ]
  },
  {
   "cell_type": "markdown",
   "metadata": {},
   "source": [
    "# Check for Consecutive Descending Digits"
   ]
  },
  {
   "cell_type": "code",
   "execution_count": 28,
   "metadata": {},
   "outputs": [],
   "source": [
    "# Function to check for two consecutive descending digits\n",
    "def dec_d_2(pwd):\n",
    "    two = ['98', '87', '76', '65', '54', '43', '32', '21', '10']\n",
    "    return 1 if any(i in pwd for i in two) else 0"
   ]
  },
  {
   "cell_type": "code",
   "execution_count": 29,
   "metadata": {},
   "outputs": [],
   "source": [
    "# Function to check for three consecutive descending digits\n",
    "def dec_d_3(pwd):\n",
    "    three = ['987', '876', '765', '654', '543', '432', '321', '210']\n",
    "    return 1 if any(i in pwd for i in three) else 0"
   ]
  },
  {
   "cell_type": "code",
   "execution_count": 30,
   "metadata": {},
   "outputs": [],
   "source": [
    "# Function to check for four consecutive descending digits\n",
    "def dec_d_4(pwd):\n",
    "    four = ['9876', '8765', '7654', '6543', '5432', '4321', '3210']\n",
    "    return 1 if any(i in pwd for i in four) else 0"
   ]
  },
  {
   "cell_type": "code",
   "execution_count": 31,
   "metadata": {},
   "outputs": [],
   "source": [
    "# Function to check for five consecutive descending digits\n",
    "def dec_d_5(pwd):\n",
    "    five = ['98765', '87654', '76543', '65432', '54321', '43210']\n",
    "    return 1 if any(i in pwd for i in five) else 0"
   ]
  },
  {
   "cell_type": "code",
   "execution_count": 32,
   "metadata": {},
   "outputs": [],
   "source": [
    "# Function to check for six consecutive descending digits\n",
    "def dec_d_6(pwd):\n",
    "    six = ['987654', '876543', '765432', '654321', '543210']\n",
    "    return 1 if any(i in pwd for i in six) else 0"
   ]
  },
  {
   "cell_type": "code",
   "execution_count": 33,
   "metadata": {},
   "outputs": [],
   "source": [
    "# Function to check for seven consecutive descending digits\n",
    "def dec_d_7(pwd):\n",
    "    seven = ['9876543', '8765432', '7654321', '6543210']\n",
    "    return 1 if any(i in pwd for i in seven) else 0"
   ]
  },
  {
   "cell_type": "code",
   "execution_count": 34,
   "metadata": {},
   "outputs": [],
   "source": [
    "# Function to check for eight consecutive descending digits\n",
    "def dec_d_8(pwd):\n",
    "    eight = ['98765432', '87654321', '76543210']\n",
    "    return 1 if any(i in pwd for i in eight) else 0"
   ]
  },
  {
   "cell_type": "code",
   "execution_count": 35,
   "metadata": {},
   "outputs": [],
   "source": [
    "# Function to check for nine consecutive descending digits\n",
    "def dec_d_9(pwd):\n",
    "    nine = ['987654321', '876543210']\n",
    "    return 1 if any(i in pwd for i in nine) else 0"
   ]
  },
  {
   "cell_type": "code",
   "execution_count": 36,
   "metadata": {},
   "outputs": [],
   "source": [
    "# Function to check for ten consecutive descending digits\n",
    "def dec_d_10(pwd):\n",
    "    ten = ['9876543210']\n",
    "    return 1 if any(i in pwd for i in ten) else 0"
   ]
  },
  {
   "cell_type": "markdown",
   "metadata": {},
   "source": [
    "# Check for Consecutive Ascending Letters"
   ]
  },
  {
   "cell_type": "code",
   "execution_count": 37,
   "metadata": {},
   "outputs": [],
   "source": [
    "# Function to check for two consecutive ascending letters\n",
    "def asc_l_2(pwd):\n",
    "    two = ['ab', 'bc', 'cd', 'de', 'ef', 'fg', 'gh', 'hi', 'ij', 'jk', 'kl', 'lm', 'mn',\n",
    "           'no', 'op', 'pq', 'qr', 'rs', 'st', 'tu', 'uv', 'vw', 'wx', 'xy', 'yz']\n",
    "    return 1 if any(i in pwd for i in two) else 0"
   ]
  },
  {
   "cell_type": "code",
   "execution_count": 38,
   "metadata": {},
   "outputs": [],
   "source": [
    "# Function to check for three consecutive ascending letters\n",
    "def asc_l_3(pwd):\n",
    "    three = ['abc', 'bcd', 'cde', 'def', 'efg', 'fgh', 'ghi', 'hij', 'ijk', 'jkl', 'klm',\n",
    "             'lmn', 'mno', 'nop', 'opq', 'pqr', 'qrs', 'rst', 'stu', 'tuv', 'uvw', 'vwx',\n",
    "             'wxy', 'xyz']\n",
    "    return 1 if any(i in pwd for i in three) else 0"
   ]
  },
  {
   "cell_type": "code",
   "execution_count": 39,
   "metadata": {},
   "outputs": [],
   "source": [
    "# Function to check for four consecutive ascending letters\n",
    "def asc_l_4(pwd):\n",
    "    four = ['abcd', 'bcde', 'cdef', 'defg', 'efgh', 'fghi', 'ghij', 'hijk', 'ijkl', 'jklm',\n",
    "            'klmn', 'lmno', 'mnop', 'nopq', 'opqr', 'pqrs', 'qrst', 'rstu', 'stuv', 'tuvw',\n",
    "            'uvwx', 'vwxy', 'wxyz']\n",
    "    return 1 if any(i in pwd for i in four) else 0"
   ]
  },
  {
   "cell_type": "code",
   "execution_count": 40,
   "metadata": {},
   "outputs": [],
   "source": [
    "# Function to check for five consecutive ascending letters\n",
    "def asc_l_5(pwd):\n",
    "    five = ['abcde', 'bcdef', 'cdefg', 'defgh', 'efghi', 'fghij', 'ghijk', 'hijkl', 'ijklm',\n",
    "            'jklmn', 'klmno', 'lmnop', 'mnopq', 'nopqr', 'opqrs', 'pqrst', 'qrstu', 'rstuv',\n",
    "            'stuvw', 'tuvwx', 'uvwxy', 'vwxyz']\n",
    "    return 1 if any(i in pwd for i in five) else 0"
   ]
  },
  {
   "cell_type": "code",
   "execution_count": 41,
   "metadata": {},
   "outputs": [],
   "source": [
    "# Function to check for six consecutive ascending letters\n",
    "def asc_l_6(pwd):\n",
    "    six = ['abcdef', 'bcdefg', 'cdefgh', 'defghi', 'efghij', 'fghijk', 'ghijkl', 'hijklm',\n",
    "           'ijklmn', 'jklmno', 'klmnop', 'lmnopq', 'mnopqr', 'nopqrs', 'opqrst', 'pqrstu',\n",
    "           'qrstuv', 'rstuvw', 'stuvwx', 'tuvwxy', 'uvwxyz']\n",
    "    return 1 if any(i in pwd for i in six) else 0"
   ]
  },
  {
   "cell_type": "code",
   "execution_count": 42,
   "metadata": {},
   "outputs": [],
   "source": [
    "# Function to check for seven consecutive ascending letters\n",
    "def asc_l_7(pwd):\n",
    "    seven = ['abcdefg', 'bcdefgh', 'cdefghi', 'defghij', 'efghijk', 'fghijkl', 'ghijklm',\n",
    "             'hijklmn', 'ijklmno', 'jklmnop', 'klmnopq', 'lmnopqr', 'mnopqrs', 'nopqrst',\n",
    "             'opqrstu', 'pqrstuv', 'qrstuvw', 'rstuvwx', 'stuvwxy', 'tuvwxyz']\n",
    "    return 1 if any(i in pwd for i in seven) else 0"
   ]
  },
  {
   "cell_type": "code",
   "execution_count": 43,
   "metadata": {},
   "outputs": [],
   "source": [
    "# Function to check for eight consecutive ascending letters\n",
    "def asc_l_8(pwd):\n",
    "    eight = ['abcdefgh', 'bcdefghi', 'cdefghij', 'defghijk', 'efghijkl', 'fghijklm',\n",
    "             'ghijklmn', 'hijklmno', 'ijklmnop', 'jklmnopq', 'klmnopqr', 'lmnopqrs',\n",
    "             'mnopqrst', 'nopqrstu', 'opqrstuv', 'pqrstuvw', 'qrstuvwx', 'rstuvwxy',\n",
    "             'stuvwxyz']\n",
    "    return 1 if any(i in pwd for i in eight) else 0"
   ]
  },
  {
   "cell_type": "code",
   "execution_count": 44,
   "metadata": {},
   "outputs": [],
   "source": [
    "# Function to check for nine consecutive ascending letters\n",
    "def asc_l_9(pwd):\n",
    "    nine = ['abcdefghi', 'bcdefghij', 'cdefghijk', 'defghijkl', 'efghijklm', 'fghijklmn',\n",
    "            'ghijklmno', 'hijklmnop', 'ijklmnopq', 'jklmnopqr', 'klmnopqrs', 'lmnopqrst',\n",
    "            'mnopqrstu', 'nopqrstuv', 'opqrstuvw', 'pqrstuvwx', 'qrstuvwxy', 'rstuvwxyz']\n",
    "    return 1 if any(i in pwd for i in nine) else 0"
   ]
  },
  {
   "cell_type": "code",
   "execution_count": 45,
   "metadata": {},
   "outputs": [],
   "source": [
    "# Function to check for ten consecutive ascending letters\n",
    "def asc_l_10(pwd):\n",
    "    ten = ['abcdefghij', 'bcdefghijk', 'cdefghijkl', 'defghijklm', 'efghijklmn', 'fghijklmno',\n",
    "           'ghijklmnop', 'hijklmnopq', 'ijklmnopqr', 'jklmnopqrs', 'klmnopqrst', 'lmnopqrstu',\n",
    "           'mnopqrstuv', 'nopqrstuvw', 'opqrstuvwx', 'pqrstuvwxy', 'qrstuvwxyz']\n",
    "    return 1 if any(i in pwd for i in ten) else 0"
   ]
  },
  {
   "cell_type": "markdown",
   "metadata": {},
   "source": [
    "# Check for Consecutive Descending Letters"
   ]
  },
  {
   "cell_type": "code",
   "execution_count": 46,
   "metadata": {},
   "outputs": [],
   "source": [
    "# Function to check for two consecutive descending letters\n",
    "def dec_l_2(pwd):\n",
    "    two = ['zy', 'yx', 'xw', 'wv', 'vu', 'ut', 'ts', 'sr', 'rq', 'qp', 'po', 'on', 'nm',\n",
    "           'ml', 'lk', 'kj', 'ji', 'ih', 'hg', 'gf', 'fe', 'ed', 'dc', 'cb', 'ba']\n",
    "    return 1 if any(i in pwd for i in two) else 0"
   ]
  },
  {
   "cell_type": "code",
   "execution_count": 47,
   "metadata": {},
   "outputs": [],
   "source": [
    "# Function to check for three consecutive descending letters\n",
    "def dec_l_3(pwd):\n",
    "    three = ['zyx', 'yxw', 'xwv', 'wvu', 'vut', 'uts', 'tsr', 'srq', 'rqp', 'qpo', 'pon',\n",
    "             'onm', 'nml', 'mlk', 'lkj', 'kji', 'jih', 'ihg', 'hgf', 'gfe', 'fed', 'edc',\n",
    "             'dcb', 'cba']\n",
    "    return 1 if any(i in pwd for i in three) else 0"
   ]
  },
  {
   "cell_type": "code",
   "execution_count": 48,
   "metadata": {},
   "outputs": [],
   "source": [
    "# Function to check for four consecutive descending letters\n",
    "def dec_l_4(pwd):\n",
    "    four = ['zyxw', 'yxwv', 'xwvu', 'wvut', 'vuts', 'utsr', 'tsrq', 'srqp', 'rqpo', 'qpon',\n",
    "            'ponm', 'onml', 'nmlk', 'mlkj', 'lkji', 'kjih', 'jihg', 'ihgf', 'hgfe', 'gfed',\n",
    "            'fedc', 'edcb', 'dcba']\n",
    "    return 1 if any(i in pwd for i in four) else 0"
   ]
  },
  {
   "cell_type": "code",
   "execution_count": 49,
   "metadata": {},
   "outputs": [],
   "source": [
    "# Function to check for five consecutive descending letters\n",
    "def dec_l_5(pwd):\n",
    "    five = ['zyxwv', 'yxwvu', 'xwvut', 'wvuts', 'vutsr', 'utsrq', 'tsrqp', 'srqpo', 'rqpon',\n",
    "            'qponm', 'ponml', 'onmlk', 'nmlkj', 'mlkji', 'lkjih', 'kjihg', 'jihgf', 'ihgfe',\n",
    "            'hgfed', 'gfedc', 'fedcb', 'edcba']\n",
    "    return 1 if any(i in pwd for i in five) else 0"
   ]
  },
  {
   "cell_type": "code",
   "execution_count": 50,
   "metadata": {},
   "outputs": [],
   "source": [
    "# Function to check for six consecutive descending letters\n",
    "def dec_l_6(pwd):\n",
    "    six = ['zyxwvu', 'yxwvut', 'xwvuts', 'wvutsr', 'vutsrq', 'utsrqp', 'tsrqpo', 'srqpon',\n",
    "           'rqponm', 'qponml', 'ponmlk', 'onmlkj', 'nmlkji', 'mlkjih', 'lkjihg', 'kjihgf',\n",
    "           'jihgfe', 'ihgfed', 'hgfedc', 'gfedcb', 'fedcba']\n",
    "    return 1 if any(i in pwd for i in six) else 0"
   ]
  },
  {
   "cell_type": "code",
   "execution_count": 51,
   "metadata": {},
   "outputs": [],
   "source": [
    "# Function to check for seven consecutive descending letters\n",
    "def dec_l_7(pwd):\n",
    "    seven = ['zyxwvut', 'yxwvuts', 'xwvutsr', 'wvutsrq', 'vutsrqp', 'utsrqpo', 'tsrqpon',\n",
    "             'srqponm', 'rqponml', 'qponmlk', 'ponmlkj', 'onmlkji', 'nmlkjih', 'mlkjihg',\n",
    "             'lkjihgf', 'kjihgfe', 'jihgfed', 'ihgfedc', 'hgfedcb', 'gfedcba']\n",
    "    return 1 if any(i in pwd for i in seven) else 0"
   ]
  },
  {
   "cell_type": "code",
   "execution_count": 52,
   "metadata": {},
   "outputs": [],
   "source": [
    "# Function to check for eight consecutive descending letters\n",
    "def dec_l_8(pwd):\n",
    "    eight = ['zyxwvuts', 'yxwvutsr', 'xwvutsrq', 'wvutsrqp', 'vutsrqpo', 'utsrqpon',\n",
    "             'tsrqponm', 'srqponml', 'rqponmlk', 'qponmlkj', 'ponmlkji', 'onmlkjih',\n",
    "             'nmlkjihg', 'mlkjihgf', 'lkjihgfe', 'kjihgfed', 'jihgfedc', 'ihgfedcb',\n",
    "             'hgfedcba']\n",
    "    return 1 if any(i in pwd for i in eight) else 0"
   ]
  },
  {
   "cell_type": "code",
   "execution_count": 53,
   "metadata": {},
   "outputs": [],
   "source": [
    "# Function to check for nine consecutive descending letters\n",
    "def dec_l_9(pwd):\n",
    "    nine = ['zyxwvutsr', 'yxwvutsrq', 'xwvutsrqp', 'wvutsrqpo', 'vutsrqpon', 'utsrqponm',\n",
    "            'tsrqponml', 'srqponmlk', 'rqponmlkj', 'qponmlkji', 'ponmlkjih', 'onmlkjihg',\n",
    "            'nmlkjihgf', 'mlkjihgfe', 'lkjihgfed', 'kjihgfedc', 'jihgfedcb', 'ihgfedcba']\n",
    "    return 1 if any(i in pwd for i in nine) else 0"
   ]
  },
  {
   "cell_type": "code",
   "execution_count": 54,
   "metadata": {},
   "outputs": [],
   "source": [
    "# Function to check for ten consecutive descending letters\n",
    "def dec_l_10(pwd):\n",
    "    ten = ['zyxwvutsrq', 'yxwvutsrqp', 'xwvutsrqpo', 'wvutsrqpon', 'vutsrqponm', 'utsrqponml',\n",
    "           'tsrqponmlk', 'srqponmlkj', 'rqponmlkji', 'qponmlkjih', 'ponmlkjihg', 'onmlkjihgf',\n",
    "           'nmlkjihgfe', 'mlkjihgfed', 'lkjihgfedc', 'kjihgfedcb', 'jihgfedcba']\n",
    "    return 1 if any(i in pwd for i in ten) else 0"
   ]
  },
  {
   "cell_type": "code",
   "execution_count": null,
   "metadata": {},
   "outputs": [],
   "source": []
  }
 ],
 "metadata": {
  "kernelspec": {
   "display_name": "Python 3",
   "language": "python",
   "name": "python3"
  },
  "language_info": {
   "codemirror_mode": {
    "name": "ipython",
    "version": 3
   },
   "file_extension": ".py",
   "mimetype": "text/x-python",
   "name": "python",
   "nbconvert_exporter": "python",
   "pygments_lexer": "ipython3",
   "version": "3.7.6"
  }
 },
 "nbformat": 4,
 "nbformat_minor": 4
}
