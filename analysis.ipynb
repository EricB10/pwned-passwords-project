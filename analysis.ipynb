{
 "cells": [
  {
   "cell_type": "code",
   "execution_count": 1,
   "metadata": {},
   "outputs": [],
   "source": [
    "import numpy as np\n",
    "import pandas as pd\n",
    "import math\n",
    "import hashlib\n",
    "import re\n",
    "\n",
    "import scipy.stats as stats\n",
    "import statsmodels.api as sm\n",
    "import statsmodels.formula.api as smf\n",
    "from patsy import dmatrices\n",
    "\n",
    "from sklearn.model_selection import train_test_split\n",
    "from sklearn import metrics\n",
    "from sklearn.linear_model import Lasso\n",
    "\n",
    "import matplotlib\n",
    "import matplotlib.pyplot as plt\n",
    "%matplotlib inline\n",
    "import seaborn as sns"
   ]
  },
  {
   "cell_type": "markdown",
   "metadata": {},
   "source": [
    "# Load Working Dataframe"
   ]
  },
  {
   "cell_type": "code",
   "execution_count": 2,
   "metadata": {},
   "outputs": [
    {
     "data": {
      "text/plain": [
       "(86140, 113)"
      ]
     },
     "execution_count": 2,
     "metadata": {},
     "output_type": "execute_result"
    }
   ],
   "source": [
    "# Load working dataframe\n",
    "df = pd.read_csv('Datasets/working_df.csv')\n",
    "\n",
    "df.shape"
   ]
  },
  {
   "cell_type": "code",
   "execution_count": 3,
   "metadata": {},
   "outputs": [
    {
     "data": {
      "text/plain": [
       "(76581, 113)"
      ]
     },
     "execution_count": 3,
     "metadata": {},
     "output_type": "execute_result"
    }
   ],
   "source": [
    "# Drop passwords leaked 100000 times or more\n",
    "df = df[df['Total'] < 10000]\n",
    "\n",
    "df.shape"
   ]
  },
  {
   "cell_type": "markdown",
   "metadata": {},
   "source": [
    "# EDA"
   ]
  },
  {
   "cell_type": "code",
   "execution_count": 4,
   "metadata": {},
   "outputs": [
    {
     "data": {
      "text/plain": [
       "count    76581.000000\n",
       "mean      2461.055040\n",
       "std       2054.224553\n",
       "min          0.000000\n",
       "25%        938.000000\n",
       "50%       1900.000000\n",
       "75%       3433.000000\n",
       "max       9999.000000\n",
       "Name: Total, dtype: float64"
      ]
     },
     "execution_count": 4,
     "metadata": {},
     "output_type": "execute_result"
    }
   ],
   "source": [
    "df['Total'].describe()"
   ]
  },
  {
   "cell_type": "code",
   "execution_count": 5,
   "metadata": {},
   "outputs": [
    {
     "data": {
      "text/plain": [
       "Index(['Length', 'Length_Pp', 'Only_Let', 'Only_Dig', 'Only_Spc',\n",
       "       'Let_And_Dig', 'Let_And_Spc', 'Dig_And_Spc', 'Date', 'Year', 'Rep_2',\n",
       "       'Rep_3', 'Rep_4', 'Rep_5', 'Rep_6', 'Rep_7', 'Rep_8', 'Rep_9', 'Rep_10',\n",
       "       'Asc_Dig_2', 'Asc_Dig_3', 'Asc_Dig_4', 'Asc_Dig_5', 'Asc_Dig_6',\n",
       "       'Asc_Dig_7', 'Asc_Dig_8', 'Asc_Dig_9', 'Asc_Dig_10', 'Dsc_Dig_2',\n",
       "       'Dsc_Dig_3', 'Dsc_Dig_4', 'Dsc_Dig_5', 'Dsc_Dig_6', 'Dsc_Dig_7',\n",
       "       'Dsc_Dig_8', 'Dsc_Dig_9', 'Dsc_Dig_10', 'Asc_Let_2', 'Asc_Let_3',\n",
       "       'Asc_Let_4', 'Asc_Let_5', 'Asc_Let_6', 'Asc_Let_7', 'Asc_Let_8',\n",
       "       'Asc_Let_9', 'Asc_Let_10', 'Dsc_Let_2', 'Dsc_Let_3', 'Dsc_Let_4',\n",
       "       'Dsc_Let_5', 'Dsc_Let_6', 'Dsc_Let_7', 'Dsc_Let_8', 'Dsc_Let_9',\n",
       "       'Dsc_Let_10'],\n",
       "      dtype='object')"
      ]
     },
     "execution_count": 5,
     "metadata": {},
     "output_type": "execute_result"
    }
   ],
   "source": [
    "# Create list of features\n",
    "ignore = ['Password', 'SHA_1', 'Total', 'Length_Sq', 'Length_Cb',\n",
    "          'Only_Let_Div_Len', 'Only_Dig_Div_Len', 'Only_Spc_Div_Len',\n",
    "          'Let_And_Dig_Div_Len', 'Let_And_Spc_Div_Len', 'Dig_And_Spc_Div_Len',\n",
    "          'Date_Div_Len', 'Year_Div_Len', 'Rep_2_Div_Len', 'Rep_3_Div_Len',\n",
    "          'Rep_4_Div_Len', 'Rep_5_Div_Len', 'Rep_6_Div_Len', 'Rep_7_Div_Len',\n",
    "          'Rep_8_Div_Len', 'Rep_9_Div_Len', 'Rep_10_Div_Len', 'Asc_Dig_2_Div_Len',\n",
    "          'Asc_Dig_3_Div_Len', 'Asc_Dig_4_Div_Len', 'Asc_Dig_5_Div_Len', 'Asc_Dig_6_Div_Len',\n",
    "          'Asc_Dig_7_Div_Len', 'Asc_Dig_8_Div_Len', 'Asc_Dig_9_Div_Len', 'Asc_Dig_10_Div_Len',\n",
    "          'Dsc_Dig_2_Div_Len', 'Dsc_Dig_3_Div_Len', 'Dsc_Dig_4_Div_Len', 'Dsc_Dig_5_Div_Len',\n",
    "          'Dsc_Dig_6_Div_Len', 'Dsc_Dig_7_Div_Len', 'Dsc_Dig_8_Div_Len', 'Dsc_Dig_9_Div_Len',\n",
    "          'Dsc_Dig_10_Div_Len', 'Asc_Let_2_Div_Len', 'Asc_Let_3_Div_Len', 'Asc_Let_4_Div_Len',\n",
    "          'Asc_Let_5_Div_Len', 'Asc_Let_6_Div_Len', 'Asc_Let_7_Div_Len', 'Asc_Let_8_Div_Len',\n",
    "          'Asc_Let_9_Div_Len', 'Asc_Let_10_Div_Len', 'Dsc_Let_2_Div_Len', 'Dsc_Let_3_Div_Len',\n",
    "          'Dsc_Let_4_Div_Len', 'Dsc_Let_5_Div_Len', 'Dsc_Let_6_Div_Len', 'Dsc_Let_7_Div_Len',\n",
    "          'Dsc_Let_8_Div_Len', 'Dsc_Let_9_Div_Len', 'Dsc_Let_10_Div_Len']\n",
    "features = df.drop(columns=ignore, axis=1).keys()\n",
    "features"
   ]
  },
  {
   "cell_type": "code",
   "execution_count": 6,
   "metadata": {},
   "outputs": [],
   "source": [
    "# # Create list of features\n",
    "# ignore = ['Password', 'SHA_1', 'Total']\n",
    "# features = df.drop(columns=ignore, axis=1).keys()\n",
    "# features"
   ]
  },
  {
   "cell_type": "code",
   "execution_count": 7,
   "metadata": {
    "scrolled": true
   },
   "outputs": [],
   "source": [
    "# # Function to create feature pplots\n",
    "# def pplot_features(df, features):\n",
    "#     pp_rows = [features[i:i+4] for i in range(0, len(features), 4)]\n",
    "#     for row in pp_rows:\n",
    "#         pp = sns.pairplot(data=df, y_vars=['Total'], x_vars=row, kind='reg', height=3)\n",
    "#     return None\n",
    "\n",
    "# # Create feature pplots for training df\n",
    "# pplot_features(df, features)"
   ]
  },
  {
   "cell_type": "code",
   "execution_count": 46,
   "metadata": {},
   "outputs": [
    {
     "name": "stderr",
     "output_type": "stream",
     "text": [
      "/Users/eric/opt/anaconda3/lib/python3.7/site-packages/ipykernel_launcher.py:2: UserWarning: Boolean Series key will be reindexed to match DataFrame index.\n",
      "  \n",
      "/Users/eric/opt/anaconda3/lib/python3.7/site-packages/ipykernel_launcher.py:3: UserWarning: Boolean Series key will be reindexed to match DataFrame index.\n",
      "  This is separate from the ipykernel package so we can avoid doing imports until\n"
     ]
    }
   ],
   "source": [
    "# Filters for password length and composition\n",
    "let_dig_spc = (df[df['Only_Let']==0][df['Only_Dig']==0][df['Only_Spc']==0][df['Let_And_Dig']==0]\n",
    "               [df['Let_And_Spc']==0][df['Dig_And_Spc']==0])\n",
    "\n",
    "filt_letdig = df['Let_And_Dig'] == 1\n",
    "filt_letspc = df['Let_And_Spc'] == 1\n",
    "filt_6 = df['Length'] == 6\n",
    "filt_7 = df['Length'] == 7\n",
    "filt_8 = df['Length'] == 8\n",
    "filt_9 = df['Length'] == 9\n",
    "filt_10 = df['Length'] == 10\n",
    "filt_11 = df['Length'] == 11\n",
    "filt_12 = df['Length'] == 12"
   ]
  },
  {
   "cell_type": "code",
   "execution_count": 47,
   "metadata": {},
   "outputs": [],
   "source": [
    "# # Letter and digit passwords by length\n",
    "# print(df[filt_letdig][filt_8]['Total'].mean(), df[filt_letdig][filt_9]['Total'].mean(),\n",
    "#       df[filt_letdig][filt_10]['Total'].mean(), df[filt_letdig][filt_11]['Total'].mean(),\n",
    "#       df[filt_letdig][filt_12]['Total'].mean())"
   ]
  },
  {
   "cell_type": "code",
   "execution_count": 48,
   "metadata": {},
   "outputs": [],
   "source": [
    "# # Letter and special character passwords by length\n",
    "# print(df[filt_letspc][filt_8]['Total'].mean(), df[filt_letspc][filt_9]['Total'].mean(),\n",
    "#       df[filt_letspc][filt_10]['Total'].mean(), df[filt_letspc][filt_11]['Total'].mean(),\n",
    "#       df[filt_letspc][filt_12]['Total'].mean())"
   ]
  },
  {
   "cell_type": "code",
   "execution_count": 49,
   "metadata": {},
   "outputs": [],
   "source": [
    "# # Letter, digit and special character passwords by length\n",
    "# print(let_dig_spc[filt_8]['Total'].mean(), let_dig_spc[filt_9]['Total'].mean(),\n",
    "#       let_dig_spc[filt_10]['Total'].mean(), let_dig_spc[filt_11]['Total'].mean(),\n",
    "#       let_dig_spc[filt_12]['Total'].mean())"
   ]
  },
  {
   "cell_type": "code",
   "execution_count": 50,
   "metadata": {},
   "outputs": [],
   "source": [
    "# # Filters for repeated characters\n",
    "# filt_r2 = df['Rep_2'] = 1\n",
    "# filt_r3 = df['Rep_3'] = 1\n",
    "# filt_r4 = df['Rep_4'] = 1\n",
    "# filt_r5 = df['Rep_5'] = 1\n",
    "# filt_r6 = df['Rep_6'] = 1\n",
    "# filt_r7 = df['Rep_7'] = 1\n",
    "# filt_r8 = df['Rep_8'] = 1"
   ]
  },
  {
   "cell_type": "markdown",
   "metadata": {},
   "source": [
    "# Test/Train Split"
   ]
  },
  {
   "cell_type": "code",
   "execution_count": 14,
   "metadata": {},
   "outputs": [],
   "source": [
    "# Fucntion to split data into test and train data\n",
    "def tt_split(df):\n",
    "    ignore = ['Password', 'SHA_1', 'Total']\n",
    "    Y = df['Total']\n",
    "    for col in ignore:\n",
    "        df = df.drop(columns=col, axis=1)\n",
    "    x_train, x_test, y_train, y_test = train_test_split(df, Y, random_state=22,test_size=0.2)\n",
    "    return x_train, x_test, y_train, y_test\n",
    "\n",
    "# Split training data into test and train data\n",
    "x_train, x_test, y_train, y_test = tt_split(df)"
   ]
  },
  {
   "cell_type": "markdown",
   "metadata": {},
   "source": [
    "# Simple Linear Regression"
   ]
  },
  {
   "cell_type": "code",
   "execution_count": 15,
   "metadata": {},
   "outputs": [
    {
     "name": "stderr",
     "output_type": "stream",
     "text": [
      "/Users/eric/opt/anaconda3/lib/python3.7/site-packages/numpy/core/fromnumeric.py:2495: FutureWarning: Method .ptp is deprecated and will be removed in a future version. Use numpy.ptp instead.\n",
      "  return ptp(axis=axis, out=out, **kwargs)\n",
      "/Users/eric/opt/anaconda3/lib/python3.7/site-packages/statsmodels/base/model.py:1294: RuntimeWarning: invalid value encountered in true_divide\n",
      "  return self.params / self.bse\n",
      "/Users/eric/opt/anaconda3/lib/python3.7/site-packages/scipy/stats/_distn_infrastructure.py:903: RuntimeWarning: invalid value encountered in greater\n",
      "  return (a < x) & (x < b)\n",
      "/Users/eric/opt/anaconda3/lib/python3.7/site-packages/scipy/stats/_distn_infrastructure.py:903: RuntimeWarning: invalid value encountered in less\n",
      "  return (a < x) & (x < b)\n",
      "/Users/eric/opt/anaconda3/lib/python3.7/site-packages/scipy/stats/_distn_infrastructure.py:1912: RuntimeWarning: invalid value encountered in less_equal\n",
      "  cond2 = cond0 & (x <= _a)\n"
     ]
    },
    {
     "data": {
      "text/html": [
       "<table class=\"simpletable\">\n",
       "<caption>OLS Regression Results</caption>\n",
       "<tr>\n",
       "  <th>Dep. Variable:</th>          <td>Total</td>      <th>  R-squared:         </th>  <td>   0.048</td>  \n",
       "</tr>\n",
       "<tr>\n",
       "  <th>Model:</th>                   <td>OLS</td>       <th>  Adj. R-squared:    </th>  <td>   0.047</td>  \n",
       "</tr>\n",
       "<tr>\n",
       "  <th>Method:</th>             <td>Least Squares</td>  <th>  F-statistic:       </th>  <td>   38.57</td>  \n",
       "</tr>\n",
       "<tr>\n",
       "  <th>Date:</th>             <td>Fri, 08 May 2020</td> <th>  Prob (F-statistic):</th>   <td>  0.00</td>   \n",
       "</tr>\n",
       "<tr>\n",
       "  <th>Time:</th>                 <td>10:45:22</td>     <th>  Log-Likelihood:    </th> <td>-5.5282e+05</td>\n",
       "</tr>\n",
       "<tr>\n",
       "  <th>No. Observations:</th>      <td> 61264</td>      <th>  AIC:               </th>  <td>1.106e+06</td> \n",
       "</tr>\n",
       "<tr>\n",
       "  <th>Df Residuals:</th>          <td> 61183</td>      <th>  BIC:               </th>  <td>1.107e+06</td> \n",
       "</tr>\n",
       "<tr>\n",
       "  <th>Df Model:</th>              <td>    80</td>      <th>                     </th>      <td> </td>     \n",
       "</tr>\n",
       "<tr>\n",
       "  <th>Covariance Type:</th>      <td>nonrobust</td>    <th>                     </th>      <td> </td>     \n",
       "</tr>\n",
       "</table>\n",
       "<table class=\"simpletable\">\n",
       "<tr>\n",
       "           <td></td>              <th>coef</th>     <th>std err</th>      <th>t</th>      <th>P>|t|</th>  <th>[0.025</th>    <th>0.975]</th>  \n",
       "</tr>\n",
       "<tr>\n",
       "  <th>Length</th>              <td> 1266.9433</td> <td>  855.772</td> <td>    1.480</td> <td> 0.139</td> <td> -410.373</td> <td> 2944.259</td>\n",
       "</tr>\n",
       "<tr>\n",
       "  <th>Length_Sq</th>           <td>  -30.4948</td> <td>   60.311</td> <td>   -0.506</td> <td> 0.613</td> <td> -148.705</td> <td>   87.716</td>\n",
       "</tr>\n",
       "<tr>\n",
       "  <th>Length_Cb</th>           <td>   -0.4165</td> <td>    1.546</td> <td>   -0.269</td> <td> 0.788</td> <td>   -3.447</td> <td>    2.614</td>\n",
       "</tr>\n",
       "<tr>\n",
       "  <th>Length_Pp</th>           <td>   63.3472</td> <td>   42.789</td> <td>    1.480</td> <td> 0.139</td> <td>  -20.519</td> <td>  147.213</td>\n",
       "</tr>\n",
       "<tr>\n",
       "  <th>Only_Let</th>            <td>-3376.8920</td> <td> 1524.744</td> <td>   -2.215</td> <td> 0.027</td> <td>-6365.394</td> <td> -388.390</td>\n",
       "</tr>\n",
       "<tr>\n",
       "  <th>Only_Dig</th>            <td>-6016.6105</td> <td> 1529.553</td> <td>   -3.934</td> <td> 0.000</td> <td>-9014.539</td> <td>-3018.682</td>\n",
       "</tr>\n",
       "<tr>\n",
       "  <th>Only_Spc</th>            <td> 9375.2579</td> <td>  2.2e+04</td> <td>    0.426</td> <td> 0.670</td> <td>-3.38e+04</td> <td> 5.25e+04</td>\n",
       "</tr>\n",
       "<tr>\n",
       "  <th>Let_And_Dig</th>         <td>-4009.6364</td> <td> 1527.120</td> <td>   -2.626</td> <td> 0.009</td> <td>-7002.795</td> <td>-1016.478</td>\n",
       "</tr>\n",
       "<tr>\n",
       "  <th>Let_And_Spc</th>         <td>-4244.7796</td> <td> 3185.502</td> <td>   -1.333</td> <td> 0.183</td> <td>-1.05e+04</td> <td> 1998.812</td>\n",
       "</tr>\n",
       "<tr>\n",
       "  <th>Dig_And_Spc</th>         <td>-1620.4599</td> <td> 4714.120</td> <td>   -0.344</td> <td> 0.731</td> <td>-1.09e+04</td> <td> 7619.229</td>\n",
       "</tr>\n",
       "<tr>\n",
       "  <th>Date</th>                <td> 1.479e-10</td> <td> 9.07e-11</td> <td>    1.630</td> <td> 0.103</td> <td>-2.99e-11</td> <td> 3.26e-10</td>\n",
       "</tr>\n",
       "<tr>\n",
       "  <th>Year</th>                <td> -651.3608</td> <td>  860.481</td> <td>   -0.757</td> <td> 0.449</td> <td>-2337.907</td> <td> 1035.185</td>\n",
       "</tr>\n",
       "<tr>\n",
       "  <th>Rep_2</th>               <td> -997.5390</td> <td>  550.807</td> <td>   -1.811</td> <td> 0.070</td> <td>-2077.121</td> <td>   82.043</td>\n",
       "</tr>\n",
       "<tr>\n",
       "  <th>Rep_3</th>               <td> -997.5390</td> <td>  550.807</td> <td>   -1.811</td> <td> 0.070</td> <td>-2077.121</td> <td>   82.043</td>\n",
       "</tr>\n",
       "<tr>\n",
       "  <th>Rep_4</th>               <td> -997.5390</td> <td>  550.807</td> <td>   -1.811</td> <td> 0.070</td> <td>-2077.121</td> <td>   82.043</td>\n",
       "</tr>\n",
       "<tr>\n",
       "  <th>Rep_5</th>               <td> -997.5390</td> <td>  550.807</td> <td>   -1.811</td> <td> 0.070</td> <td>-2077.121</td> <td>   82.043</td>\n",
       "</tr>\n",
       "<tr>\n",
       "  <th>Rep_6</th>               <td> -997.5390</td> <td>  550.807</td> <td>   -1.811</td> <td> 0.070</td> <td>-2077.121</td> <td>   82.043</td>\n",
       "</tr>\n",
       "<tr>\n",
       "  <th>Rep_7</th>               <td> -997.5390</td> <td>  550.807</td> <td>   -1.811</td> <td> 0.070</td> <td>-2077.121</td> <td>   82.043</td>\n",
       "</tr>\n",
       "<tr>\n",
       "  <th>Rep_8</th>               <td> -997.5390</td> <td>  550.807</td> <td>   -1.811</td> <td> 0.070</td> <td>-2077.121</td> <td>   82.043</td>\n",
       "</tr>\n",
       "<tr>\n",
       "  <th>Rep_9</th>               <td>  147.2886</td> <td>  468.608</td> <td>    0.314</td> <td> 0.753</td> <td> -771.184</td> <td> 1065.761</td>\n",
       "</tr>\n",
       "<tr>\n",
       "  <th>Rep_10</th>              <td> 2531.0336</td> <td> 3116.060</td> <td>    0.812</td> <td> 0.417</td> <td>-3576.452</td> <td> 8638.519</td>\n",
       "</tr>\n",
       "<tr>\n",
       "  <th>Asc_Dig_2</th>           <td> -409.8141</td> <td>  168.244</td> <td>   -2.436</td> <td> 0.015</td> <td> -739.572</td> <td>  -80.056</td>\n",
       "</tr>\n",
       "<tr>\n",
       "  <th>Asc_Dig_3</th>           <td>  988.9613</td> <td>  387.328</td> <td>    2.553</td> <td> 0.011</td> <td>  229.798</td> <td> 1748.124</td>\n",
       "</tr>\n",
       "<tr>\n",
       "  <th>Asc_Dig_4</th>           <td>  538.9109</td> <td>  983.393</td> <td>    0.548</td> <td> 0.584</td> <td>-1388.541</td> <td> 2466.363</td>\n",
       "</tr>\n",
       "<tr>\n",
       "  <th>Asc_Dig_5</th>           <td>-3522.6746</td> <td> 1476.244</td> <td>   -2.386</td> <td> 0.017</td> <td>-6416.117</td> <td> -629.232</td>\n",
       "</tr>\n",
       "<tr>\n",
       "  <th>Asc_Dig_6</th>           <td>-1150.6874</td> <td> 2417.152</td> <td>   -0.476</td> <td> 0.634</td> <td>-5888.313</td> <td> 3586.938</td>\n",
       "</tr>\n",
       "<tr>\n",
       "  <th>Asc_Dig_7</th>           <td>-3751.2266</td> <td> 3725.852</td> <td>   -1.007</td> <td> 0.314</td> <td>-1.11e+04</td> <td> 3551.454</td>\n",
       "</tr>\n",
       "<tr>\n",
       "  <th>Asc_Dig_8</th>           <td>-1000.9184</td> <td> 4420.118</td> <td>   -0.226</td> <td> 0.821</td> <td>-9664.362</td> <td> 7662.525</td>\n",
       "</tr>\n",
       "<tr>\n",
       "  <th>Asc_Dig_9</th>           <td> 1.108e+04</td> <td> 3911.441</td> <td>    2.834</td> <td> 0.005</td> <td> 3417.437</td> <td> 1.88e+04</td>\n",
       "</tr>\n",
       "<tr>\n",
       "  <th>Asc_Dig_10</th>          <td>  1.07e+04</td> <td> 5610.340</td> <td>    1.907</td> <td> 0.056</td> <td> -295.241</td> <td> 2.17e+04</td>\n",
       "</tr>\n",
       "<tr>\n",
       "  <th>Dsc_Dig_2</th>           <td> 1391.3716</td> <td>  171.579</td> <td>    8.109</td> <td> 0.000</td> <td> 1055.076</td> <td> 1727.667</td>\n",
       "</tr>\n",
       "<tr>\n",
       "  <th>Dsc_Dig_3</th>           <td> 1234.3328</td> <td>  390.021</td> <td>    3.165</td> <td> 0.002</td> <td>  469.890</td> <td> 1998.776</td>\n",
       "</tr>\n",
       "<tr>\n",
       "  <th>Dsc_Dig_4</th>           <td>-3911.8495</td> <td> 2316.173</td> <td>   -1.689</td> <td> 0.091</td> <td>-8451.556</td> <td>  627.857</td>\n",
       "</tr>\n",
       "<tr>\n",
       "  <th>Dsc_Dig_5</th>           <td> 1669.2853</td> <td> 3621.580</td> <td>    0.461</td> <td> 0.645</td> <td>-5429.021</td> <td> 8767.591</td>\n",
       "</tr>\n",
       "<tr>\n",
       "  <th>Dsc_Dig_6</th>           <td>-4935.8849</td> <td> 4903.708</td> <td>   -1.007</td> <td> 0.314</td> <td>-1.45e+04</td> <td> 4675.396</td>\n",
       "</tr>\n",
       "<tr>\n",
       "  <th>Dsc_Dig_7</th>           <td>  1.64e+04</td> <td> 6523.195</td> <td>    2.514</td> <td> 0.012</td> <td> 3615.251</td> <td> 2.92e+04</td>\n",
       "</tr>\n",
       "<tr>\n",
       "  <th>Dsc_Dig_8</th>           <td> -3.23e+04</td> <td> 1.38e+04</td> <td>   -2.347</td> <td> 0.019</td> <td>-5.93e+04</td> <td>-5327.319</td>\n",
       "</tr>\n",
       "<tr>\n",
       "  <th>Dsc_Dig_9</th>           <td> 2.915e+04</td> <td> 1.34e+04</td> <td>    2.182</td> <td> 0.029</td> <td> 2965.044</td> <td> 5.53e+04</td>\n",
       "</tr>\n",
       "<tr>\n",
       "  <th>Dsc_Dig_10</th>          <td> 4.409e-10</td> <td> 7.62e-10</td> <td>    0.578</td> <td> 0.563</td> <td>-1.05e-09</td> <td> 1.94e-09</td>\n",
       "</tr>\n",
       "<tr>\n",
       "  <th>Asc_Let_2</th>           <td>  230.3827</td> <td>  186.227</td> <td>    1.237</td> <td> 0.216</td> <td> -134.622</td> <td>  595.387</td>\n",
       "</tr>\n",
       "<tr>\n",
       "  <th>Asc_Let_3</th>           <td>  645.1216</td> <td>  784.693</td> <td>    0.822</td> <td> 0.411</td> <td> -892.878</td> <td> 2183.121</td>\n",
       "</tr>\n",
       "<tr>\n",
       "  <th>Asc_Let_4</th>           <td> 2.342e+04</td> <td> 1.14e+04</td> <td>    2.052</td> <td> 0.040</td> <td> 1054.985</td> <td> 4.58e+04</td>\n",
       "</tr>\n",
       "<tr>\n",
       "  <th>Asc_Let_5</th>           <td> -1.07e+04</td> <td> 6128.177</td> <td>   -1.746</td> <td> 0.081</td> <td>-2.27e+04</td> <td> 1311.619</td>\n",
       "</tr>\n",
       "<tr>\n",
       "  <th>Asc_Let_6</th>           <td>-5700.7448</td> <td> 7283.887</td> <td>   -0.783</td> <td> 0.434</td> <td>   -2e+04</td> <td> 8575.694</td>\n",
       "</tr>\n",
       "<tr>\n",
       "  <th>Asc_Let_7</th>           <td>-5274.6260</td> <td> 8326.077</td> <td>   -0.634</td> <td> 0.526</td> <td>-2.16e+04</td> <td>  1.1e+04</td>\n",
       "</tr>\n",
       "<tr>\n",
       "  <th>Asc_Let_8</th>           <td>-5274.6260</td> <td> 8326.077</td> <td>   -0.634</td> <td> 0.526</td> <td>-2.16e+04</td> <td>  1.1e+04</td>\n",
       "</tr>\n",
       "<tr>\n",
       "  <th>Asc_Let_9</th>           <td>-5274.6260</td> <td> 8326.077</td> <td>   -0.634</td> <td> 0.526</td> <td>-2.16e+04</td> <td>  1.1e+04</td>\n",
       "</tr>\n",
       "<tr>\n",
       "  <th>Asc_Let_10</th>          <td>-5274.6260</td> <td> 8326.077</td> <td>   -0.634</td> <td> 0.526</td> <td>-2.16e+04</td> <td>  1.1e+04</td>\n",
       "</tr>\n",
       "<tr>\n",
       "  <th>Dsc_Let_2</th>           <td>  -88.4247</td> <td>  193.014</td> <td>   -0.458</td> <td> 0.647</td> <td> -466.733</td> <td>  289.884</td>\n",
       "</tr>\n",
       "<tr>\n",
       "  <th>Dsc_Let_3</th>           <td>-3056.2564</td> <td>  875.590</td> <td>   -3.491</td> <td> 0.000</td> <td>-4772.416</td> <td>-1340.097</td>\n",
       "</tr>\n",
       "<tr>\n",
       "  <th>Dsc_Let_4</th>           <td> -276.4657</td> <td>  649.183</td> <td>   -0.426</td> <td> 0.670</td> <td>-1548.867</td> <td>  995.936</td>\n",
       "</tr>\n",
       "<tr>\n",
       "  <th>Dsc_Let_5</th>           <td> -276.4657</td> <td>  649.183</td> <td>   -0.426</td> <td> 0.670</td> <td>-1548.867</td> <td>  995.936</td>\n",
       "</tr>\n",
       "<tr>\n",
       "  <th>Dsc_Let_6</th>           <td> -276.4657</td> <td>  649.183</td> <td>   -0.426</td> <td> 0.670</td> <td>-1548.867</td> <td>  995.936</td>\n",
       "</tr>\n",
       "<tr>\n",
       "  <th>Dsc_Let_7</th>           <td> -616.0462</td> <td> 2776.231</td> <td>   -0.222</td> <td> 0.824</td> <td>-6057.467</td> <td> 4825.375</td>\n",
       "</tr>\n",
       "<tr>\n",
       "  <th>Dsc_Let_8</th>           <td>  -65.5788</td> <td> 2793.014</td> <td>   -0.023</td> <td> 0.981</td> <td>-5539.894</td> <td> 5408.736</td>\n",
       "</tr>\n",
       "<tr>\n",
       "  <th>Dsc_Let_9</th>           <td> -253.2635</td> <td> 2803.822</td> <td>   -0.090</td> <td> 0.928</td> <td>-5748.761</td> <td> 5242.235</td>\n",
       "</tr>\n",
       "<tr>\n",
       "  <th>Dsc_Let_10</th>          <td>-3.907e-10</td> <td> 5.02e-10</td> <td>   -0.779</td> <td> 0.436</td> <td>-1.37e-09</td> <td> 5.93e-10</td>\n",
       "</tr>\n",
       "<tr>\n",
       "  <th>Only_Let_Div_Len</th>    <td> 3.858e+04</td> <td> 1.19e+04</td> <td>    3.231</td> <td> 0.001</td> <td> 1.52e+04</td> <td>  6.2e+04</td>\n",
       "</tr>\n",
       "<tr>\n",
       "  <th>Only_Dig_Div_Len</th>    <td> 5.388e+04</td> <td>  1.2e+04</td> <td>    4.504</td> <td> 0.000</td> <td> 3.04e+04</td> <td> 7.73e+04</td>\n",
       "</tr>\n",
       "<tr>\n",
       "  <th>Only_Spc_Div_Len</th>    <td>-4.913e+04</td> <td> 1.64e+05</td> <td>   -0.300</td> <td> 0.764</td> <td> -3.7e+05</td> <td> 2.72e+05</td>\n",
       "</tr>\n",
       "<tr>\n",
       "  <th>Let_And_Dig_Div_Len</th> <td> 4.706e+04</td> <td>  1.2e+04</td> <td>    3.935</td> <td> 0.000</td> <td> 2.36e+04</td> <td> 7.05e+04</td>\n",
       "</tr>\n",
       "<tr>\n",
       "  <th>Let_And_Spc_Div_Len</th> <td> 4.779e+04</td> <td> 2.25e+04</td> <td>    2.126</td> <td> 0.033</td> <td> 3736.860</td> <td> 9.18e+04</td>\n",
       "</tr>\n",
       "<tr>\n",
       "  <th>Dig_And_Spc_Div_Len</th> <td> 3.048e+04</td> <td> 3.42e+04</td> <td>    0.891</td> <td> 0.373</td> <td>-3.66e+04</td> <td> 9.76e+04</td>\n",
       "</tr>\n",
       "<tr>\n",
       "  <th>Date_Div_Len</th>        <td>-1.349e-10</td> <td> 1.73e-10</td> <td>   -0.781</td> <td> 0.435</td> <td>-4.73e-10</td> <td> 2.03e-10</td>\n",
       "</tr>\n",
       "<tr>\n",
       "  <th>Year_Div_Len</th>        <td>-4384.1527</td> <td> 6947.761</td> <td>   -0.631</td> <td> 0.528</td> <td> -1.8e+04</td> <td> 9233.478</td>\n",
       "</tr>\n",
       "<tr>\n",
       "  <th>Rep_2_Div_Len</th>       <td>   33.5759</td> <td>  128.179</td> <td>    0.262</td> <td> 0.793</td> <td> -217.655</td> <td>  284.807</td>\n",
       "</tr>\n",
       "<tr>\n",
       "  <th>Rep_3_Div_Len</th>       <td>-1680.2342</td> <td>  331.675</td> <td>   -5.066</td> <td> 0.000</td> <td>-2330.318</td> <td>-1030.150</td>\n",
       "</tr>\n",
       "<tr>\n",
       "  <th>Rep_4_Div_Len</th>       <td>-5101.9354</td> <td>  759.827</td> <td>   -6.715</td> <td> 0.000</td> <td>-6591.199</td> <td>-3612.672</td>\n",
       "</tr>\n",
       "<tr>\n",
       "  <th>Rep_5_Div_Len</th>       <td>-2048.6101</td> <td> 1074.708</td> <td>   -1.906</td> <td> 0.057</td> <td>-4155.040</td> <td>   57.820</td>\n",
       "</tr>\n",
       "<tr>\n",
       "  <th>Rep_6_Div_Len</th>       <td>-3359.5857</td> <td> 1752.420</td> <td>   -1.917</td> <td> 0.055</td> <td>-6794.333</td> <td>   75.161</td>\n",
       "</tr>\n",
       "<tr>\n",
       "  <th>Rep_7_Div_Len</th>       <td> 1.877e+04</td> <td> 2775.057</td> <td>    6.765</td> <td> 0.000</td> <td> 1.33e+04</td> <td> 2.42e+04</td>\n",
       "</tr>\n",
       "<tr>\n",
       "  <th>Rep_8_Div_Len</th>       <td> 2.813e+04</td> <td> 4274.006</td> <td>    6.582</td> <td> 0.000</td> <td> 1.98e+04</td> <td> 3.65e+04</td>\n",
       "</tr>\n",
       "<tr>\n",
       "  <th>Rep_9_Div_Len</th>       <td>   16.3654</td> <td>   52.068</td> <td>    0.314</td> <td> 0.753</td> <td>  -85.687</td> <td>  118.418</td>\n",
       "</tr>\n",
       "<tr>\n",
       "  <th>Rep_10_Div_Len</th>      <td>-6264.8689</td> <td> 3.35e+04</td> <td>   -0.187</td> <td> 0.852</td> <td> -7.2e+04</td> <td> 5.95e+04</td>\n",
       "</tr>\n",
       "<tr>\n",
       "  <th>Asc_Dig_2_Div_Len</th>   <td> 3089.4483</td> <td> 1164.249</td> <td>    2.654</td> <td> 0.008</td> <td>  807.517</td> <td> 5371.380</td>\n",
       "</tr>\n",
       "<tr>\n",
       "  <th>Asc_Dig_3_Div_Len</th>   <td>-1549.7644</td> <td> 2732.729</td> <td>   -0.567</td> <td> 0.571</td> <td>-6905.920</td> <td> 3806.392</td>\n",
       "</tr>\n",
       "<tr>\n",
       "  <th>Asc_Dig_4_Div_Len</th>   <td>-2068.7451</td> <td> 7174.810</td> <td>   -0.288</td> <td> 0.773</td> <td>-1.61e+04</td> <td>  1.2e+04</td>\n",
       "</tr>\n",
       "<tr>\n",
       "  <th>Asc_Dig_5_Div_Len</th>   <td> 2.762e+04</td> <td> 1.11e+04</td> <td>    2.497</td> <td> 0.013</td> <td> 5936.290</td> <td> 4.93e+04</td>\n",
       "</tr>\n",
       "<tr>\n",
       "  <th>Asc_Dig_6_Div_Len</th>   <td> 1.676e+04</td> <td> 1.97e+04</td> <td>    0.849</td> <td> 0.396</td> <td>-2.19e+04</td> <td> 5.55e+04</td>\n",
       "</tr>\n",
       "<tr>\n",
       "  <th>Asc_Dig_7_Div_Len</th>   <td> 4.058e+04</td> <td> 3.15e+04</td> <td>    1.288</td> <td> 0.198</td> <td>-2.12e+04</td> <td> 1.02e+05</td>\n",
       "</tr>\n",
       "<tr>\n",
       "  <th>Asc_Dig_8_Div_Len</th>   <td> 1.694e+04</td> <td> 4.04e+04</td> <td>    0.420</td> <td> 0.675</td> <td>-6.22e+04</td> <td> 9.61e+04</td>\n",
       "</tr>\n",
       "<tr>\n",
       "  <th>Asc_Dig_9_Div_Len</th>   <td>-1.055e+05</td> <td> 4.04e+04</td> <td>   -2.610</td> <td> 0.009</td> <td>-1.85e+05</td> <td>-2.63e+04</td>\n",
       "</tr>\n",
       "<tr>\n",
       "  <th>Asc_Dig_10_Div_Len</th>  <td>-8.143e+04</td> <td> 7.14e+04</td> <td>   -1.140</td> <td> 0.254</td> <td>-2.21e+05</td> <td> 5.85e+04</td>\n",
       "</tr>\n",
       "<tr>\n",
       "  <th>Dsc_Dig_2_Div_Len</th>   <td>-7618.1994</td> <td> 1194.461</td> <td>   -6.378</td> <td> 0.000</td> <td>-9959.346</td> <td>-5277.053</td>\n",
       "</tr>\n",
       "<tr>\n",
       "  <th>Dsc_Dig_3_Div_Len</th>   <td>-5679.4479</td> <td> 2764.777</td> <td>   -2.054</td> <td> 0.040</td> <td>-1.11e+04</td> <td> -260.477</td>\n",
       "</tr>\n",
       "<tr>\n",
       "  <th>Dsc_Dig_4_Div_Len</th>   <td> 3.088e+04</td> <td> 1.84e+04</td> <td>    1.677</td> <td> 0.093</td> <td>-5200.980</td> <td>  6.7e+04</td>\n",
       "</tr>\n",
       "<tr>\n",
       "  <th>Dsc_Dig_5_Div_Len</th>   <td>-5390.4033</td> <td> 2.61e+04</td> <td>   -0.207</td> <td> 0.836</td> <td>-5.65e+04</td> <td> 4.57e+04</td>\n",
       "</tr>\n",
       "<tr>\n",
       "  <th>Dsc_Dig_6_Div_Len</th>   <td> 3.131e+04</td> <td> 3.55e+04</td> <td>    0.882</td> <td> 0.378</td> <td>-3.82e+04</td> <td> 1.01e+05</td>\n",
       "</tr>\n",
       "<tr>\n",
       "  <th>Dsc_Dig_7_Div_Len</th>   <td>-1.235e+05</td> <td> 5.18e+04</td> <td>   -2.382</td> <td> 0.017</td> <td>-2.25e+05</td> <td>-2.19e+04</td>\n",
       "</tr>\n",
       "<tr>\n",
       "  <th>Dsc_Dig_8_Div_Len</th>   <td> 2.704e+05</td> <td> 1.21e+05</td> <td>    2.234</td> <td> 0.025</td> <td> 3.32e+04</td> <td> 5.08e+05</td>\n",
       "</tr>\n",
       "<tr>\n",
       "  <th>Dsc_Dig_9_Div_Len</th>   <td>-2.621e+05</td> <td> 1.22e+05</td> <td>   -2.156</td> <td> 0.031</td> <td>   -5e+05</td> <td>-2.38e+04</td>\n",
       "</tr>\n",
       "<tr>\n",
       "  <th>Dsc_Dig_10_Div_Len</th>  <td>         0</td> <td>        0</td> <td>      nan</td> <td>   nan</td> <td>        0</td> <td>        0</td>\n",
       "</tr>\n",
       "<tr>\n",
       "  <th>Asc_Let_2_Div_Len</th>   <td>-1685.7140</td> <td> 1319.223</td> <td>   -1.278</td> <td> 0.201</td> <td>-4271.396</td> <td>  899.968</td>\n",
       "</tr>\n",
       "<tr>\n",
       "  <th>Asc_Let_3_Div_Len</th>   <td>-5912.5319</td> <td> 5674.613</td> <td>   -1.042</td> <td> 0.297</td> <td> -1.7e+04</td> <td> 5209.725</td>\n",
       "</tr>\n",
       "<tr>\n",
       "  <th>Asc_Let_4_Div_Len</th>   <td>-1.642e+05</td> <td> 8.98e+04</td> <td>   -1.829</td> <td> 0.067</td> <td> -3.4e+05</td> <td> 1.18e+04</td>\n",
       "</tr>\n",
       "<tr>\n",
       "  <th>Asc_Let_5_Div_Len</th>   <td> 5.736e+04</td> <td>    5e+04</td> <td>    1.147</td> <td> 0.251</td> <td>-4.06e+04</td> <td> 1.55e+05</td>\n",
       "</tr>\n",
       "<tr>\n",
       "  <th>Asc_Let_6_Div_Len</th>   <td> 5.808e+04</td> <td> 4.98e+04</td> <td>    1.166</td> <td> 0.244</td> <td>-3.96e+04</td> <td> 1.56e+05</td>\n",
       "</tr>\n",
       "<tr>\n",
       "  <th>Asc_Let_7_Div_Len</th>   <td> 5.369e+04</td> <td> 9.44e+04</td> <td>    0.569</td> <td> 0.570</td> <td>-1.31e+05</td> <td> 2.39e+05</td>\n",
       "</tr>\n",
       "<tr>\n",
       "  <th>Asc_Let_8_Div_Len</th>   <td> 5.369e+04</td> <td> 9.44e+04</td> <td>    0.569</td> <td> 0.570</td> <td>-1.31e+05</td> <td> 2.39e+05</td>\n",
       "</tr>\n",
       "<tr>\n",
       "  <th>Asc_Let_9_Div_Len</th>   <td> 5.369e+04</td> <td> 9.44e+04</td> <td>    0.569</td> <td> 0.570</td> <td>-1.31e+05</td> <td> 2.39e+05</td>\n",
       "</tr>\n",
       "<tr>\n",
       "  <th>Asc_Let_10_Div_Len</th>  <td> 5.369e+04</td> <td> 9.44e+04</td> <td>    0.569</td> <td> 0.570</td> <td>-1.31e+05</td> <td> 2.39e+05</td>\n",
       "</tr>\n",
       "<tr>\n",
       "  <th>Dsc_Let_2_Div_Len</th>   <td>  625.6111</td> <td> 1355.997</td> <td>    0.461</td> <td> 0.645</td> <td>-2032.147</td> <td> 3283.369</td>\n",
       "</tr>\n",
       "<tr>\n",
       "  <th>Dsc_Let_3_Div_Len</th>   <td> 2.122e+04</td> <td> 6398.618</td> <td>    3.316</td> <td> 0.001</td> <td> 8677.928</td> <td> 3.38e+04</td>\n",
       "</tr>\n",
       "<tr>\n",
       "  <th>Dsc_Let_4_Div_Len</th>   <td>  -26.7212</td> <td>  157.948</td> <td>   -0.169</td> <td> 0.866</td> <td> -336.300</td> <td>  282.857</td>\n",
       "</tr>\n",
       "<tr>\n",
       "  <th>Dsc_Let_5_Div_Len</th>   <td>  -26.7212</td> <td>  157.948</td> <td>   -0.169</td> <td> 0.866</td> <td> -336.300</td> <td>  282.857</td>\n",
       "</tr>\n",
       "<tr>\n",
       "  <th>Dsc_Let_6_Div_Len</th>   <td>  -26.7212</td> <td>  157.948</td> <td>   -0.169</td> <td> 0.866</td> <td> -336.300</td> <td>  282.857</td>\n",
       "</tr>\n",
       "<tr>\n",
       "  <th>Dsc_Let_7_Div_Len</th>   <td>  -83.3180</td> <td>  423.110</td> <td>   -0.197</td> <td> 0.844</td> <td> -912.615</td> <td>  745.979</td>\n",
       "</tr>\n",
       "<tr>\n",
       "  <th>Dsc_Let_8_Div_Len</th>   <td>   -4.6798</td> <td>  370.058</td> <td>   -0.013</td> <td> 0.990</td> <td> -729.994</td> <td>  720.634</td>\n",
       "</tr>\n",
       "<tr>\n",
       "  <th>Dsc_Let_9_Div_Len</th>   <td>  -28.1404</td> <td>  311.536</td> <td>   -0.090</td> <td> 0.928</td> <td> -638.751</td> <td>  582.471</td>\n",
       "</tr>\n",
       "<tr>\n",
       "  <th>Dsc_Let_10_Div_Len</th>  <td>         0</td> <td>        0</td> <td>      nan</td> <td>   nan</td> <td>        0</td> <td>        0</td>\n",
       "</tr>\n",
       "</table>\n",
       "<table class=\"simpletable\">\n",
       "<tr>\n",
       "  <th>Omnibus:</th>       <td>11394.984</td> <th>  Durbin-Watson:     </th> <td>   2.002</td> \n",
       "</tr>\n",
       "<tr>\n",
       "  <th>Prob(Omnibus):</th>  <td> 0.000</td>   <th>  Jarque-Bera (JB):  </th> <td>20271.185</td>\n",
       "</tr>\n",
       "<tr>\n",
       "  <th>Skew:</th>           <td> 1.194</td>   <th>  Prob(JB):          </th> <td>    0.00</td> \n",
       "</tr>\n",
       "<tr>\n",
       "  <th>Kurtosis:</th>       <td> 4.495</td>   <th>  Cond. No.          </th> <td>1.08e+16</td> \n",
       "</tr>\n",
       "</table><br/><br/>Warnings:<br/>[1] Standard Errors assume that the covariance matrix of the errors is correctly specified.<br/>[2] The smallest eigenvalue is 1.12e-22. This might indicate that there are<br/>strong multicollinearity problems or that the design matrix is singular."
      ],
      "text/plain": [
       "<class 'statsmodels.iolib.summary.Summary'>\n",
       "\"\"\"\n",
       "                            OLS Regression Results                            \n",
       "==============================================================================\n",
       "Dep. Variable:                  Total   R-squared:                       0.048\n",
       "Model:                            OLS   Adj. R-squared:                  0.047\n",
       "Method:                 Least Squares   F-statistic:                     38.57\n",
       "Date:                Fri, 08 May 2020   Prob (F-statistic):               0.00\n",
       "Time:                        10:45:22   Log-Likelihood:            -5.5282e+05\n",
       "No. Observations:               61264   AIC:                         1.106e+06\n",
       "Df Residuals:                   61183   BIC:                         1.107e+06\n",
       "Df Model:                          80                                         \n",
       "Covariance Type:            nonrobust                                         \n",
       "=======================================================================================\n",
       "                          coef    std err          t      P>|t|      [0.025      0.975]\n",
       "---------------------------------------------------------------------------------------\n",
       "Length               1266.9433    855.772      1.480      0.139    -410.373    2944.259\n",
       "Length_Sq             -30.4948     60.311     -0.506      0.613    -148.705      87.716\n",
       "Length_Cb              -0.4165      1.546     -0.269      0.788      -3.447       2.614\n",
       "Length_Pp              63.3472     42.789      1.480      0.139     -20.519     147.213\n",
       "Only_Let            -3376.8920   1524.744     -2.215      0.027   -6365.394    -388.390\n",
       "Only_Dig            -6016.6105   1529.553     -3.934      0.000   -9014.539   -3018.682\n",
       "Only_Spc             9375.2579    2.2e+04      0.426      0.670   -3.38e+04    5.25e+04\n",
       "Let_And_Dig         -4009.6364   1527.120     -2.626      0.009   -7002.795   -1016.478\n",
       "Let_And_Spc         -4244.7796   3185.502     -1.333      0.183   -1.05e+04    1998.812\n",
       "Dig_And_Spc         -1620.4599   4714.120     -0.344      0.731   -1.09e+04    7619.229\n",
       "Date                 1.479e-10   9.07e-11      1.630      0.103   -2.99e-11    3.26e-10\n",
       "Year                 -651.3608    860.481     -0.757      0.449   -2337.907    1035.185\n",
       "Rep_2                -997.5390    550.807     -1.811      0.070   -2077.121      82.043\n",
       "Rep_3                -997.5390    550.807     -1.811      0.070   -2077.121      82.043\n",
       "Rep_4                -997.5390    550.807     -1.811      0.070   -2077.121      82.043\n",
       "Rep_5                -997.5390    550.807     -1.811      0.070   -2077.121      82.043\n",
       "Rep_6                -997.5390    550.807     -1.811      0.070   -2077.121      82.043\n",
       "Rep_7                -997.5390    550.807     -1.811      0.070   -2077.121      82.043\n",
       "Rep_8                -997.5390    550.807     -1.811      0.070   -2077.121      82.043\n",
       "Rep_9                 147.2886    468.608      0.314      0.753    -771.184    1065.761\n",
       "Rep_10               2531.0336   3116.060      0.812      0.417   -3576.452    8638.519\n",
       "Asc_Dig_2            -409.8141    168.244     -2.436      0.015    -739.572     -80.056\n",
       "Asc_Dig_3             988.9613    387.328      2.553      0.011     229.798    1748.124\n",
       "Asc_Dig_4             538.9109    983.393      0.548      0.584   -1388.541    2466.363\n",
       "Asc_Dig_5           -3522.6746   1476.244     -2.386      0.017   -6416.117    -629.232\n",
       "Asc_Dig_6           -1150.6874   2417.152     -0.476      0.634   -5888.313    3586.938\n",
       "Asc_Dig_7           -3751.2266   3725.852     -1.007      0.314   -1.11e+04    3551.454\n",
       "Asc_Dig_8           -1000.9184   4420.118     -0.226      0.821   -9664.362    7662.525\n",
       "Asc_Dig_9            1.108e+04   3911.441      2.834      0.005    3417.437    1.88e+04\n",
       "Asc_Dig_10            1.07e+04   5610.340      1.907      0.056    -295.241    2.17e+04\n",
       "Dsc_Dig_2            1391.3716    171.579      8.109      0.000    1055.076    1727.667\n",
       "Dsc_Dig_3            1234.3328    390.021      3.165      0.002     469.890    1998.776\n",
       "Dsc_Dig_4           -3911.8495   2316.173     -1.689      0.091   -8451.556     627.857\n",
       "Dsc_Dig_5            1669.2853   3621.580      0.461      0.645   -5429.021    8767.591\n",
       "Dsc_Dig_6           -4935.8849   4903.708     -1.007      0.314   -1.45e+04    4675.396\n",
       "Dsc_Dig_7             1.64e+04   6523.195      2.514      0.012    3615.251    2.92e+04\n",
       "Dsc_Dig_8            -3.23e+04   1.38e+04     -2.347      0.019   -5.93e+04   -5327.319\n",
       "Dsc_Dig_9            2.915e+04   1.34e+04      2.182      0.029    2965.044    5.53e+04\n",
       "Dsc_Dig_10           4.409e-10   7.62e-10      0.578      0.563   -1.05e-09    1.94e-09\n",
       "Asc_Let_2             230.3827    186.227      1.237      0.216    -134.622     595.387\n",
       "Asc_Let_3             645.1216    784.693      0.822      0.411    -892.878    2183.121\n",
       "Asc_Let_4            2.342e+04   1.14e+04      2.052      0.040    1054.985    4.58e+04\n",
       "Asc_Let_5            -1.07e+04   6128.177     -1.746      0.081   -2.27e+04    1311.619\n",
       "Asc_Let_6           -5700.7448   7283.887     -0.783      0.434      -2e+04    8575.694\n",
       "Asc_Let_7           -5274.6260   8326.077     -0.634      0.526   -2.16e+04     1.1e+04\n",
       "Asc_Let_8           -5274.6260   8326.077     -0.634      0.526   -2.16e+04     1.1e+04\n",
       "Asc_Let_9           -5274.6260   8326.077     -0.634      0.526   -2.16e+04     1.1e+04\n",
       "Asc_Let_10          -5274.6260   8326.077     -0.634      0.526   -2.16e+04     1.1e+04\n",
       "Dsc_Let_2             -88.4247    193.014     -0.458      0.647    -466.733     289.884\n",
       "Dsc_Let_3           -3056.2564    875.590     -3.491      0.000   -4772.416   -1340.097\n",
       "Dsc_Let_4            -276.4657    649.183     -0.426      0.670   -1548.867     995.936\n",
       "Dsc_Let_5            -276.4657    649.183     -0.426      0.670   -1548.867     995.936\n",
       "Dsc_Let_6            -276.4657    649.183     -0.426      0.670   -1548.867     995.936\n",
       "Dsc_Let_7            -616.0462   2776.231     -0.222      0.824   -6057.467    4825.375\n",
       "Dsc_Let_8             -65.5788   2793.014     -0.023      0.981   -5539.894    5408.736\n",
       "Dsc_Let_9            -253.2635   2803.822     -0.090      0.928   -5748.761    5242.235\n",
       "Dsc_Let_10          -3.907e-10   5.02e-10     -0.779      0.436   -1.37e-09    5.93e-10\n",
       "Only_Let_Div_Len     3.858e+04   1.19e+04      3.231      0.001    1.52e+04     6.2e+04\n",
       "Only_Dig_Div_Len     5.388e+04    1.2e+04      4.504      0.000    3.04e+04    7.73e+04\n",
       "Only_Spc_Div_Len    -4.913e+04   1.64e+05     -0.300      0.764    -3.7e+05    2.72e+05\n",
       "Let_And_Dig_Div_Len  4.706e+04    1.2e+04      3.935      0.000    2.36e+04    7.05e+04\n",
       "Let_And_Spc_Div_Len  4.779e+04   2.25e+04      2.126      0.033    3736.860    9.18e+04\n",
       "Dig_And_Spc_Div_Len  3.048e+04   3.42e+04      0.891      0.373   -3.66e+04    9.76e+04\n",
       "Date_Div_Len        -1.349e-10   1.73e-10     -0.781      0.435   -4.73e-10    2.03e-10\n",
       "Year_Div_Len        -4384.1527   6947.761     -0.631      0.528    -1.8e+04    9233.478\n",
       "Rep_2_Div_Len          33.5759    128.179      0.262      0.793    -217.655     284.807\n",
       "Rep_3_Div_Len       -1680.2342    331.675     -5.066      0.000   -2330.318   -1030.150\n",
       "Rep_4_Div_Len       -5101.9354    759.827     -6.715      0.000   -6591.199   -3612.672\n",
       "Rep_5_Div_Len       -2048.6101   1074.708     -1.906      0.057   -4155.040      57.820\n",
       "Rep_6_Div_Len       -3359.5857   1752.420     -1.917      0.055   -6794.333      75.161\n",
       "Rep_7_Div_Len        1.877e+04   2775.057      6.765      0.000    1.33e+04    2.42e+04\n",
       "Rep_8_Div_Len        2.813e+04   4274.006      6.582      0.000    1.98e+04    3.65e+04\n",
       "Rep_9_Div_Len          16.3654     52.068      0.314      0.753     -85.687     118.418\n",
       "Rep_10_Div_Len      -6264.8689   3.35e+04     -0.187      0.852    -7.2e+04    5.95e+04\n",
       "Asc_Dig_2_Div_Len    3089.4483   1164.249      2.654      0.008     807.517    5371.380\n",
       "Asc_Dig_3_Div_Len   -1549.7644   2732.729     -0.567      0.571   -6905.920    3806.392\n",
       "Asc_Dig_4_Div_Len   -2068.7451   7174.810     -0.288      0.773   -1.61e+04     1.2e+04\n",
       "Asc_Dig_5_Div_Len    2.762e+04   1.11e+04      2.497      0.013    5936.290    4.93e+04\n",
       "Asc_Dig_6_Div_Len    1.676e+04   1.97e+04      0.849      0.396   -2.19e+04    5.55e+04\n",
       "Asc_Dig_7_Div_Len    4.058e+04   3.15e+04      1.288      0.198   -2.12e+04    1.02e+05\n",
       "Asc_Dig_8_Div_Len    1.694e+04   4.04e+04      0.420      0.675   -6.22e+04    9.61e+04\n",
       "Asc_Dig_9_Div_Len   -1.055e+05   4.04e+04     -2.610      0.009   -1.85e+05   -2.63e+04\n",
       "Asc_Dig_10_Div_Len  -8.143e+04   7.14e+04     -1.140      0.254   -2.21e+05    5.85e+04\n",
       "Dsc_Dig_2_Div_Len   -7618.1994   1194.461     -6.378      0.000   -9959.346   -5277.053\n",
       "Dsc_Dig_3_Div_Len   -5679.4479   2764.777     -2.054      0.040   -1.11e+04    -260.477\n",
       "Dsc_Dig_4_Div_Len    3.088e+04   1.84e+04      1.677      0.093   -5200.980     6.7e+04\n",
       "Dsc_Dig_5_Div_Len   -5390.4033   2.61e+04     -0.207      0.836   -5.65e+04    4.57e+04\n",
       "Dsc_Dig_6_Div_Len    3.131e+04   3.55e+04      0.882      0.378   -3.82e+04    1.01e+05\n",
       "Dsc_Dig_7_Div_Len   -1.235e+05   5.18e+04     -2.382      0.017   -2.25e+05   -2.19e+04\n",
       "Dsc_Dig_8_Div_Len    2.704e+05   1.21e+05      2.234      0.025    3.32e+04    5.08e+05\n",
       "Dsc_Dig_9_Div_Len   -2.621e+05   1.22e+05     -2.156      0.031      -5e+05   -2.38e+04\n",
       "Dsc_Dig_10_Div_Len           0          0        nan        nan           0           0\n",
       "Asc_Let_2_Div_Len   -1685.7140   1319.223     -1.278      0.201   -4271.396     899.968\n",
       "Asc_Let_3_Div_Len   -5912.5319   5674.613     -1.042      0.297    -1.7e+04    5209.725\n",
       "Asc_Let_4_Div_Len   -1.642e+05   8.98e+04     -1.829      0.067    -3.4e+05    1.18e+04\n",
       "Asc_Let_5_Div_Len    5.736e+04      5e+04      1.147      0.251   -4.06e+04    1.55e+05\n",
       "Asc_Let_6_Div_Len    5.808e+04   4.98e+04      1.166      0.244   -3.96e+04    1.56e+05\n",
       "Asc_Let_7_Div_Len    5.369e+04   9.44e+04      0.569      0.570   -1.31e+05    2.39e+05\n",
       "Asc_Let_8_Div_Len    5.369e+04   9.44e+04      0.569      0.570   -1.31e+05    2.39e+05\n",
       "Asc_Let_9_Div_Len    5.369e+04   9.44e+04      0.569      0.570   -1.31e+05    2.39e+05\n",
       "Asc_Let_10_Div_Len   5.369e+04   9.44e+04      0.569      0.570   -1.31e+05    2.39e+05\n",
       "Dsc_Let_2_Div_Len     625.6111   1355.997      0.461      0.645   -2032.147    3283.369\n",
       "Dsc_Let_3_Div_Len    2.122e+04   6398.618      3.316      0.001    8677.928    3.38e+04\n",
       "Dsc_Let_4_Div_Len     -26.7212    157.948     -0.169      0.866    -336.300     282.857\n",
       "Dsc_Let_5_Div_Len     -26.7212    157.948     -0.169      0.866    -336.300     282.857\n",
       "Dsc_Let_6_Div_Len     -26.7212    157.948     -0.169      0.866    -336.300     282.857\n",
       "Dsc_Let_7_Div_Len     -83.3180    423.110     -0.197      0.844    -912.615     745.979\n",
       "Dsc_Let_8_Div_Len      -4.6798    370.058     -0.013      0.990    -729.994     720.634\n",
       "Dsc_Let_9_Div_Len     -28.1404    311.536     -0.090      0.928    -638.751     582.471\n",
       "Dsc_Let_10_Div_Len           0          0        nan        nan           0           0\n",
       "==============================================================================\n",
       "Omnibus:                    11394.984   Durbin-Watson:                   2.002\n",
       "Prob(Omnibus):                  0.000   Jarque-Bera (JB):            20271.185\n",
       "Skew:                           1.194   Prob(JB):                         0.00\n",
       "Kurtosis:                       4.495   Cond. No.                     1.08e+16\n",
       "==============================================================================\n",
       "\n",
       "Warnings:\n",
       "[1] Standard Errors assume that the covariance matrix of the errors is correctly specified.\n",
       "[2] The smallest eigenvalue is 1.12e-22. This might indicate that there are\n",
       "strong multicollinearity problems or that the design matrix is singular.\n",
       "\"\"\""
      ]
     },
     "execution_count": 15,
     "metadata": {},
     "output_type": "execute_result"
    }
   ],
   "source": [
    "# Simple regression model on training data\n",
    "model = sm.OLS(y_train, sm.add_constant(x_train[[key for key in x_train]])).fit()\n",
    "model.summary()"
   ]
  },
  {
   "cell_type": "markdown",
   "metadata": {},
   "source": [
    "# Lasso Regression"
   ]
  },
  {
   "cell_type": "code",
   "execution_count": 16,
   "metadata": {},
   "outputs": [
    {
     "name": "stderr",
     "output_type": "stream",
     "text": [
      "/Users/eric/opt/anaconda3/lib/python3.7/site-packages/sklearn/linear_model/_coordinate_descent.py:476: ConvergenceWarning: Objective did not converge. You might want to increase the number of iterations. Duality gap: 123622191001.72173, tolerance: 25932767.989275213\n",
      "  positive)\n"
     ]
    }
   ],
   "source": [
    "lasso = Lasso(alpha=0.01, normalize=False)\n",
    "lasso.fit(x_train, y_train)\n",
    "y_train_pred = lasso.predict(x_train)\n",
    "y_test_pred = lasso.predict(x_test)"
   ]
  },
  {
   "cell_type": "code",
   "execution_count": 17,
   "metadata": {},
   "outputs": [
    {
     "name": "stdout",
     "output_type": "stream",
     "text": [
      "Training Error: 1542.7220567069733\n",
      "Testing Error: 1997.3962788092679\n"
     ]
    }
   ],
   "source": [
    "train_rmse = metrics.mean_absolute_error(y_train, y_train_pred)\n",
    "test_rmse = np.sqrt(metrics.mean_squared_error(y_test, y_test_pred))\n",
    "print('Training Error: '+ str(train_rmse) )\n",
    "print('Testing Error: '+ str(test_rmse) )"
   ]
  },
  {
   "cell_type": "code",
   "execution_count": 18,
   "metadata": {},
   "outputs": [
    {
     "name": "stdout",
     "output_type": "stream",
     "text": [
      "     Length_Pp  Dsc_Dig_2_Div_Len  Rep_4_Div_Len    Asc_Let_5  \\\n",
      "0 -9637.508149        -7290.68507   -4969.599532 -4284.017741   \n",
      "\n",
      "   Dsc_Dig_3_Div_Len  Rep_6_Div_Len    Asc_Dig_5    Dsc_Let_3  Rep_5_Div_Len  \\\n",
      "0       -3533.074352   -3005.217323 -2759.404481 -2136.371915    -1892.64565   \n",
      "\n",
      "   Asc_Let_2_Div_Len  ...     Only_Spc  Asc_Dig_2_Div_Len   Asc_Dig_10  \\\n",
      "0       -1891.523814  ...  2573.767377        2841.653251  4182.966558   \n",
      "\n",
      "   Asc_Dig_6_Div_Len  Let_And_Dig_Div_Len  Dsc_Let_3_Div_Len  \\\n",
      "0        6354.384563          8355.036685       14379.618463   \n",
      "\n",
      "   Only_Dig_Div_Len  Rep_7_Div_Len  Asc_Dig_5_Div_Len  Rep_8_Div_Len  \n",
      "0      15432.842374   17267.495798       22030.489381   26056.989245  \n",
      "\n",
      "[1 rows x 110 columns]\n"
     ]
    }
   ],
   "source": [
    "lasso_coef = pd.DataFrame(data=lasso.coef_).T\n",
    "lasso_coef.columns = x_train.columns\n",
    "lasso_coef = lasso_coef.T.sort_values(by=0).T\n",
    "\n",
    "print(lasso_coef)"
   ]
  },
  {
   "cell_type": "markdown",
   "metadata": {},
   "source": [
    "# Poisson Regression"
   ]
  },
  {
   "cell_type": "code",
   "execution_count": 79,
   "metadata": {},
   "outputs": [],
   "source": [
    "# Create poisson dataframe\n",
    "pois = df.copy(deep=True)"
   ]
  },
  {
   "cell_type": "code",
   "execution_count": 80,
   "metadata": {},
   "outputs": [
    {
     "name": "stdout",
     "output_type": "stream",
     "text": [
      "Training data set length = 61160\n",
      "Testing data set length = 15421\n"
     ]
    }
   ],
   "source": [
    "# Create poisson variables\n",
    "pois_ds = pois.index.to_series()\n",
    "pois_mask = np.random.rand(len(df)) < 0.8\n",
    "pois_train = pois[pois_mask]\n",
    "pois_test = pois[~pois_mask]\n",
    "print('Training data set length = '+str(len(pois_train)))\n",
    "print('Testing data set length = '+str(len(pois_test)))"
   ]
  },
  {
   "cell_type": "code",
   "execution_count": 81,
   "metadata": {},
   "outputs": [],
   "source": [
    "# Create poisson features\n",
    "ignore = ['Password', 'SHA_1', 'Total', 'Length_Sq', 'Length_Cb',\n",
    "          'Only_Let_Div_Len', 'Only_Dig_Div_Len', 'Only_Spc_Div_Len',\n",
    "          'Let_And_Dig_Div_Len', 'Let_And_Spc_Div_Len', 'Dig_And_Spc_Div_Len',\n",
    "          'Date_Div_Len', 'Year_Div_Len', 'Rep_2_Div_Len', 'Rep_3_Div_Len',\n",
    "          'Rep_4_Div_Len', 'Rep_5_Div_Len', 'Rep_6_Div_Len', 'Rep_7_Div_Len',\n",
    "          'Rep_8_Div_Len', 'Rep_9_Div_Len', 'Rep_10_Div_Len', 'Asc_Dig_2_Div_Len',\n",
    "          'Asc_Dig_3_Div_Len', 'Asc_Dig_4_Div_Len', 'Asc_Dig_5_Div_Len', 'Asc_Dig_6_Div_Len',\n",
    "          'Asc_Dig_7_Div_Len', 'Asc_Dig_8_Div_Len', 'Asc_Dig_9_Div_Len', 'Asc_Dig_10_Div_Len',\n",
    "          'Dsc_Dig_2_Div_Len', 'Dsc_Dig_3_Div_Len', 'Dsc_Dig_4_Div_Len', 'Dsc_Dig_5_Div_Len',\n",
    "          'Dsc_Dig_6_Div_Len', 'Dsc_Dig_7_Div_Len', 'Dsc_Dig_8_Div_Len', 'Dsc_Dig_9_Div_Len',\n",
    "          'Dsc_Dig_10_Div_Len', 'Asc_Let_2_Div_Len', 'Asc_Let_3_Div_Len', 'Asc_Let_4_Div_Len',\n",
    "          'Asc_Let_5_Div_Len', 'Asc_Let_6_Div_Len', 'Asc_Let_7_Div_Len', 'Asc_Let_8_Div_Len',\n",
    "          'Asc_Let_9_Div_Len', 'Asc_Let_10_Div_Len', 'Dsc_Let_2_Div_Len', 'Dsc_Let_3_Div_Len',\n",
    "          'Dsc_Let_4_Div_Len', 'Dsc_Let_5_Div_Len', 'Dsc_Let_6_Div_Len', 'Dsc_Let_7_Div_Len',\n",
    "          'Dsc_Let_8_Div_Len', 'Dsc_Let_9_Div_Len', 'Dsc_Let_10_Div_Len']\n",
    "pois_features = pois.drop(columns=ignore, axis=1).keys()\n",
    "\n",
    "# Create poisson expression\n",
    "pois_expr = 'Total~' + '+'.join([f'{f}' for f in pois_features])"
   ]
  },
  {
   "cell_type": "code",
   "execution_count": 82,
   "metadata": {},
   "outputs": [],
   "source": [
    "# # Create poisson features\n",
    "# ignore = ['Password', 'SHA_1', 'Total']\n",
    "# pois_features = pois.drop(columns=ignore, axis=1).keys()\n",
    "\n",
    "# # Create poisson expression\n",
    "# pois_expr = 'Total~' + '+'.join([f'{f}' for f in pois_features])"
   ]
  },
  {
   "cell_type": "code",
   "execution_count": 83,
   "metadata": {},
   "outputs": [],
   "source": [
    "# Create poisson test/train split\n",
    "pois_y_train, pois_X_train = dmatrices(pois_expr, pois_train, return_type='dataframe')\n",
    "pois_y_test, pois_X_test = dmatrices(pois_expr, pois_test, return_type='dataframe')"
   ]
  },
  {
   "cell_type": "code",
   "execution_count": 87,
   "metadata": {
    "scrolled": true
   },
   "outputs": [
    {
     "data": {
      "text/html": [
       "<table class=\"simpletable\">\n",
       "<caption>Generalized Linear Model Regression Results</caption>\n",
       "<tr>\n",
       "  <th>Dep. Variable:</th>         <td>Total</td>      <th>  No. Observations:  </th>   <td> 61160</td>   \n",
       "</tr>\n",
       "<tr>\n",
       "  <th>Model:</th>                  <td>GLM</td>       <th>  Df Residuals:      </th>   <td> 61120</td>   \n",
       "</tr>\n",
       "<tr>\n",
       "  <th>Model Family:</th>         <td>Poisson</td>     <th>  Df Model:          </th>   <td>    39</td>   \n",
       "</tr>\n",
       "<tr>\n",
       "  <th>Link Function:</th>          <td>log</td>       <th>  Scale:             </th>  <td>  1.0000</td>  \n",
       "</tr>\n",
       "<tr>\n",
       "  <th>Method:</th>                <td>IRLS</td>       <th>  Log-Likelihood:    </th> <td>-4.7477e+07</td>\n",
       "</tr>\n",
       "<tr>\n",
       "  <th>Date:</th>            <td>Fri, 08 May 2020</td> <th>  Deviance:          </th> <td>9.4392e+07</td> \n",
       "</tr>\n",
       "<tr>\n",
       "  <th>Time:</th>                <td>11:47:21</td>     <th>  Pearson chi2:      </th>  <td>9.86e+07</td>  \n",
       "</tr>\n",
       "<tr>\n",
       "  <th>No. Iterations:</th>         <td>69</td>        <th>                     </th>      <td> </td>     \n",
       "</tr>\n",
       "<tr>\n",
       "  <th>Covariance Type:</th>     <td>nonrobust</td>    <th>                     </th>      <td> </td>     \n",
       "</tr>\n",
       "</table>\n",
       "<table class=\"simpletable\">\n",
       "<tr>\n",
       "       <td></td>          <th>coef</th>     <th>std err</th>      <th>z</th>      <th>P>|z|</th>  <th>[0.025</th>    <th>0.975]</th>  \n",
       "</tr>\n",
       "<tr>\n",
       "  <th>Intercept</th>   <td>    0.9710</td> <td>    0.001</td> <td> 1469.306</td> <td> 0.000</td> <td>    0.970</td> <td>    0.972</td>\n",
       "</tr>\n",
       "<tr>\n",
       "  <th>Length</th>      <td>   -0.0427</td> <td> 7.56e-05</td> <td> -565.298</td> <td> 0.000</td> <td>   -0.043</td> <td>   -0.043</td>\n",
       "</tr>\n",
       "<tr>\n",
       "  <th>Length_Pp</th>   <td>   -0.0021</td> <td> 3.78e-06</td> <td> -565.298</td> <td> 0.000</td> <td>   -0.002</td> <td>   -0.002</td>\n",
       "</tr>\n",
       "<tr>\n",
       "  <th>Only_Let</th>    <td>    0.3378</td> <td>    0.005</td> <td>   64.350</td> <td> 0.000</td> <td>    0.327</td> <td>    0.348</td>\n",
       "</tr>\n",
       "<tr>\n",
       "  <th>Only_Dig</th>    <td>    0.1670</td> <td>    0.005</td> <td>   31.813</td> <td> 0.000</td> <td>    0.157</td> <td>    0.177</td>\n",
       "</tr>\n",
       "<tr>\n",
       "  <th>Only_Spc</th>    <td>    1.1093</td> <td>    0.015</td> <td>   75.503</td> <td> 0.000</td> <td>    1.080</td> <td>    1.138</td>\n",
       "</tr>\n",
       "<tr>\n",
       "  <th>Let_And_Dig</th> <td>    0.5551</td> <td>    0.005</td> <td>  105.725</td> <td> 0.000</td> <td>    0.545</td> <td>    0.565</td>\n",
       "</tr>\n",
       "<tr>\n",
       "  <th>Let_And_Spc</th> <td>    0.6565</td> <td>    0.006</td> <td>  107.655</td> <td> 0.000</td> <td>    0.645</td> <td>    0.668</td>\n",
       "</tr>\n",
       "<tr>\n",
       "  <th>Dig_And_Spc</th> <td>    0.6519</td> <td>    0.008</td> <td>   84.070</td> <td> 0.000</td> <td>    0.637</td> <td>    0.667</td>\n",
       "</tr>\n",
       "<tr>\n",
       "  <th>Date</th>        <td> 1.262e-15</td> <td> 2.76e-17</td> <td>   45.810</td> <td> 0.000</td> <td> 1.21e-15</td> <td> 1.32e-15</td>\n",
       "</tr>\n",
       "<tr>\n",
       "  <th>Year</th>        <td>   -0.4885</td> <td>    0.001</td> <td> -394.539</td> <td> 0.000</td> <td>   -0.491</td> <td>   -0.486</td>\n",
       "</tr>\n",
       "<tr>\n",
       "  <th>Rep_2</th>       <td>    0.9710</td> <td>    0.001</td> <td> 1469.306</td> <td> 0.000</td> <td>    0.970</td> <td>    0.972</td>\n",
       "</tr>\n",
       "<tr>\n",
       "  <th>Rep_3</th>       <td>    0.9710</td> <td>    0.001</td> <td> 1469.306</td> <td> 0.000</td> <td>    0.970</td> <td>    0.972</td>\n",
       "</tr>\n",
       "<tr>\n",
       "  <th>Rep_4</th>       <td>    0.9710</td> <td>    0.001</td> <td> 1469.306</td> <td> 0.000</td> <td>    0.970</td> <td>    0.972</td>\n",
       "</tr>\n",
       "<tr>\n",
       "  <th>Rep_5</th>       <td>    0.9710</td> <td>    0.001</td> <td> 1469.306</td> <td> 0.000</td> <td>    0.970</td> <td>    0.972</td>\n",
       "</tr>\n",
       "<tr>\n",
       "  <th>Rep_6</th>       <td>    0.9710</td> <td>    0.001</td> <td> 1469.306</td> <td> 0.000</td> <td>    0.970</td> <td>    0.972</td>\n",
       "</tr>\n",
       "<tr>\n",
       "  <th>Rep_7</th>       <td>    0.9710</td> <td>    0.001</td> <td> 1469.306</td> <td> 0.000</td> <td>    0.970</td> <td>    0.972</td>\n",
       "</tr>\n",
       "<tr>\n",
       "  <th>Rep_8</th>       <td>    0.9710</td> <td>    0.001</td> <td> 1469.306</td> <td> 0.000</td> <td>    0.970</td> <td>    0.972</td>\n",
       "</tr>\n",
       "<tr>\n",
       "  <th>Rep_9</th>       <td>    0.2616</td> <td>    0.004</td> <td>   59.455</td> <td> 0.000</td> <td>    0.253</td> <td>    0.270</td>\n",
       "</tr>\n",
       "<tr>\n",
       "  <th>Rep_10</th>      <td>    0.7928</td> <td>    0.003</td> <td>  255.599</td> <td> 0.000</td> <td>    0.787</td> <td>    0.799</td>\n",
       "</tr>\n",
       "<tr>\n",
       "  <th>Asc_Dig_2</th>   <td>    0.0342</td> <td>    0.000</td> <td>  135.202</td> <td> 0.000</td> <td>    0.034</td> <td>    0.035</td>\n",
       "</tr>\n",
       "<tr>\n",
       "  <th>Asc_Dig_3</th>   <td>    0.2514</td> <td>    0.001</td> <td>  464.167</td> <td> 0.000</td> <td>    0.250</td> <td>    0.253</td>\n",
       "</tr>\n",
       "<tr>\n",
       "  <th>Asc_Dig_4</th>   <td>    0.0569</td> <td>    0.001</td> <td>   43.930</td> <td> 0.000</td> <td>    0.054</td> <td>    0.059</td>\n",
       "</tr>\n",
       "<tr>\n",
       "  <th>Asc_Dig_5</th>   <td>    0.0180</td> <td>    0.002</td> <td>    9.322</td> <td> 0.000</td> <td>    0.014</td> <td>    0.022</td>\n",
       "</tr>\n",
       "<tr>\n",
       "  <th>Asc_Dig_6</th>   <td>    0.1366</td> <td>    0.003</td> <td>   50.094</td> <td> 0.000</td> <td>    0.131</td> <td>    0.142</td>\n",
       "</tr>\n",
       "<tr>\n",
       "  <th>Asc_Dig_7</th>   <td>    0.2898</td> <td>    0.004</td> <td>   82.756</td> <td> 0.000</td> <td>    0.283</td> <td>    0.297</td>\n",
       "</tr>\n",
       "<tr>\n",
       "  <th>Asc_Dig_8</th>   <td>   -0.0914</td> <td>    0.004</td> <td>  -20.474</td> <td> 0.000</td> <td>   -0.100</td> <td>   -0.083</td>\n",
       "</tr>\n",
       "<tr>\n",
       "  <th>Asc_Dig_9</th>   <td>    0.0673</td> <td>    0.004</td> <td>   16.438</td> <td> 0.000</td> <td>    0.059</td> <td>    0.075</td>\n",
       "</tr>\n",
       "<tr>\n",
       "  <th>Asc_Dig_10</th>  <td>    0.8518</td> <td>    0.008</td> <td>  101.997</td> <td> 0.000</td> <td>    0.835</td> <td>    0.868</td>\n",
       "</tr>\n",
       "<tr>\n",
       "  <th>Dsc_Dig_2</th>   <td>    0.0993</td> <td>    0.000</td> <td>  379.622</td> <td> 0.000</td> <td>    0.099</td> <td>    0.100</td>\n",
       "</tr>\n",
       "<tr>\n",
       "  <th>Dsc_Dig_3</th>   <td>    0.1876</td> <td>    0.001</td> <td>  342.977</td> <td> 0.000</td> <td>    0.187</td> <td>    0.189</td>\n",
       "</tr>\n",
       "<tr>\n",
       "  <th>Dsc_Dig_4</th>   <td>    0.0134</td> <td>    0.003</td> <td>    4.257</td> <td> 0.000</td> <td>    0.007</td> <td>    0.020</td>\n",
       "</tr>\n",
       "<tr>\n",
       "  <th>Dsc_Dig_5</th>   <td>    0.2467</td> <td>    0.005</td> <td>   48.480</td> <td> 0.000</td> <td>    0.237</td> <td>    0.257</td>\n",
       "</tr>\n",
       "<tr>\n",
       "  <th>Dsc_Dig_6</th>   <td>   -0.3518</td> <td>    0.010</td> <td>  -33.738</td> <td> 0.000</td> <td>   -0.372</td> <td>   -0.331</td>\n",
       "</tr>\n",
       "<tr>\n",
       "  <th>Dsc_Dig_7</th>   <td>    0.2103</td> <td>    0.012</td> <td>   17.801</td> <td> 0.000</td> <td>    0.187</td> <td>    0.233</td>\n",
       "</tr>\n",
       "<tr>\n",
       "  <th>Dsc_Dig_8</th>   <td>   -0.3768</td> <td>    0.013</td> <td>  -28.059</td> <td> 0.000</td> <td>   -0.403</td> <td>   -0.350</td>\n",
       "</tr>\n",
       "<tr>\n",
       "  <th>Dsc_Dig_9</th>   <td>    0.5509</td> <td>    0.013</td> <td>   43.743</td> <td> 0.000</td> <td>    0.526</td> <td>    0.576</td>\n",
       "</tr>\n",
       "<tr>\n",
       "  <th>Dsc_Dig_10</th>  <td> 2.047e-16</td> <td> 4.18e-17</td> <td>    4.897</td> <td> 0.000</td> <td> 1.23e-16</td> <td> 2.87e-16</td>\n",
       "</tr>\n",
       "<tr>\n",
       "  <th>Asc_Let_2</th>   <td>    0.0141</td> <td>    0.000</td> <td>   52.657</td> <td> 0.000</td> <td>    0.014</td> <td>    0.015</td>\n",
       "</tr>\n",
       "<tr>\n",
       "  <th>Asc_Let_3</th>   <td>   -0.0437</td> <td>    0.001</td> <td>  -31.844</td> <td> 0.000</td> <td>   -0.046</td> <td>   -0.041</td>\n",
       "</tr>\n",
       "<tr>\n",
       "  <th>Asc_Let_4</th>   <td>    0.4345</td> <td>    0.010</td> <td>   42.234</td> <td> 0.000</td> <td>    0.414</td> <td>    0.455</td>\n",
       "</tr>\n",
       "<tr>\n",
       "  <th>Asc_Let_5</th>   <td>   -2.3596</td> <td>    0.049</td> <td>  -47.977</td> <td> 0.000</td> <td>   -2.456</td> <td>   -2.263</td>\n",
       "</tr>\n",
       "<tr>\n",
       "  <th>Asc_Let_6</th>   <td>    1.8973</td> <td>    0.049</td> <td>   38.804</td> <td> 0.000</td> <td>    1.801</td> <td>    1.993</td>\n",
       "</tr>\n",
       "<tr>\n",
       "  <th>Asc_Let_7</th>   <td>    0.1533</td> <td>    0.004</td> <td>   41.579</td> <td> 0.000</td> <td>    0.146</td> <td>    0.161</td>\n",
       "</tr>\n",
       "<tr>\n",
       "  <th>Asc_Let_8</th>   <td>    0.1533</td> <td>    0.004</td> <td>   41.579</td> <td> 0.000</td> <td>    0.146</td> <td>    0.161</td>\n",
       "</tr>\n",
       "<tr>\n",
       "  <th>Asc_Let_9</th>   <td>    0.1533</td> <td>    0.004</td> <td>   41.579</td> <td> 0.000</td> <td>    0.146</td> <td>    0.161</td>\n",
       "</tr>\n",
       "<tr>\n",
       "  <th>Asc_Let_10</th>  <td>    0.1533</td> <td>    0.004</td> <td>   41.579</td> <td> 0.000</td> <td>    0.146</td> <td>    0.161</td>\n",
       "</tr>\n",
       "<tr>\n",
       "  <th>Dsc_Let_2</th>   <td>    0.0167</td> <td>    0.000</td> <td>   60.225</td> <td> 0.000</td> <td>    0.016</td> <td>    0.017</td>\n",
       "</tr>\n",
       "<tr>\n",
       "  <th>Dsc_Let_3</th>   <td>   -0.0887</td> <td>    0.002</td> <td>  -53.811</td> <td> 0.000</td> <td>   -0.092</td> <td>   -0.085</td>\n",
       "</tr>\n",
       "<tr>\n",
       "  <th>Dsc_Let_4</th>   <td>   -0.0334</td> <td>    0.007</td> <td>   -4.641</td> <td> 0.000</td> <td>   -0.048</td> <td>   -0.019</td>\n",
       "</tr>\n",
       "<tr>\n",
       "  <th>Dsc_Let_5</th>   <td>   -0.0334</td> <td>    0.007</td> <td>   -4.641</td> <td> 0.000</td> <td>   -0.048</td> <td>   -0.019</td>\n",
       "</tr>\n",
       "<tr>\n",
       "  <th>Dsc_Let_6</th>   <td>   -0.0334</td> <td>    0.007</td> <td>   -4.641</td> <td> 0.000</td> <td>   -0.048</td> <td>   -0.019</td>\n",
       "</tr>\n",
       "<tr>\n",
       "  <th>Dsc_Let_7</th>   <td>   -0.8169</td> <td>    0.039</td> <td>  -20.690</td> <td> 0.000</td> <td>   -0.894</td> <td>   -0.740</td>\n",
       "</tr>\n",
       "<tr>\n",
       "  <th>Dsc_Let_8</th>   <td>   -0.5336</td> <td>    0.055</td> <td>   -9.671</td> <td> 0.000</td> <td>   -0.642</td> <td>   -0.425</td>\n",
       "</tr>\n",
       "<tr>\n",
       "  <th>Dsc_Let_9</th>   <td>   -1.8030</td> <td>    0.120</td> <td>  -15.080</td> <td> 0.000</td> <td>   -2.037</td> <td>   -1.569</td>\n",
       "</tr>\n",
       "<tr>\n",
       "  <th>Dsc_Let_10</th>  <td>         0</td> <td>        0</td> <td>      nan</td> <td>   nan</td> <td>        0</td> <td>        0</td>\n",
       "</tr>\n",
       "</table>"
      ],
      "text/plain": [
       "<class 'statsmodels.iolib.summary.Summary'>\n",
       "\"\"\"\n",
       "                 Generalized Linear Model Regression Results                  \n",
       "==============================================================================\n",
       "Dep. Variable:                  Total   No. Observations:                61160\n",
       "Model:                            GLM   Df Residuals:                    61120\n",
       "Model Family:                 Poisson   Df Model:                           39\n",
       "Link Function:                    log   Scale:                          1.0000\n",
       "Method:                          IRLS   Log-Likelihood:            -4.7477e+07\n",
       "Date:                Fri, 08 May 2020   Deviance:                   9.4392e+07\n",
       "Time:                        11:47:21   Pearson chi2:                 9.86e+07\n",
       "No. Iterations:                    69                                         \n",
       "Covariance Type:            nonrobust                                         \n",
       "===============================================================================\n",
       "                  coef    std err          z      P>|z|      [0.025      0.975]\n",
       "-------------------------------------------------------------------------------\n",
       "Intercept       0.9710      0.001   1469.306      0.000       0.970       0.972\n",
       "Length         -0.0427   7.56e-05   -565.298      0.000      -0.043      -0.043\n",
       "Length_Pp      -0.0021   3.78e-06   -565.298      0.000      -0.002      -0.002\n",
       "Only_Let        0.3378      0.005     64.350      0.000       0.327       0.348\n",
       "Only_Dig        0.1670      0.005     31.813      0.000       0.157       0.177\n",
       "Only_Spc        1.1093      0.015     75.503      0.000       1.080       1.138\n",
       "Let_And_Dig     0.5551      0.005    105.725      0.000       0.545       0.565\n",
       "Let_And_Spc     0.6565      0.006    107.655      0.000       0.645       0.668\n",
       "Dig_And_Spc     0.6519      0.008     84.070      0.000       0.637       0.667\n",
       "Date         1.262e-15   2.76e-17     45.810      0.000    1.21e-15    1.32e-15\n",
       "Year           -0.4885      0.001   -394.539      0.000      -0.491      -0.486\n",
       "Rep_2           0.9710      0.001   1469.306      0.000       0.970       0.972\n",
       "Rep_3           0.9710      0.001   1469.306      0.000       0.970       0.972\n",
       "Rep_4           0.9710      0.001   1469.306      0.000       0.970       0.972\n",
       "Rep_5           0.9710      0.001   1469.306      0.000       0.970       0.972\n",
       "Rep_6           0.9710      0.001   1469.306      0.000       0.970       0.972\n",
       "Rep_7           0.9710      0.001   1469.306      0.000       0.970       0.972\n",
       "Rep_8           0.9710      0.001   1469.306      0.000       0.970       0.972\n",
       "Rep_9           0.2616      0.004     59.455      0.000       0.253       0.270\n",
       "Rep_10          0.7928      0.003    255.599      0.000       0.787       0.799\n",
       "Asc_Dig_2       0.0342      0.000    135.202      0.000       0.034       0.035\n",
       "Asc_Dig_3       0.2514      0.001    464.167      0.000       0.250       0.253\n",
       "Asc_Dig_4       0.0569      0.001     43.930      0.000       0.054       0.059\n",
       "Asc_Dig_5       0.0180      0.002      9.322      0.000       0.014       0.022\n",
       "Asc_Dig_6       0.1366      0.003     50.094      0.000       0.131       0.142\n",
       "Asc_Dig_7       0.2898      0.004     82.756      0.000       0.283       0.297\n",
       "Asc_Dig_8      -0.0914      0.004    -20.474      0.000      -0.100      -0.083\n",
       "Asc_Dig_9       0.0673      0.004     16.438      0.000       0.059       0.075\n",
       "Asc_Dig_10      0.8518      0.008    101.997      0.000       0.835       0.868\n",
       "Dsc_Dig_2       0.0993      0.000    379.622      0.000       0.099       0.100\n",
       "Dsc_Dig_3       0.1876      0.001    342.977      0.000       0.187       0.189\n",
       "Dsc_Dig_4       0.0134      0.003      4.257      0.000       0.007       0.020\n",
       "Dsc_Dig_5       0.2467      0.005     48.480      0.000       0.237       0.257\n",
       "Dsc_Dig_6      -0.3518      0.010    -33.738      0.000      -0.372      -0.331\n",
       "Dsc_Dig_7       0.2103      0.012     17.801      0.000       0.187       0.233\n",
       "Dsc_Dig_8      -0.3768      0.013    -28.059      0.000      -0.403      -0.350\n",
       "Dsc_Dig_9       0.5509      0.013     43.743      0.000       0.526       0.576\n",
       "Dsc_Dig_10   2.047e-16   4.18e-17      4.897      0.000    1.23e-16    2.87e-16\n",
       "Asc_Let_2       0.0141      0.000     52.657      0.000       0.014       0.015\n",
       "Asc_Let_3      -0.0437      0.001    -31.844      0.000      -0.046      -0.041\n",
       "Asc_Let_4       0.4345      0.010     42.234      0.000       0.414       0.455\n",
       "Asc_Let_5      -2.3596      0.049    -47.977      0.000      -2.456      -2.263\n",
       "Asc_Let_6       1.8973      0.049     38.804      0.000       1.801       1.993\n",
       "Asc_Let_7       0.1533      0.004     41.579      0.000       0.146       0.161\n",
       "Asc_Let_8       0.1533      0.004     41.579      0.000       0.146       0.161\n",
       "Asc_Let_9       0.1533      0.004     41.579      0.000       0.146       0.161\n",
       "Asc_Let_10      0.1533      0.004     41.579      0.000       0.146       0.161\n",
       "Dsc_Let_2       0.0167      0.000     60.225      0.000       0.016       0.017\n",
       "Dsc_Let_3      -0.0887      0.002    -53.811      0.000      -0.092      -0.085\n",
       "Dsc_Let_4      -0.0334      0.007     -4.641      0.000      -0.048      -0.019\n",
       "Dsc_Let_5      -0.0334      0.007     -4.641      0.000      -0.048      -0.019\n",
       "Dsc_Let_6      -0.0334      0.007     -4.641      0.000      -0.048      -0.019\n",
       "Dsc_Let_7      -0.8169      0.039    -20.690      0.000      -0.894      -0.740\n",
       "Dsc_Let_8      -0.5336      0.055     -9.671      0.000      -0.642      -0.425\n",
       "Dsc_Let_9      -1.8030      0.120    -15.080      0.000      -2.037      -1.569\n",
       "Dsc_Let_10           0          0        nan        nan           0           0\n",
       "===============================================================================\n",
       "\"\"\""
      ]
     },
     "execution_count": 87,
     "metadata": {},
     "output_type": "execute_result"
    }
   ],
   "source": [
    "# Print poisson train results\n",
    "pois_trn_res = sm.GLM(pois_y_train, pois_X_train, family=sm.families.Poisson()).fit()\n",
    "\n",
    "pois_trn_res.summary()"
   ]
  },
  {
   "cell_type": "code",
   "execution_count": 85,
   "metadata": {
    "scrolled": true
   },
   "outputs": [
    {
     "data": {
      "text/html": [
       "<div>\n",
       "<style scoped>\n",
       "    .dataframe tbody tr th:only-of-type {\n",
       "        vertical-align: middle;\n",
       "    }\n",
       "\n",
       "    .dataframe tbody tr th {\n",
       "        vertical-align: top;\n",
       "    }\n",
       "\n",
       "    .dataframe thead th {\n",
       "        text-align: right;\n",
       "    }\n",
       "</style>\n",
       "<table border=\"1\" class=\"dataframe\">\n",
       "  <thead>\n",
       "    <tr style=\"text-align: right;\">\n",
       "      <th></th>\n",
       "      <th>mean</th>\n",
       "      <th>mean_se</th>\n",
       "      <th>mean_ci_lower</th>\n",
       "      <th>mean_ci_upper</th>\n",
       "    </tr>\n",
       "  </thead>\n",
       "  <tbody>\n",
       "    <tr>\n",
       "      <th>9563</th>\n",
       "      <td>3024.534180</td>\n",
       "      <td>0.947674</td>\n",
       "      <td>3022.677343</td>\n",
       "      <td>3026.392158</td>\n",
       "    </tr>\n",
       "    <tr>\n",
       "      <th>9564</th>\n",
       "      <td>2562.327471</td>\n",
       "      <td>0.420130</td>\n",
       "      <td>2561.504163</td>\n",
       "      <td>2563.151043</td>\n",
       "    </tr>\n",
       "    <tr>\n",
       "      <th>9570</th>\n",
       "      <td>2454.854860</td>\n",
       "      <td>0.362831</td>\n",
       "      <td>2454.143827</td>\n",
       "      <td>2455.566099</td>\n",
       "    </tr>\n",
       "    <tr>\n",
       "      <th>9573</th>\n",
       "      <td>2454.854860</td>\n",
       "      <td>0.362831</td>\n",
       "      <td>2454.143827</td>\n",
       "      <td>2455.566099</td>\n",
       "    </tr>\n",
       "    <tr>\n",
       "      <th>9580</th>\n",
       "      <td>2351.890012</td>\n",
       "      <td>0.395627</td>\n",
       "      <td>2351.114724</td>\n",
       "      <td>2352.665555</td>\n",
       "    </tr>\n",
       "  </tbody>\n",
       "</table>\n",
       "</div>"
      ],
      "text/plain": [
       "             mean   mean_se  mean_ci_lower  mean_ci_upper\n",
       "9563  3024.534180  0.947674    3022.677343    3026.392158\n",
       "9564  2562.327471  0.420130    2561.504163    2563.151043\n",
       "9570  2454.854860  0.362831    2454.143827    2455.566099\n",
       "9573  2454.854860  0.362831    2454.143827    2455.566099\n",
       "9580  2351.890012  0.395627    2351.114724    2352.665555"
      ]
     },
     "execution_count": 85,
     "metadata": {},
     "output_type": "execute_result"
    }
   ],
   "source": [
    "# Create poisson predictions and predictions dataframe\n",
    "pois_pred = pois_trn_res.get_prediction(pois_X_test)\n",
    "pois_pred_df = pois_pred.summary_frame()\n",
    "\n",
    "pois_pred_df.head()"
   ]
  },
  {
   "cell_type": "markdown",
   "metadata": {},
   "source": [
    "# Visualizations"
   ]
  },
  {
   "cell_type": "code",
   "execution_count": 91,
   "metadata": {},
   "outputs": [
    {
     "data": {
      "image/png": "[encoded data removed]",
      "text/plain": [
       "<Figure size 720x432 with 1 Axes>"
      ]
     },
     "metadata": {
      "needs_background": "dark"
     },
     "output_type": "display_data"
    }
   ],
   "source": [
    "# Create poisson predicted and actual pwned totals to be plotted\n",
    "pois_pred_cnt = pois_pred_df['mean']\n",
    "pois_act_cnt = pois_y_test['Total']\n",
    "\n",
    "# Plot poisson predicted vs actual pwned totals\n",
    "pois_fig = plt.figure(figsize=(10,6))\n",
    "pois_fig.suptitle('Poisson Predicted vs Actual\\nTotal Times Password Pwned')\n",
    "pois_pred_plt, = plt.plot(pois_X_test.index, pois_pred_cnt, 'go-', label='Predicted')\n",
    "pois_act_plt, = plt.plot(pois_X_test.index, pois_act_cnt, 'ro-', label='Actual')\n",
    "plt.xlabel('Index')\n",
    "plt.ylabel('Times Pwned')\n",
    "plt.legend(handles=[pois_pred_plt, pois_act_plt])\n",
    "plt.show()"
   ]
  },
  {
   "cell_type": "code",
   "execution_count": 92,
   "metadata": {},
   "outputs": [],
   "source": [
    "# # Save poisson figure\n",
    "# pois_fig.savefig('Visualizations/poisson.png', dpi=300)"
   ]
  },
  {
   "cell_type": "code",
   "execution_count": 116,
   "metadata": {},
   "outputs": [
    {
     "data": {
      "text/plain": [
       "[Text(0, 0.5, 'Frequency'),\n",
       " Text(0.5, 0, 'Times Pwned'),\n",
       " Text(0.5, 1.0, 'Distribution: Number of Times\\nPasswords Pwned')]"
      ]
     },
     "execution_count": 116,
     "metadata": {},
     "output_type": "execute_result"
    },
    {
     "data": {
      "image/png": "[encoded data removed]",
      "text/plain": [
       "<Figure size 720x432 with 1 Axes>"
      ]
     },
     "metadata": {
      "needs_background": "dark"
     },
     "output_type": "display_data"
    }
   ],
   "source": [
    "fig, ax = plt.subplots(figsize=(10,6))\n",
    "ax = sns.distplot(df['Total'])\n",
    "ax.set(title='Distribution: Number of Times\\nPasswords Pwned',\n",
    "       xlabel='Times Pwned', ylabel='Frequency')"
   ]
  },
  {
   "cell_type": "code",
   "execution_count": 117,
   "metadata": {},
   "outputs": [],
   "source": [
    "fig.savefig('Visualizations/pwned_dist.png', dpi=300)"
   ]
  },
  {
   "cell_type": "markdown",
   "metadata": {},
   "source": [
    "Distribution is skewed right."
   ]
  },
  {
   "cell_type": "code",
   "execution_count": 97,
   "metadata": {},
   "outputs": [
    {
     "data": {
      "text/plain": [
       "Text(0, 0.5, 'Times Pwned (Mean)')"
      ]
     },
     "execution_count": 97,
     "metadata": {},
     "output_type": "execute_result"
    },
    {
     "data": {
      "image/png": "[encoded data removed]",
      "text/plain": [
       "<Figure size 720x432 with 1 Axes>"
      ]
     },
     "metadata": {
      "needs_background": "dark"
     },
     "output_type": "display_data"
    }
   ],
   "source": [
    "# Plot mean total times pwned by password length\n",
    "fig, ax = plt.subplots(figsize=(10,6))\n",
    "ax = df.groupby('Length')['Total'].mean().iloc[:-2].plot(\n",
    "    kind='bar', title='Total Times Password Pwned (Mean)\\nby Password Length')\n",
    "ax.set_xlabel('Password Length')\n",
    "ax.set_ylabel('Times Pwned (Mean)')"
   ]
  },
  {
   "cell_type": "code",
   "execution_count": 98,
   "metadata": {},
   "outputs": [],
   "source": [
    "# # Save figure\n",
    "# fig.savefig('Visualizations/mean_pwned_by_length', dpi=300)"
   ]
  },
  {
   "cell_type": "code",
   "execution_count": 107,
   "metadata": {},
   "outputs": [
    {
     "data": {
      "image/png": "[encoded data removed]",
      "text/plain": [
       "<Figure size 720x432 with 1 Axes>"
      ]
     },
     "metadata": {
      "needs_background": "dark"
     },
     "output_type": "display_data"
    }
   ],
   "source": [
    "# Plot the distribution of pwned password lengths\n",
    "fig, ax = plt.subplots(figsize=(10,6))\n",
    "ax = sns.countplot(x='Length', data=df)\n",
    "title='Distribution of Pwned Password Lengths'"
   ]
  },
  {
   "cell_type": "code",
   "execution_count": null,
   "metadata": {},
   "outputs": [],
   "source": []
  },
  {
   "cell_type": "code",
   "execution_count": null,
   "metadata": {},
   "outputs": [],
   "source": []
  },
  {
   "cell_type": "code",
   "execution_count": 27,
   "metadata": {},
   "outputs": [
    {
     "data": {
      "text/plain": [
       "<matplotlib.axes._subplots.AxesSubplot at 0x1a27f75fd0>"
      ]
     },
     "execution_count": 27,
     "metadata": {},
     "output_type": "execute_result"
    },
    {
     "data": {
      "image/png": "[encoded data removed]",
      "text/plain": [
       "<Figure size 432x288 with 1 Axes>"
      ]
     },
     "metadata": {
      "needs_background": "dark"
     },
     "output_type": "display_data"
    }
   ],
   "source": [
    "df['Length'].sort_values().plot(kind='hist')"
   ]
  },
  {
   "cell_type": "code",
   "execution_count": 59,
   "metadata": {},
   "outputs": [],
   "source": [
    "# Plot total pwned by repeated characters\n",
    "plot_df = df.copy(deep=True)\n",
    "plot_cond = [plot_df['Rep_2']==1, plot_df['Rep_3']==1, plot_df['Rep_4']==1,\n",
    "                   plot_df['Rep_5']==1, plot_df['Rep_6']==1, plot_df['Rep_7']==1,\n",
    "                   plot_df['Rep_8']==1]\n",
    "plot_chce = ['Two', 'Three', 'Four', 'Five', 'Six', 'Seven', 'Eight']\n",
    "plot_df['Plot'] = np.select(plot_cond, plot_chce, 'Other')"
   ]
  },
  {
   "cell_type": "code",
   "execution_count": 61,
   "metadata": {},
   "outputs": [
    {
     "data": {
      "image/png": "[encoded data removed]",
      "text/plain": [
       "<Figure size 720x432 with 1 Axes>"
      ]
     },
     "metadata": {
      "needs_background": "dark"
     },
     "output_type": "display_data"
    }
   ],
   "source": [
    "fig, ax = plt.subplots(figsize=(10,6))\n",
    "ax = sns.countplot(x='Total', data=plot_df)\n",
    "plt.show()"
   ]
  },
  {
   "cell_type": "code",
   "execution_count": 60,
   "metadata": {},
   "outputs": [
    {
     "ename": "SyntaxError",
     "evalue": "invalid syntax (<ipython-input-60-abf1e7847fd0>, line 3)",
     "output_type": "error",
     "traceback": [
      "\u001b[0;36m  File \u001b[0;32m\"<ipython-input-60-abf1e7847fd0>\"\u001b[0;36m, line \u001b[0;32m3\u001b[0m\n\u001b[0;31m    ax = sns.countplot(x=\"channels\", data=dropped_news, palette='Set1') plt.title('Number of Shares per Article Genre')\u001b[0m\n\u001b[0m                                                                          ^\u001b[0m\n\u001b[0;31mSyntaxError\u001b[0m\u001b[0;31m:\u001b[0m invalid syntax\n"
     ]
    }
   ],
   "source": [
    "fig, ax = plt.subplots(figsize=(8,6))\n",
    "# sns.set_context('notebook')\n",
    "ax = sns.countplot(x=\"channels\", data=dropped_news, palette='Set1')\n",
    "plt.title('Number of Shares per Article Genre')\n",
    "plt.xlabel('Genres')\n",
    "plt.ylabel('Number of Shares')"
   ]
  },
  {
   "cell_type": "code",
   "execution_count": null,
   "metadata": {},
   "outputs": [],
   "source": []
  },
  {
   "cell_type": "code",
   "execution_count": 29,
   "metadata": {
    "scrolled": true
   },
   "outputs": [
    {
     "data": {
      "text/plain": [
       "9559     Two\n",
       "9560     Two\n",
       "9561     Two\n",
       "9562     Two\n",
       "9563     Two\n",
       "9564     Two\n",
       "9565     Two\n",
       "9566     Two\n",
       "9567     Two\n",
       "9568     Two\n",
       "9569     Two\n",
       "9570     Two\n",
       "9571     Two\n",
       "9572     Two\n",
       "9573     Two\n",
       "9574     Two\n",
       "9575     Two\n",
       "9576     Two\n",
       "9577     Two\n",
       "9578     Two\n",
       "9579     Two\n",
       "9580     Two\n",
       "9581     Two\n",
       "9582     Two\n",
       "9583     Two\n",
       "9584     Two\n",
       "9585     Two\n",
       "9586     Two\n",
       "9587     Two\n",
       "9588     Two\n",
       "        ... \n",
       "86110    Two\n",
       "86111    Two\n",
       "86112    Two\n",
       "86113    Two\n",
       "86114    Two\n",
       "86115    Two\n",
       "86116    Two\n",
       "86117    Two\n",
       "86118    Two\n",
       "86119    Two\n",
       "86120    Two\n",
       "86121    Two\n",
       "86122    Two\n",
       "86123    Two\n",
       "86124    Two\n",
       "86125    Two\n",
       "86126    Two\n",
       "86127    Two\n",
       "86128    Two\n",
       "86129    Two\n",
       "86130    Two\n",
       "86131    Two\n",
       "86132    Two\n",
       "86133    Two\n",
       "86134    Two\n",
       "86135    Two\n",
       "86136    Two\n",
       "86137    Two\n",
       "86138    Two\n",
       "86139    Two\n",
       "Name: channels, Length: 76581, dtype: object"
      ]
     },
     "execution_count": 29,
     "metadata": {},
     "output_type": "execute_result"
    }
   ],
   "source": []
  },
  {
   "cell_type": "code",
   "execution_count": null,
   "metadata": {},
   "outputs": [],
   "source": []
  }
 ],
 "metadata": {
  "kernelspec": {
   "display_name": "Python 3",
   "language": "python",
   "name": "python3"
  },
  "language_info": {
   "codemirror_mode": {
    "name": "ipython",
    "version": 3
   },
   "file_extension": ".py",
   "mimetype": "text/x-python",
   "name": "python",
   "nbconvert_exporter": "python",
   "pygments_lexer": "ipython3",
   "version": "3.7.6"
  }
 },
 "nbformat": 4,
 "nbformat_minor": 4
}
